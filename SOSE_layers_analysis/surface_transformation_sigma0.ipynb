{
 "metadata": {
  "name": "",
  "signature": "sha256:99fff9bfd5014587c76dcf8437f501bc4af3a063cdadb31308f26772bb4ebf6b"
 },
 "nbformat": 3,
 "nbformat_minor": 0,
 "worksheets": [
  {
   "cells": [
    {
     "cell_type": "code",
     "collapsed": false,
     "input": [
      "import numpy as np\n",
      "from matplotlib import pyplot as plt\n",
      "import matplotlib\n",
      "import brewer2mpl\n",
      "from mitgcmdata import MITgcmmodel\n",
      "from jmd95 import eos\n",
      "\n",
      "%matplotlib inline\n",
      "plt.rcParams['image.origin'] = 'bottom'\n",
      "plt.rcParams['figure.figsize'] = (16,8)\n",
      "\n",
      "\n",
      "bmap = brewer2mpl.get_map('Set1', 'Qualitative', 6)\n",
      "plt.rcParams['axes.color_cycle'] = bmap.mpl_colors\n"
     ],
     "language": "python",
     "metadata": {},
     "outputs": [],
     "prompt_number": 4
    },
    {
     "cell_type": "code",
     "collapsed": false,
     "input": [
      "ddir = '/glade/scratch/rpa/SOSE/run_matt'\n",
      "\n",
      "m = MITgcmmodel.ModelInstance(output_dir=ddir)\n"
     ],
     "language": "python",
     "metadata": {},
     "outputs": [
      {
       "output_type": "stream",
       "stream": "stderr",
       "text": [
        "/glade/scratch/rpa/SOSE/run_matt/XC.meta\n",
        "/glade/scratch/rpa/SOSE/run_matt/XG.meta\n"
       ]
      },
      {
       "output_type": "stream",
       "stream": "stderr",
       "text": [
        "/glade/scratch/rpa/SOSE/run_matt/YC.meta\n",
        "/glade/scratch/rpa/SOSE/run_matt/YG.meta\n"
       ]
      },
      {
       "output_type": "stream",
       "stream": "stderr",
       "text": [
        "/glade/scratch/rpa/SOSE/run_matt/DYC.meta\n",
        "/glade/scratch/rpa/SOSE/run_matt/DYG.meta\n"
       ]
      },
      {
       "output_type": "stream",
       "stream": "stderr",
       "text": [
        "/glade/scratch/rpa/SOSE/run_matt/DXC.meta\n",
        "/glade/scratch/rpa/SOSE/run_matt/DXG.meta\n"
       ]
      },
      {
       "output_type": "stream",
       "stream": "stderr",
       "text": [
        "/glade/scratch/rpa/SOSE/run_matt/RAC.meta\n",
        "/glade/scratch/rpa/SOSE/run_matt/RC.meta\n"
       ]
      },
      {
       "output_type": "stream",
       "stream": "stderr",
       "text": [
        "/glade/scratch/rpa/SOSE/run_matt/RF.meta\n",
        "/glade/scratch/rpa/SOSE/run_matt/DRC.meta\n",
        "/glade/scratch/rpa/SOSE/run_matt/DRF.meta\n"
       ]
      },
      {
       "output_type": "stream",
       "stream": "stderr",
       "text": [
        "/glade/scratch/rpa/SOSE/run_matt/Depth.meta\n",
        "/glade/scratch/rpa/SOSE/run_matt/hFacC.meta\n"
       ]
      },
      {
       "output_type": "stream",
       "stream": "stderr",
       "text": [
        "/glade/scratch/rpa/SOSE/run_matt/hFacS.meta\n",
        "/glade/scratch/rpa/SOSE/run_matt/hFacW.meta\n"
       ]
      },
      {
       "output_type": "stream",
       "stream": "stdout",
       "text": [
        "2160 320  42\n"
       ]
      }
     ],
     "prompt_number": 5
    },
    {
     "cell_type": "markdown",
     "metadata": {},
     "source": [
      "## data.diagnostics ##\n",
      "\n",
      "    frequency(1) = 2629200.0,\n",
      "    fields(1,1) = 'SIarea  ',\n",
      "                 'SIheff  ',\n",
      "                 'SIhsnow ',\n",
      "                 'SItflux ',\n",
      "                 'SIatmQnt',\n",
      "                 'SIempmr ',\n",
      "                 'SIatmFW ',\n",
      "                 'SIuheff ',\n",
      "                 'SIvheff ',\n",
      "                 'TFLUX   ',\n",
      "                 'SFLUX   ',\n",
      "                 'THETA   ',\n",
      "                 'SALT    ',\n",
      "    levels(1,1) = 1,\n",
      "    filename(1) = 'DiagIce-monthly',\n",
      "\n",
      "\n"
     ]
    },
    {
     "cell_type": "code",
     "collapsed": false,
     "input": [
      "# monthly stuff\n",
      "deltaT = 900\n",
      "diag_freq = 2629200.\n",
      "diag_delta_iter = diag_freq/deltaT\n",
      "\n",
      "ntimesteps = 210336\n",
      "diag_iters = np.round(np.arange(diag_delta_iter, ntimesteps+1, diag_delta_iter)).astype('i4')\n",
      "Nt = len(diag_iters)\n",
      "# starts in January\n",
      "months = np.tile(np.arange(1,13), Nt/12)\n",
      "\n",
      "# season definitions\n",
      "# easy because we want to start with january\n",
      "season = np.tile(np.repeat(np.arange(4),3), Nt/12)\n",
      "season_names = ['JFM', 'AMJ', 'JAS', 'OND']\n",
      "season_idx = {}\n",
      "for n,s in enumerate(season_names):\n",
      "    season_idx[s] = list(diag_iters[season==n])"
     ],
     "language": "python",
     "metadata": {},
     "outputs": [],
     "prompt_number": 6
    },
    {
     "cell_type": "code",
     "collapsed": false,
     "input": [
      "diag_names = ['SIarea', 'SIheff', 'SIhsnow', 'SItflux', 'SIatmQnt', 'SIempmr',\n",
      "             'SIatmFW', 'SIuheff', 'SIvheff', 'TFLUX', 'SFLUX', 'THETA', 'SALT']\n",
      "diag_prefix = 'DiagIce-monthly'\n",
      "data = dict((el,dict()) for el in diag_names)\n"
     ],
     "language": "python",
     "metadata": {},
     "outputs": [],
     "prompt_number": 7
    },
    {
     "cell_type": "code",
     "collapsed": false,
     "input": [
      "for s in season_names:\n",
      "    iters = list(season_idx[s])\n",
      "    d = m.rdmds(diag_prefix, iters).mean(axis=0)\n",
      "    for n, dn in enumerate(diag_names):\n",
      "        data[dn][s] = d[n]\n",
      "        "
     ],
     "language": "python",
     "metadata": {},
     "outputs": [
      {
       "output_type": "stream",
       "stream": "stderr",
       "text": [
        "/glade/scratch/rpa/SOSE/run_matt/DiagIce-monthly.0000002921.meta\n",
        "/glade/scratch/rpa/SOSE/run_matt/DiagIce-monthly.0000005843.meta\n"
       ]
      },
      {
       "output_type": "stream",
       "stream": "stderr",
       "text": [
        "/glade/scratch/rpa/SOSE/run_matt/DiagIce-monthly.0000008764.meta\n",
        "/glade/scratch/rpa/SOSE/run_matt/DiagIce-monthly.0000037977.meta\n"
       ]
      },
      {
       "output_type": "stream",
       "stream": "stderr",
       "text": [
        "/glade/scratch/rpa/SOSE/run_matt/DiagIce-monthly.0000040899.meta\n",
        "/glade/scratch/rpa/SOSE/run_matt/DiagIce-monthly.0000043820.meta\n"
       ]
      },
      {
       "output_type": "stream",
       "stream": "stderr",
       "text": [
        "/glade/scratch/rpa/SOSE/run_matt/DiagIce-monthly.0000073033.meta\n",
        "/glade/scratch/rpa/SOSE/run_matt/DiagIce-monthly.0000075955.meta\n"
       ]
      },
      {
       "output_type": "stream",
       "stream": "stderr",
       "text": [
        "/glade/scratch/rpa/SOSE/run_matt/DiagIce-monthly.0000078876.meta\n",
        "/glade/scratch/rpa/SOSE/run_matt/DiagIce-monthly.0000108089.meta\n"
       ]
      },
      {
       "output_type": "stream",
       "stream": "stderr",
       "text": [
        "/glade/scratch/rpa/SOSE/run_matt/DiagIce-monthly.0000111011.meta\n",
        "/glade/scratch/rpa/SOSE/run_matt/DiagIce-monthly.0000113932.meta\n"
       ]
      },
      {
       "output_type": "stream",
       "stream": "stderr",
       "text": [
        "/glade/scratch/rpa/SOSE/run_matt/DiagIce-monthly.0000143145.meta\n",
        "/glade/scratch/rpa/SOSE/run_matt/DiagIce-monthly.0000146067.meta\n"
       ]
      },
      {
       "output_type": "stream",
       "stream": "stderr",
       "text": [
        "/glade/scratch/rpa/SOSE/run_matt/DiagIce-monthly.0000148988.meta\n",
        "/glade/scratch/rpa/SOSE/run_matt/DiagIce-monthly.0000178201.meta\n"
       ]
      },
      {
       "output_type": "stream",
       "stream": "stderr",
       "text": [
        "/glade/scratch/rpa/SOSE/run_matt/DiagIce-monthly.0000181123.meta\n",
        "/glade/scratch/rpa/SOSE/run_matt/DiagIce-monthly.0000184044.meta\n"
       ]
      },
      {
       "output_type": "stream",
       "stream": "stderr",
       "text": [
        "/glade/scratch/rpa/SOSE/run_matt/DiagIce-monthly.0000011685.meta\n",
        "/glade/scratch/rpa/SOSE/run_matt/DiagIce-monthly.0000014607.meta\n"
       ]
      },
      {
       "output_type": "stream",
       "stream": "stderr",
       "text": [
        "/glade/scratch/rpa/SOSE/run_matt/DiagIce-monthly.0000017528.meta\n",
        "/glade/scratch/rpa/SOSE/run_matt/DiagIce-monthly.0000046741.meta\n"
       ]
      },
      {
       "output_type": "stream",
       "stream": "stderr",
       "text": [
        "/glade/scratch/rpa/SOSE/run_matt/DiagIce-monthly.0000049663.meta\n",
        "/glade/scratch/rpa/SOSE/run_matt/DiagIce-monthly.0000052584.meta\n"
       ]
      },
      {
       "output_type": "stream",
       "stream": "stderr",
       "text": [
        "/glade/scratch/rpa/SOSE/run_matt/DiagIce-monthly.0000081797.meta\n",
        "/glade/scratch/rpa/SOSE/run_matt/DiagIce-monthly.0000084719.meta\n"
       ]
      },
      {
       "output_type": "stream",
       "stream": "stderr",
       "text": [
        "/glade/scratch/rpa/SOSE/run_matt/DiagIce-monthly.0000087640.meta\n",
        "/glade/scratch/rpa/SOSE/run_matt/DiagIce-monthly.0000116853.meta\n"
       ]
      },
      {
       "output_type": "stream",
       "stream": "stderr",
       "text": [
        "/glade/scratch/rpa/SOSE/run_matt/DiagIce-monthly.0000119775.meta\n",
        "/glade/scratch/rpa/SOSE/run_matt/DiagIce-monthly.0000122696.meta\n"
       ]
      },
      {
       "output_type": "stream",
       "stream": "stderr",
       "text": [
        "/glade/scratch/rpa/SOSE/run_matt/DiagIce-monthly.0000151909.meta\n",
        "/glade/scratch/rpa/SOSE/run_matt/DiagIce-monthly.0000154831.meta\n"
       ]
      },
      {
       "output_type": "stream",
       "stream": "stderr",
       "text": [
        "/glade/scratch/rpa/SOSE/run_matt/DiagIce-monthly.0000157752.meta\n",
        "/glade/scratch/rpa/SOSE/run_matt/DiagIce-monthly.0000186965.meta\n"
       ]
      },
      {
       "output_type": "stream",
       "stream": "stderr",
       "text": [
        "/glade/scratch/rpa/SOSE/run_matt/DiagIce-monthly.0000189887.meta\n",
        "/glade/scratch/rpa/SOSE/run_matt/DiagIce-monthly.0000192808.meta\n"
       ]
      },
      {
       "output_type": "stream",
       "stream": "stderr",
       "text": [
        "/glade/scratch/rpa/SOSE/run_matt/DiagIce-monthly.0000020449.meta\n",
        "/glade/scratch/rpa/SOSE/run_matt/DiagIce-monthly.0000023371.meta\n"
       ]
      },
      {
       "output_type": "stream",
       "stream": "stderr",
       "text": [
        "/glade/scratch/rpa/SOSE/run_matt/DiagIce-monthly.0000026292.meta\n",
        "/glade/scratch/rpa/SOSE/run_matt/DiagIce-monthly.0000055505.meta\n"
       ]
      },
      {
       "output_type": "stream",
       "stream": "stderr",
       "text": [
        "/glade/scratch/rpa/SOSE/run_matt/DiagIce-monthly.0000058427.meta\n",
        "/glade/scratch/rpa/SOSE/run_matt/DiagIce-monthly.0000061348.meta\n"
       ]
      },
      {
       "output_type": "stream",
       "stream": "stderr",
       "text": [
        "/glade/scratch/rpa/SOSE/run_matt/DiagIce-monthly.0000090561.meta\n",
        "/glade/scratch/rpa/SOSE/run_matt/DiagIce-monthly.0000093483.meta\n"
       ]
      },
      {
       "output_type": "stream",
       "stream": "stderr",
       "text": [
        "/glade/scratch/rpa/SOSE/run_matt/DiagIce-monthly.0000096404.meta\n",
        "/glade/scratch/rpa/SOSE/run_matt/DiagIce-monthly.0000125617.meta\n"
       ]
      },
      {
       "output_type": "stream",
       "stream": "stderr",
       "text": [
        "/glade/scratch/rpa/SOSE/run_matt/DiagIce-monthly.0000128539.meta\n",
        "/glade/scratch/rpa/SOSE/run_matt/DiagIce-monthly.0000131460.meta\n"
       ]
      },
      {
       "output_type": "stream",
       "stream": "stderr",
       "text": [
        "/glade/scratch/rpa/SOSE/run_matt/DiagIce-monthly.0000160673.meta\n",
        "/glade/scratch/rpa/SOSE/run_matt/DiagIce-monthly.0000163595.meta\n"
       ]
      },
      {
       "output_type": "stream",
       "stream": "stderr",
       "text": [
        "/glade/scratch/rpa/SOSE/run_matt/DiagIce-monthly.0000166516.meta\n",
        "/glade/scratch/rpa/SOSE/run_matt/DiagIce-monthly.0000195729.meta\n"
       ]
      },
      {
       "output_type": "stream",
       "stream": "stderr",
       "text": [
        "/glade/scratch/rpa/SOSE/run_matt/DiagIce-monthly.0000198651.meta\n",
        "/glade/scratch/rpa/SOSE/run_matt/DiagIce-monthly.0000201572.meta\n"
       ]
      },
      {
       "output_type": "stream",
       "stream": "stderr",
       "text": [
        "/glade/scratch/rpa/SOSE/run_matt/DiagIce-monthly.0000029213.meta\n",
        "/glade/scratch/rpa/SOSE/run_matt/DiagIce-monthly.0000032135.meta\n"
       ]
      },
      {
       "output_type": "stream",
       "stream": "stderr",
       "text": [
        "/glade/scratch/rpa/SOSE/run_matt/DiagIce-monthly.0000035056.meta\n",
        "/glade/scratch/rpa/SOSE/run_matt/DiagIce-monthly.0000064269.meta\n"
       ]
      },
      {
       "output_type": "stream",
       "stream": "stderr",
       "text": [
        "/glade/scratch/rpa/SOSE/run_matt/DiagIce-monthly.0000067191.meta\n",
        "/glade/scratch/rpa/SOSE/run_matt/DiagIce-monthly.0000070112.meta\n"
       ]
      },
      {
       "output_type": "stream",
       "stream": "stderr",
       "text": [
        "/glade/scratch/rpa/SOSE/run_matt/DiagIce-monthly.0000099325.meta\n",
        "/glade/scratch/rpa/SOSE/run_matt/DiagIce-monthly.0000102247.meta\n"
       ]
      },
      {
       "output_type": "stream",
       "stream": "stderr",
       "text": [
        "/glade/scratch/rpa/SOSE/run_matt/DiagIce-monthly.0000105168.meta\n",
        "/glade/scratch/rpa/SOSE/run_matt/DiagIce-monthly.0000134381.meta\n"
       ]
      },
      {
       "output_type": "stream",
       "stream": "stderr",
       "text": [
        "/glade/scratch/rpa/SOSE/run_matt/DiagIce-monthly.0000137303.meta\n",
        "/glade/scratch/rpa/SOSE/run_matt/DiagIce-monthly.0000140224.meta\n"
       ]
      },
      {
       "output_type": "stream",
       "stream": "stderr",
       "text": [
        "/glade/scratch/rpa/SOSE/run_matt/DiagIce-monthly.0000169437.meta\n",
        "/glade/scratch/rpa/SOSE/run_matt/DiagIce-monthly.0000172359.meta\n"
       ]
      },
      {
       "output_type": "stream",
       "stream": "stderr",
       "text": [
        "/glade/scratch/rpa/SOSE/run_matt/DiagIce-monthly.0000175280.meta\n",
        "/glade/scratch/rpa/SOSE/run_matt/DiagIce-monthly.0000204493.meta\n"
       ]
      },
      {
       "output_type": "stream",
       "stream": "stderr",
       "text": [
        "/glade/scratch/rpa/SOSE/run_matt/DiagIce-monthly.0000207415.meta\n",
        "/glade/scratch/rpa/SOSE/run_matt/DiagIce-monthly.0000210336.meta\n"
       ]
      }
     ],
     "prompt_number": 5
    },
    {
     "cell_type": "code",
     "collapsed": false,
     "input": [
      "for dn in diag_names:\n",
      "    data[dn]['ANN'] = 0.25*(data[dn]['JFM'] + data[dn]['AMJ']\n",
      "                           +data[dn]['JAS'] + data[dn]['OND'])\n",
      "#for dname = diag_names"
     ],
     "language": "python",
     "metadata": {},
     "outputs": [],
     "prompt_number": 6
    },
    {
     "cell_type": "code",
     "collapsed": false,
     "input": [
      "from mpl_toolkits.basemap import Basemap\n",
      "def southern_ocean_pcolormesh(lon, lat, data, boundinglat=-55, ax=None, **kwargs):\n",
      "    \"\"\"Plot something in the southern ocean.\"\"\"\n",
      "    \n",
      "    m = Basemap(projection='spstere',boundinglat=boundinglat,lon_0=180, ax=ax)\n",
      "    #m.drawcoastlines()\n",
      "    m.fillcontinents(color='0.5',lake_color='0.55')\n",
      "    # draw parallels and meridians.\n",
      "    m.drawparallels(np.arange(-80.,81.,20.))\n",
      "    m.drawmeridians(np.arange(-180.,181.,30.), labels=[1,1,0,1])\n",
      "    m.drawmapboundary(fill_color='w')\n",
      "    #x, y = m(nc.variables['TLON'][:], nc.variables['TLAT'][:])\n",
      "    return m.pcolormesh(lon, lat, data, latlon=True, **kwargs), m\n",
      "\n",
      "def southern_ocean_contourf(lon, lat, data, clevs, boundinglat=-55, ax=None, **kwargs):\n",
      "    \"\"\"Plot something in the southern ocean.\"\"\"\n",
      "    \n",
      "    m = Basemap(projection='spstere',boundinglat=boundinglat,lon_0=180, ax=ax)\n",
      "    #m.drawcoastlines()\n",
      "    m.fillcontinents(color='0.5',lake_color='0.55')\n",
      "    # draw parallels and meridians.\n",
      "    m.drawparallels(np.arange(-80.,81.,20.))\n",
      "    m.drawmeridians(np.arange(-180.,181.,30.), labels=[1,1,0,1])\n",
      "    m.drawmapboundary(fill_color='w')\n",
      "    #x, y = m(nc.variables['TLON'][:], nc.variables['TLAT'][:])\n",
      "    return m.contourf(lon, lat, data, clevs, latlon=True, **kwargs), m\n",
      "\n"
     ],
     "language": "python",
     "metadata": {},
     "outputs": [],
     "prompt_number": 7
    },
    {
     "cell_type": "code",
     "collapsed": true,
     "input": [
      "lon = m.xc[0,:,:]\n",
      "lat = m.yc[0,:,:]"
     ],
     "language": "python",
     "metadata": {},
     "outputs": [],
     "prompt_number": 8
    },
    {
     "cell_type": "code",
     "collapsed": false,
     "input": [
      "def surface_transformation_rate(m, rho, rholevs, *args):\n",
      "    \"\"\"Calculate surface transformation rate given\n",
      "        m: an MITgcmmodel.ModelInstance\n",
      "        rho: a surface density field\n",
      "        rholevs: density levels (to define bins)\n",
      "        args: various components of the density flux\n",
      "    \"\"\"\n",
      "\n",
      "    drho = np.diff(rholevs)\n",
      "    Nbins = len(rholevs)-1\n",
      "    \n",
      "    # mask anything outside the range\n",
      "    rho_m = np.ma.masked_greater_equal(\n",
      "                np.ma.masked_less(rho, rholevs.min()), rholevs.max())\n",
      "    mask = rho_m.mask\n",
      "    \n",
      "    rho_idx = np.digitize(rho_m.compressed(), rholevs)-1\n",
      "    assert rho_idx.min()>=0\n",
      "    assert rho_idx.max()<=Nbins\n",
      "        \n",
      "    # rho_idx==i means rholevs[i-1] <= rholevs < rholevs[i]\n",
      "    \n",
      "    \n",
      "    res = []\n",
      "    for a in args:\n",
      "        dens_flux = np.ma.masked_array(a * m.rac, mask)\n",
      "        res.append(\n",
      "            np.bincount(rho_idx, weights=dens_flux.compressed(), minlength=Nbins)\n",
      "            / drho\n",
      "        )\n",
      "    return np.array(res)\n",
      "    \n",
      "    "
     ],
     "language": "python",
     "metadata": {},
     "outputs": [],
     "prompt_number": 9
    },
    {
     "cell_type": "code",
     "collapsed": false,
     "input": [
      "salt_EvPrRn=0.\n",
      "rUnit2mass=1.035E+03\n",
      "HeatCapacity_Cp=3.994E+03\n",
      "\n",
      "fluxfac_T = 1.0/(HeatCapacity_Cp*rUnit2mass)\n",
      "fluxfac_S = 1.0/rUnit2mass\n",
      "\n",
      "# gives m/year\n",
      "scalefac = 24*60*60*365/1e3\n",
      "\n",
      "Nrho = 150\n",
      "rholevs = np.linspace(1022.,1028.3,Nrho+1)\n",
      "\n",
      "transformation_monthy = np.zeros((Nt,3,Nrho), 'f8')\n",
      "for nmon, niter in enumerate(diag_iters):\n",
      "    \n",
      "    draw = m.rdmds(diag_prefix, niter)\n",
      "    d = {}\n",
      "    for n, dn in enumerate(diag_names):\n",
      "        d[dn] = draw[n]\n",
      "        \n",
      "    rho, drhodt, drhods = eos.state_surface(d['THETA'], d['SALT'])\n",
      "    \n",
      "    atmFW = -np.ma.masked_array(d['SIatmFW'], m.mask[0])\n",
      "    EmPmR = np.ma.masked_array(d['SIempmr'], m.mask[0])\n",
      "    ice_fw = EmPmR - atmFW\n",
      "\n",
      "    # has the same units as SFLUX\n",
      "    salt = d['SALT']\n",
      "    sflux = EmPmR * (salt - salt_EvPrRn)\n",
      "    sflux_ice = ice_fw * (salt - salt_EvPrRn)\n",
      "    sflux_atm = atmFW * (salt - salt_EvPrRn)\n",
      "    \n",
      "    dens_flux_S = drhods * fluxfac_S * sflux\n",
      "    dens_flux_S_ice = drhods * fluxfac_S * sflux_ice\n",
      "    dens_flux_S_atm = drhods * fluxfac_S * sflux_atm\n",
      "    \n",
      "    tflux = np.ma.masked_array(d['TFLUX'], m.mask[0]) \n",
      "    dens_flux_T = drhodt * fluxfac_T * tflux\n",
      "    # nothing interesting here\n",
      "    #tflux_ice = -np.ma.masked_array(d['SItflux'], m.mask[0]) \n",
      "    #tflux_atm =  -np.ma.masked_array(d['SIatmQnt'], m.mask[0]) \n",
      "    #dens_flux_T_ice = drhodt * fluxfac_T * tflux_ice\n",
      "    #dens_flux_T_atm = drhodt * fluxfac_T * tflux_atm\n",
      "    \n",
      "    \n",
      "    transformation_monthy[nmon] = surface_transformation_rate(\n",
      "                        m, rho, rholevs,\n",
      "                        dens_flux_T, dens_flux_S, dens_flux_S_atm)\n",
      "\n",
      "    "
     ],
     "language": "python",
     "metadata": {},
     "outputs": [
      {
       "output_type": "stream",
       "stream": "stderr",
       "text": [
        "/glade/scratch/rpa/SOSE/run_matt/DiagIce-monthly.0000002921.meta\n",
        "/glade/scratch/rpa/SOSE/run_matt/DiagIce-monthly.0000005843.meta\n"
       ]
      },
      {
       "output_type": "stream",
       "stream": "stderr",
       "text": [
        "/glade/scratch/rpa/SOSE/run_matt/DiagIce-monthly.0000008764.meta\n",
        "/glade/scratch/rpa/SOSE/run_matt/DiagIce-monthly.0000011685.meta\n"
       ]
      },
      {
       "output_type": "stream",
       "stream": "stderr",
       "text": [
        "/glade/scratch/rpa/SOSE/run_matt/DiagIce-monthly.0000014607.meta\n",
        "/glade/scratch/rpa/SOSE/run_matt/DiagIce-monthly.0000017528.meta\n"
       ]
      },
      {
       "output_type": "stream",
       "stream": "stderr",
       "text": [
        "/glade/scratch/rpa/SOSE/run_matt/DiagIce-monthly.0000020449.meta\n",
        "/glade/scratch/rpa/SOSE/run_matt/DiagIce-monthly.0000023371.meta\n"
       ]
      },
      {
       "output_type": "stream",
       "stream": "stderr",
       "text": [
        "/glade/scratch/rpa/SOSE/run_matt/DiagIce-monthly.0000026292.meta\n",
        "/glade/scratch/rpa/SOSE/run_matt/DiagIce-monthly.0000029213.meta\n"
       ]
      },
      {
       "output_type": "stream",
       "stream": "stderr",
       "text": [
        "/glade/scratch/rpa/SOSE/run_matt/DiagIce-monthly.0000032135.meta\n",
        "/glade/scratch/rpa/SOSE/run_matt/DiagIce-monthly.0000035056.meta\n"
       ]
      },
      {
       "output_type": "stream",
       "stream": "stderr",
       "text": [
        "/glade/scratch/rpa/SOSE/run_matt/DiagIce-monthly.0000037977.meta\n",
        "/glade/scratch/rpa/SOSE/run_matt/DiagIce-monthly.0000040899.meta\n"
       ]
      },
      {
       "output_type": "stream",
       "stream": "stderr",
       "text": [
        "/glade/scratch/rpa/SOSE/run_matt/DiagIce-monthly.0000043820.meta\n",
        "/glade/scratch/rpa/SOSE/run_matt/DiagIce-monthly.0000046741.meta\n"
       ]
      },
      {
       "output_type": "stream",
       "stream": "stderr",
       "text": [
        "/glade/scratch/rpa/SOSE/run_matt/DiagIce-monthly.0000049663.meta\n",
        "/glade/scratch/rpa/SOSE/run_matt/DiagIce-monthly.0000052584.meta\n"
       ]
      },
      {
       "output_type": "stream",
       "stream": "stderr",
       "text": [
        "/glade/scratch/rpa/SOSE/run_matt/DiagIce-monthly.0000055505.meta\n",
        "/glade/scratch/rpa/SOSE/run_matt/DiagIce-monthly.0000058427.meta\n"
       ]
      },
      {
       "output_type": "stream",
       "stream": "stderr",
       "text": [
        "/glade/scratch/rpa/SOSE/run_matt/DiagIce-monthly.0000061348.meta\n",
        "/glade/scratch/rpa/SOSE/run_matt/DiagIce-monthly.0000064269.meta\n"
       ]
      },
      {
       "output_type": "stream",
       "stream": "stderr",
       "text": [
        "/glade/scratch/rpa/SOSE/run_matt/DiagIce-monthly.0000067191.meta\n",
        "/glade/scratch/rpa/SOSE/run_matt/DiagIce-monthly.0000070112.meta\n"
       ]
      },
      {
       "output_type": "stream",
       "stream": "stderr",
       "text": [
        "/glade/scratch/rpa/SOSE/run_matt/DiagIce-monthly.0000073033.meta\n",
        "/glade/scratch/rpa/SOSE/run_matt/DiagIce-monthly.0000075955.meta\n"
       ]
      },
      {
       "output_type": "stream",
       "stream": "stderr",
       "text": [
        "/glade/scratch/rpa/SOSE/run_matt/DiagIce-monthly.0000078876.meta\n",
        "/glade/scratch/rpa/SOSE/run_matt/DiagIce-monthly.0000081797.meta\n"
       ]
      },
      {
       "output_type": "stream",
       "stream": "stderr",
       "text": [
        "/glade/scratch/rpa/SOSE/run_matt/DiagIce-monthly.0000084719.meta\n",
        "/glade/scratch/rpa/SOSE/run_matt/DiagIce-monthly.0000087640.meta\n"
       ]
      },
      {
       "output_type": "stream",
       "stream": "stderr",
       "text": [
        "/glade/scratch/rpa/SOSE/run_matt/DiagIce-monthly.0000090561.meta\n",
        "/glade/scratch/rpa/SOSE/run_matt/DiagIce-monthly.0000093483.meta\n"
       ]
      },
      {
       "output_type": "stream",
       "stream": "stderr",
       "text": [
        "/glade/scratch/rpa/SOSE/run_matt/DiagIce-monthly.0000096404.meta\n",
        "/glade/scratch/rpa/SOSE/run_matt/DiagIce-monthly.0000099325.meta\n"
       ]
      },
      {
       "output_type": "stream",
       "stream": "stderr",
       "text": [
        "/glade/scratch/rpa/SOSE/run_matt/DiagIce-monthly.0000102247.meta\n",
        "/glade/scratch/rpa/SOSE/run_matt/DiagIce-monthly.0000105168.meta\n"
       ]
      },
      {
       "output_type": "stream",
       "stream": "stderr",
       "text": [
        "/glade/scratch/rpa/SOSE/run_matt/DiagIce-monthly.0000108089.meta\n",
        "/glade/scratch/rpa/SOSE/run_matt/DiagIce-monthly.0000111011.meta\n"
       ]
      },
      {
       "output_type": "stream",
       "stream": "stderr",
       "text": [
        "/glade/scratch/rpa/SOSE/run_matt/DiagIce-monthly.0000113932.meta\n",
        "/glade/scratch/rpa/SOSE/run_matt/DiagIce-monthly.0000116853.meta\n"
       ]
      },
      {
       "output_type": "stream",
       "stream": "stderr",
       "text": [
        "/glade/scratch/rpa/SOSE/run_matt/DiagIce-monthly.0000119775.meta\n",
        "/glade/scratch/rpa/SOSE/run_matt/DiagIce-monthly.0000122696.meta\n"
       ]
      },
      {
       "output_type": "stream",
       "stream": "stderr",
       "text": [
        "/glade/scratch/rpa/SOSE/run_matt/DiagIce-monthly.0000125617.meta\n",
        "/glade/scratch/rpa/SOSE/run_matt/DiagIce-monthly.0000128539.meta\n"
       ]
      },
      {
       "output_type": "stream",
       "stream": "stderr",
       "text": [
        "/glade/scratch/rpa/SOSE/run_matt/DiagIce-monthly.0000131460.meta\n",
        "/glade/scratch/rpa/SOSE/run_matt/DiagIce-monthly.0000134381.meta\n"
       ]
      },
      {
       "output_type": "stream",
       "stream": "stderr",
       "text": [
        "/glade/scratch/rpa/SOSE/run_matt/DiagIce-monthly.0000137303.meta\n",
        "/glade/scratch/rpa/SOSE/run_matt/DiagIce-monthly.0000140224.meta\n"
       ]
      },
      {
       "output_type": "stream",
       "stream": "stderr",
       "text": [
        "/glade/scratch/rpa/SOSE/run_matt/DiagIce-monthly.0000143145.meta\n",
        "/glade/scratch/rpa/SOSE/run_matt/DiagIce-monthly.0000146067.meta\n"
       ]
      },
      {
       "output_type": "stream",
       "stream": "stderr",
       "text": [
        "/glade/scratch/rpa/SOSE/run_matt/DiagIce-monthly.0000148988.meta\n",
        "/glade/scratch/rpa/SOSE/run_matt/DiagIce-monthly.0000151909.meta\n"
       ]
      },
      {
       "output_type": "stream",
       "stream": "stderr",
       "text": [
        "/glade/scratch/rpa/SOSE/run_matt/DiagIce-monthly.0000154831.meta\n",
        "/glade/scratch/rpa/SOSE/run_matt/DiagIce-monthly.0000157752.meta\n"
       ]
      },
      {
       "output_type": "stream",
       "stream": "stderr",
       "text": [
        "/glade/scratch/rpa/SOSE/run_matt/DiagIce-monthly.0000160673.meta\n",
        "/glade/scratch/rpa/SOSE/run_matt/DiagIce-monthly.0000163595.meta\n"
       ]
      },
      {
       "output_type": "stream",
       "stream": "stderr",
       "text": [
        "/glade/scratch/rpa/SOSE/run_matt/DiagIce-monthly.0000166516.meta\n",
        "/glade/scratch/rpa/SOSE/run_matt/DiagIce-monthly.0000169437.meta\n"
       ]
      },
      {
       "output_type": "stream",
       "stream": "stderr",
       "text": [
        "/glade/scratch/rpa/SOSE/run_matt/DiagIce-monthly.0000172359.meta\n",
        "/glade/scratch/rpa/SOSE/run_matt/DiagIce-monthly.0000175280.meta\n"
       ]
      },
      {
       "output_type": "stream",
       "stream": "stderr",
       "text": [
        "/glade/scratch/rpa/SOSE/run_matt/DiagIce-monthly.0000178201.meta\n",
        "/glade/scratch/rpa/SOSE/run_matt/DiagIce-monthly.0000181123.meta\n"
       ]
      },
      {
       "output_type": "stream",
       "stream": "stderr",
       "text": [
        "/glade/scratch/rpa/SOSE/run_matt/DiagIce-monthly.0000184044.meta\n",
        "/glade/scratch/rpa/SOSE/run_matt/DiagIce-monthly.0000186965.meta\n"
       ]
      },
      {
       "output_type": "stream",
       "stream": "stderr",
       "text": [
        "/glade/scratch/rpa/SOSE/run_matt/DiagIce-monthly.0000189887.meta\n",
        "/glade/scratch/rpa/SOSE/run_matt/DiagIce-monthly.0000192808.meta\n"
       ]
      },
      {
       "output_type": "stream",
       "stream": "stderr",
       "text": [
        "/glade/scratch/rpa/SOSE/run_matt/DiagIce-monthly.0000195729.meta\n",
        "/glade/scratch/rpa/SOSE/run_matt/DiagIce-monthly.0000198651.meta\n"
       ]
      },
      {
       "output_type": "stream",
       "stream": "stderr",
       "text": [
        "/glade/scratch/rpa/SOSE/run_matt/DiagIce-monthly.0000201572.meta\n",
        "/glade/scratch/rpa/SOSE/run_matt/DiagIce-monthly.0000204493.meta\n"
       ]
      },
      {
       "output_type": "stream",
       "stream": "stderr",
       "text": [
        "/glade/scratch/rpa/SOSE/run_matt/DiagIce-monthly.0000207415.meta\n",
        "/glade/scratch/rpa/SOSE/run_matt/DiagIce-monthly.0000210336.meta\n"
       ]
      }
     ],
     "prompt_number": 10
    },
    {
     "cell_type": "markdown",
     "metadata": {},
     "source": [
      "# Transformation Rates #"
     ]
    },
    {
     "cell_type": "code",
     "collapsed": false,
     "input": [
      "trans_ice = transformation_monthy[:,1] - transformation_monthy[:,2]\n",
      "trans_mean = transformation_monthy.mean(axis=0)\n",
      "\n",
      "\n",
      "plt.rcParams['font.size'] = 8\n",
      "\n",
      "plt.figure(figsize=(6.5,3.5))\n",
      "\n",
      "plt.plot(rholevs[1:]-1000, trans_mean[:2].T/1e6, linewidth=2)\n",
      "plt.plot(rholevs[1:]-1000, trans_mean[:2].sum(axis=0)/1e6, 'k', linewidth=3)\n",
      "plt.plot(rholevs[1:]-1000, trans_mean[2]/1e6, '--', linewidth=2)\n",
      "plt.plot(rholevs[1:]-1000, trans_ice.mean(axis=0)/1e6, '--', linewidth=2)\n",
      "plt.legend(['heat', 'fw (total)', 'net', 'fw (from atm)', 'fw (ice)'], loc='lower left')\n",
      "plt.grid()\n",
      "plt.title('Surface Water Mass Transformation')\n",
      "plt.xlabel(r'$\\sigma_\\theta$')\n",
      "plt.ylabel(r'10$^6$ m$^3$ s$^{-1}$')\n",
      "plt.xlim([26,28])\n",
      "plt.xticks(np.arange(26,28.2,0.2));\n",
      "plt.tight_layout()\n",
      "\n",
      "plt.savefig('../figures_ice_moc/transformation.pdf')"
     ],
     "language": "python",
     "metadata": {},
     "outputs": [
      {
       "metadata": {},
       "output_type": "display_data",
       "png": "[encoded data removed]",
       "text": [
        "<matplotlib.figure.Figure at 0x2b890d83bf50>"
       ]
      }
     ],
     "prompt_number": 18
    },
    {
     "cell_type": "markdown",
     "metadata": {},
     "source": [
      "The two dashed lines sum to give the blue line."
     ]
    },
    {
     "cell_type": "markdown",
     "metadata": {},
     "source": [
      "# Temporal Variability #"
     ]
    },
    {
     "cell_type": "code",
     "collapsed": false,
     "input": [
      "rl = rholevs[1:]-1000\n",
      "time = np.arange(72)/12.\n",
      "\n",
      "for n, tit in enumerate(['heat', 'fw (net)', 'fw (atm only)']):\n",
      "    plt.figure()\n",
      "    plt.pcolormesh(time, rl, transformation_monthy[:,n].T / 1e6, cmap='RdBu_r')\n",
      "    plt.clim([-80,80])\n",
      "    plt.ylim([26,28])\n",
      "    plt.ylabel(r'$\\sigma_\\theta$')\n",
      "    plt.xlabel('time (years)')\n",
      "    plt.title(tit + ' - transformation (Sv)')\n",
      "    plt.colorbar()"
     ],
     "language": "python",
     "metadata": {},
     "outputs": [
      {
       "metadata": {},
       "output_type": "display_data",
       "png": "[encoded data removed]",
       "text": [
        "<matplotlib.figure.Figure at 0x2b8902543150>"
       ]
      },
      {
       "metadata": {},
       "output_type": "display_data",
       "png": "[encoded data removed]",
       "text": [
        "<matplotlib.figure.Figure at 0x2b89180c2b90>"
       ]
      },
      {
       "metadata": {},
       "output_type": "display_data",
       "png": "[encoded data removed]",
       "text": [
        "<matplotlib.figure.Figure at 0x2b89181d54d0>"
       ]
      }
     ],
     "prompt_number": 12
    },
    {
     "cell_type": "markdown",
     "metadata": {},
     "source": [
      "## from external_forcing_surf.F ##\n",
      "\n",
      "SOSE uses the following options:\n",
      "\n",
      "* convertFW2Salt = -1.,\n",
      "* useRealFreshWaterFlux=.FALSE.\n",
      "\n",
      "\n",
      "\n",
      "           surfaceForcingS(i,j,bi,bj) = surfaceForcingS(i,j,bi,bj)\n",
      "     &       + EmPmR(i,j,bi,bj)\n",
      "     &           *( salt(i,j,ks,bi,bj) - salt_EvPrRn )\n",
      "     &           *mass2rUnit"
     ]
    },
    {
     "cell_type": "code",
     "collapsed": false,
     "input": [],
     "language": "python",
     "metadata": {},
     "outputs": []
    }
   ],
   "metadata": {}
  }
 ]
}