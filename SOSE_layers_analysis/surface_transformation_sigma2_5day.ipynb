{
 "cells": [
  {
   "cell_type": "code",
   "execution_count": 1,
   "metadata": {
    "collapsed": false
   },
   "outputs": [
    {
     "name": "stderr",
     "output_type": "stream",
     "text": [
      "/usr/local/anaconda/lib/python2.7/site-packages/matplotlib/__init__.py:872: UserWarning: axes.color_cycle is deprecated and replaced with axes.prop_cycle; please use the latter.\n",
      "  warnings.warn(self.msg_depr % (key, alt_key))\n"
     ]
    }
   ],
   "source": [
    "import numpy as np\n",
    "from matplotlib import pyplot as plt\n",
    "import matplotlib\n",
    "import brewer2mpl\n",
    "from mitgcmdata import MITgcmmodel\n",
    "from jmd95 import eos\n",
    "import datetime\n",
    "\n",
    "%matplotlib inline\n",
    "plt.rcParams['image.origin'] = 'bottom'\n",
    "plt.rcParams['figure.figsize'] = (16,8)\n",
    "\n",
    "\n",
    "bmap = brewer2mpl.get_map('Set1', 'Qualitative', 6)\n",
    "plt.rcParams['axes.color_cycle'] = bmap.mpl_colors\n"
   ]
  },
  {
   "cell_type": "code",
   "execution_count": 2,
   "metadata": {
    "collapsed": false
   },
   "outputs": [
    {
     "name": "stdout",
     "output_type": "stream",
     "text": [
      "2160 320  42\n"
     ]
    },
    {
     "name": "stderr",
     "output_type": "stream",
     "text": [
      "/home/rpa/mitgcmdata/mitgcmdata/MITgcmmodel.py:75: RuntimeWarning: divide by zero encountered in reciprocal\n",
      "  (self.rac * self.drf * self.hFacC)**-1, 0.)\n"
     ]
    }
   ],
   "source": [
    "#ddir = '/glade/scratch/rpa/SOSE/run_matt'\n",
    "#ddir = '/data/scratch/rpa/SOSE/run_matt'\n",
    "ddir = '/data/scratch/rpa/SOSE/run_np240'\n",
    "\n",
    "m = MITgcmmodel.ModelInstance(output_dir=ddir)\n"
   ]
  },
  {
   "cell_type": "markdown",
   "metadata": {},
   "source": [
    "\n",
    "    frequency(1) =  432000.0,\n",
    "    fields(1,1) = 'SIarea  ','SIheff  ','SIhsnow ','SItflux ',\n",
    "                 'SIatmQnt','SIempmr ','SIatmFW ','SIuheff ',\n",
    "                 'SIvheff ','TFLUX   ','SFLUX   ','THETA   ',\n",
    "                 'SALT    ','WTHMASS ','WSLTMASS','SIuice  ',\n",
    "                 'SIvice  ','SIsnPrcp',\n",
    "                 'SIdHbOCN','SIdSbOCN','SIdHbATO',\n",
    "    levels(1,1) = 1,\n",
    "    filename(1) = 'DiagIce-5day',\n"
   ]
  },
  {
   "cell_type": "code",
   "execution_count": 3,
   "metadata": {
    "collapsed": false
   },
   "outputs": [],
   "source": [
    "deltaT = 900\n",
    "#diag_freq = 2629200. # monthly\n",
    "#diag_prefix = 'DiagIce-monthly'\n",
    "\n",
    "diag_freq = 432000 # 5-day\n",
    "diag_prefix= 'DiagIce-5day'\n",
    "\n",
    "diag_delta_iter = diag_freq/deltaT\n",
    "\n",
    "ntimesteps = 210336\n",
    "diag_iters = np.round(np.arange(diag_delta_iter, ntimesteps+1, diag_delta_iter)).astype('i4')\n",
    "Nt = len(diag_iters)\n",
    "\n",
    "diag_names = ['SIarea', 'SIheff', 'SIhsnow', 'SItflux', 'SIatmQnt', 'SIempmr',\n",
    "             'SIatmFW', 'SIuheff', 'SIvheff', 'TFLUX', 'SFLUX', 'THETA', 'SALT',\n",
    "             'WTHMASS','WSLTMASS','SIuice','SIvice','SIsnPrcp',\n",
    "             'SIdHbOCN','SIdSbOCN','SIdHbATO']\n",
    "\n"
   ]
  },
  {
   "cell_type": "code",
   "execution_count": 4,
   "metadata": {
    "collapsed": true
   },
   "outputs": [],
   "source": [
    "lon = m.xc[0,:,:]\n",
    "lat = m.yc[0,:,:]"
   ]
  },
  {
   "cell_type": "code",
   "execution_count": 5,
   "metadata": {
    "collapsed": false
   },
   "outputs": [],
   "source": [
    "def surface_transformation_rate(m, rho, rholevs, *args):\n",
    "    \"\"\"Calculate surface transformation rate given\n",
    "        m: an MITgcmmodel.ModelInstance\n",
    "        rho: a surface density field\n",
    "        rholevs: density levels (to define bins)\n",
    "        args: various components of the density flux\n",
    "    \"\"\"\n",
    "\n",
    "    drho = np.diff(rholevs)\n",
    "    Nbins = len(rholevs)-1\n",
    "    \n",
    "    # mask anything outside the range\n",
    "    rho_m = np.ma.masked_greater_equal(\n",
    "                np.ma.masked_less(rho, rholevs.min()), rholevs.max())\n",
    "    mask = rho_m.mask\n",
    "    \n",
    "    rho_idx = np.digitize(rho_m.compressed(), rholevs)-1\n",
    "    assert rho_idx.min()>=0\n",
    "    assert rho_idx.max()<=Nbins\n",
    "        \n",
    "    # rho_idx==i means rholevs[i-1] <= rholevs < rholevs[i]\n",
    "    \n",
    "    \n",
    "    res = []\n",
    "    for a in args:\n",
    "        dens_flux = np.ma.masked_array(a * m.rac, mask)\n",
    "        res.append(\n",
    "            np.bincount(rho_idx, weights=dens_flux.compressed(), minlength=Nbins)\n",
    "            / drho\n",
    "        )\n",
    "    return np.array(res)\n",
    "    \n",
    "    "
   ]
  },
  {
   "cell_type": "code",
   "execution_count": 6,
   "metadata": {
    "collapsed": true
   },
   "outputs": [],
   "source": [
    "def average_field_in_rho(m, rho, rholevs, a, avg=True):\n",
    "    \"\"\"Calculate surface transformation rate given\n",
    "        m: an MITgcmmodel.ModelInstance\n",
    "        rho: a surface density field\n",
    "        rholevs: density levels (to define bins)\n",
    "        args: various components of the density flux\n",
    "    \"\"\"\n",
    "\n",
    "    drho = np.diff(rholevs)\n",
    "    Nbins = len(rholevs)-1\n",
    "    \n",
    "    # mask anything outside the range\n",
    "    rho_m = np.ma.masked_greater_equal(\n",
    "                np.ma.masked_less(rho, rholevs.min()), rholevs.max())\n",
    "    mask = rho_m.mask\n",
    "    \n",
    "    rho_idx = np.digitize(rho_m.compressed(), rholevs)-1\n",
    "    assert rho_idx.min()>=0\n",
    "    assert rho_idx.max()<=Nbins\n",
    "        \n",
    "    # rho_idx==i means rholevs[i-1] <= rholevs < rholevs[i]\n",
    "    \n",
    "        \n",
    "    rac_masked = np.ma.masked_array(m.rac, mask)\n",
    "    area = np.bincount(rho_idx, weights=rac_masked.compressed(), minlength=Nbins)\n",
    "    area_recip = np.where(area>0., area**-1, 0.)\n",
    "\n",
    "    # area-weighted average\n",
    "    res = np.bincount(rho_idx, weights=(a*rac_masked).compressed(), minlength=Nbins)\n",
    "    if avg:\n",
    "        res *= area_recip\n",
    "    return res, area\n",
    "    "
   ]
  },
  {
   "cell_type": "code",
   "execution_count": 9,
   "metadata": {
    "collapsed": false
   },
   "outputs": [
    {
     "data": {
      "image/png": "[encoded data removed]",
      "text/plain": [
       "<matplotlib.figure.Figure at 0x7f9152ef7f90>"
      ]
     },
     "metadata": {},
     "output_type": "display_data"
    }
   ],
   "source": [
    "sig2_levs = np.linspace(1030,1037.7,350)\n",
    "Nrho2 = len(sig2_levs)\n",
    "drho = np.diff(sig2_levs)\n",
    "rholevs = sig2_levs\n",
    "pref = 2000\n",
    "\n",
    "plt.plot(sig2_levs-1000, '-')\n",
    "plt.grid()"
   ]
  },
  {
   "cell_type": "code",
   "execution_count": 10,
   "metadata": {
    "collapsed": false
   },
   "outputs": [],
   "source": [
    "salt_EvPrRn=0.\n",
    "rUnit2mass=1.035E+03\n",
    "HeatCapacity_Cp=3.994E+03\n",
    "\n",
    "fluxfac_T = 1.0/(HeatCapacity_Cp*rUnit2mass)\n",
    "fluxfac_S = 1.0/rUnit2mass\n",
    "\n",
    "# gives m/year\n",
    "scalefac = 24*60*60*365/1e3\n",
    "\n",
    "#Nrho = 300\n",
    "#rholevs = np.linspace(1022.,1028.0,Nrho+1)\n",
    "\n",
    "Nrho = len(rholevs)-1\n",
    "\n",
    "kg_fw_to_m = 1e-3\n",
    "m_to_kg_fw = 1e3\n",
    "\n",
    "fw_flux_types = ['IO_plus_AO', 'AI_plus_AO', 'AI', 'AO', 'IO', 'IO_brine', 'IO_melt']\n",
    "\n",
    "fld_idx = dict()\n",
    "for n, k in enumerate(fw_flux_types):\n",
    "    fld_idx[k] = n\n"
   ]
  },
  {
   "cell_type": "code",
   "execution_count": 12,
   "metadata": {
    "collapsed": true
   },
   "outputs": [],
   "source": [
    "from tqdm import tqdm"
   ]
  },
  {
   "cell_type": "code",
   "execution_count": 13,
   "metadata": {
    "collapsed": false
   },
   "outputs": [
    {
     "name": "stderr",
     "output_type": "stream",
     "text": []
    }
   ],
   "source": [
    "transformation = np.zeros((Nt, len(fw_flux_types)+3, Nrho), 'f8')\n",
    "fw_in_dens_coords = np.zeros((Nt, len(fw_flux_types), Nrho), 'f8')\n",
    "\n",
    "for nmon, niter in tqdm(enumerate(diag_iters)):\n",
    "    \n",
    "    draw = m.rdmds(diag_prefix, niter)\n",
    "    d = {}\n",
    "    for n, dn in enumerate(diag_names):\n",
    "        d[dn] = draw[n]\n",
    "        \n",
    "    rho, drhodt, drhods = eos.state(pref, d['THETA'], d['SALT'])\n",
    "\n",
    "    # freshwater fluxes, evaporation positive\n",
    "    fw_fluxes = {\n",
    "      'IO_plus_AO': np.ma.masked_array(d['SIempmr'], m.mask[0]),\n",
    "      'AI_plus_AO': -np.ma.masked_array(d['SIatmFW'], m.mask[0]),\n",
    "# ------ not actually useful ----------\n",
    "#       'SIdHbOCN': -m_to_kg_fw * np.ma.masked_array(data['SIdHbOCN'][season], m.mask[0]),\n",
    "#       'SIdSbOCN': -m_to_kg_fw * np.ma.masked_array(data['SIdSbOCN'][season], m.mask[0]),\n",
    "#       'SIdHbATO': -m_to_kg_fw * np.ma.masked_array(data['SIdSbOCN'][season], m.mask[0]),\n",
    "      'SIsnPrcp':  -np.ma.masked_array(d['SIsnPrcp'], m.mask[0])\n",
    "    }\n",
    "    \n",
    "    fw_fluxes['AI'] = fw_fluxes['SIsnPrcp']\n",
    "    fw_fluxes['AO'] = fw_fluxes['AI_plus_AO'] - fw_fluxes['AI']\n",
    "    fw_fluxes['IO'] = fw_fluxes['IO_plus_AO'] - fw_fluxes['AO']\n",
    "    # brine rejection\n",
    "    fw_fluxes['IO_brine'] = np.ma.masked_less(fw_fluxes['IO'].copy(), 0.)\n",
    "    fw_fluxes['IO_melt'] = np.ma.masked_greater(fw_fluxes['IO'].copy(), 0.)\n",
    "    \n",
    "    # has the same units as SFLUX\n",
    "    salt = d['SALT']\n",
    "    \n",
    "    dens_flux_S = [ drhods * fluxfac_S * fw_fluxes[k].filled(0.) * (salt - salt_EvPrRn)\n",
    "                    for k in fw_flux_types ]\n",
    "\n",
    "    dens_flux_S.append( drhods * d['WSLTMASS'] )\n",
    "    \n",
    "    fw_flux = [fw_fluxes[k].filled(0.) for k in fw_flux_types]\n",
    "    \n",
    "    tflux = np.ma.masked_array(d['TFLUX'], m.mask[0]) \n",
    "    dens_flux_T = [drhodt * fluxfac_T * tflux, ]\n",
    "    \n",
    "    dens_flux_T.append( drhodt * d['WTHMASS'])\n",
    "    \n",
    "    transformation[nmon] = surface_transformation_rate(\n",
    "                        m, rho, rholevs,\n",
    "                         *(dens_flux_T + dens_flux_S))\n",
    "    \n",
    "    fw_in_dens_coords[nmon] = surface_transformation_rate(\n",
    "                        m, rho, rholevs, *fw_flux)\n",
    "\n",
    "    "
   ]
  },
  {
   "cell_type": "code",
   "execution_count": 33,
   "metadata": {
    "collapsed": false
   },
   "outputs": [
    {
     "name": "stderr",
     "output_type": "stream",
     "text": []
    }
   ],
   "source": [
    "# density-weighted ice concentration\n",
    "ice_conc_rho = np.zeros((Nt, Nrho), 'f8')\n",
    "heff_rho = np.zeros((Nt, Nrho), 'f8')\n",
    "outcrop_area = np.zeros((Nt, Nrho), 'f8')\n",
    "for nmon, niter in tqdm(enumerate(diag_iters)):\n",
    "    \n",
    "    SIarea = m.rdmds(diag_prefix, niter, rec=0)\n",
    "    heff = m.rdmds(diag_prefix, niter, rec=1)\n",
    "    theta = m.rdmds(diag_prefix, niter, rec=11)\n",
    "    salt = m.rdmds(diag_prefix, niter, rec=12)\n",
    "    \n",
    "    #rho, drhodt, drhods = eos.state_surface(theta, salt)\n",
    "    rho, drhodt, drhods = eos.state(pref, theta, salt)\n",
    "    \n",
    "    ice_conc_rho[nmon], outcrop_area[nmon] = average_field_in_rho(m, rho, rholevs, SIarea)\n",
    "    heff_rho[nmon], outcrop_area[nmon] = average_field_in_rho(m, rho, rholevs, heff, avg=False)\n",
    "    "
   ]
  },
  {
   "cell_type": "code",
   "execution_count": 14,
   "metadata": {
    "collapsed": false
   },
   "outputs": [
    {
     "data": {
      "text/plain": [
       "(438, 7, 349)"
      ]
     },
     "execution_count": 14,
     "metadata": {},
     "output_type": "execute_result"
    }
   ],
   "source": [
    "fw_in_dens_coords.shape"
   ]
  },
  {
   "cell_type": "code",
   "execution_count": 15,
   "metadata": {
    "collapsed": false
   },
   "outputs": [
    {
     "name": "stdout",
     "output_type": "stream",
     "text": [
      "(438, 10, 349)\n",
      "['heat_flux', 'heat_wthmass', 'salt_IO_plus_AO', 'salt_AI_plus_AO', 'salt_AI', 'salt_AO', 'salt_IO', 'salt_IO_brine', 'salt_IO_melt', 'salt_wsltmass']\n",
      "10\n"
     ]
    }
   ],
   "source": [
    "print transformation.shape\n",
    "transformation_labels = (['heat_flux', 'heat_wthmass'] +\n",
    "    ['salt_' + fwft for fwft in fw_flux_types] + ['salt_wsltmass'])\n",
    "print transformation_labels\n",
    "print len(transformation_labels)"
   ]
  },
  {
   "cell_type": "code",
   "execution_count": 26,
   "metadata": {
    "collapsed": false
   },
   "outputs": [
    {
     "data": {
      "text/plain": [
       "numpy.datetime64('2005-01-01T00:00:00-0500')"
      ]
     },
     "execution_count": 26,
     "metadata": {},
     "output_type": "execute_result"
    }
   ],
   "source": [
    "np.datetime64('2005-01-01 00:00:00') + np.timedelta64(0,'s')"
   ]
  },
  {
   "cell_type": "code",
   "execution_count": 28,
   "metadata": {
    "collapsed": false
   },
   "outputs": [],
   "source": [
    "# just turn it all to an xray dataset\n",
    "import xray\n",
    "deltaTclock = 900\n",
    "time = (np.datetime64('2005-01-01 00:00:00') + \n",
    "        np.array([np.timedelta64(deltaTclock, 's') * i for i in diag_iters]))\n",
    "sigma2 = rholevs[1:]-1000.\n",
    "ds = xray.Dataset(coords={'sigma2': sigma2, 'time': time})\n",
    "\n",
    "for n in range(len(transformation_labels)):\n",
    "    ds[transformation_labels[n]] = xray.DataArray(transformation[:,n],\n",
    "                        coords=[time, sigma2], dims=('time', 'sigma2'))\n",
    "\n",
    "ds.to_netcdf('../data/wmt_surface_sigma2.nc')"
   ]
  },
  {
   "cell_type": "code",
   "execution_count": 29,
   "metadata": {
    "collapsed": false
   },
   "outputs": [
    {
     "data": {
      "text/plain": [
       "<xray.Dataset>\n",
       "Dimensions:          (sigma2: 349, time: 438)\n",
       "Coordinates:\n",
       "  * time             (time) datetime64[ns] 2005-01-06T05:00:00 ...\n",
       "  * sigma2           (sigma2) float64 30.02 30.04 30.07 30.09 30.11 30.13 ...\n",
       "Data variables:\n",
       "    heat_flux        (time, sigma2) float64 0.0 0.0 0.0 0.0 0.0 0.0 0.0 0.0 ...\n",
       "    heat_wthmass     (time, sigma2) float64 0.0 0.0 0.0 0.0 0.0 0.0 0.0 0.0 ...\n",
       "    salt_IO_plus_AO  (time, sigma2) float64 0.0 0.0 0.0 0.0 0.0 0.0 0.0 0.0 ...\n",
       "    salt_AI_plus_AO  (time, sigma2) float64 0.0 0.0 0.0 0.0 0.0 0.0 0.0 0.0 ...\n",
       "    salt_AI          (time, sigma2) float64 0.0 0.0 0.0 0.0 0.0 0.0 0.0 0.0 ...\n",
       "    salt_AO          (time, sigma2) float64 0.0 0.0 0.0 0.0 0.0 0.0 0.0 0.0 ...\n",
       "    salt_IO          (time, sigma2) float64 0.0 0.0 0.0 0.0 0.0 0.0 0.0 0.0 ...\n",
       "    salt_IO_brine    (time, sigma2) float64 0.0 0.0 0.0 0.0 0.0 0.0 0.0 0.0 ...\n",
       "    salt_IO_melt     (time, sigma2) float64 0.0 0.0 0.0 0.0 0.0 0.0 0.0 0.0 ...\n",
       "    salt_wsltmass    (time, sigma2) float64 0.0 0.0 0.0 0.0 0.0 0.0 0.0 0.0 ..."
      ]
     },
     "execution_count": 29,
     "metadata": {},
     "output_type": "execute_result"
    }
   ],
   "source": [
    "ds"
   ]
  },
  {
   "cell_type": "code",
   "execution_count": 32,
   "metadata": {
    "collapsed": false
   },
   "outputs": [],
   "source": [
    "ds_fw = xray.Dataset(coords={'sigma2': sigma2, 'time': time})\n",
    "\n",
    "for n in range(len(fw_flux_types)):\n",
    "    ds_fw[fw_flux_types[n]] = xray.DataArray(fw_in_dens_coords[:,n],\n",
    "                        coords=[time, sigma2], dims=('time', 'sigma2'))\n",
    "\n",
    "ds_fw['drho'] = xray.DataArray(drho, coords=[sigma2], dims=['sigma2'])\n",
    "    \n",
    "ds_fw.to_netcdf('../data/fw_flux_sigma2.nc')"
   ]
  },
  {
   "cell_type": "code",
   "execution_count": 34,
   "metadata": {
    "collapsed": false
   },
   "outputs": [
    {
     "data": {
      "text/plain": [
       "<xray.Dataset>\n",
       "Dimensions:        (sigma2: 349, time: 438)\n",
       "Coordinates:\n",
       "  * time           (time) datetime64[ns] 2005-01-06T05:00:00 ...\n",
       "  * sigma2         (sigma2) float64 30.02 30.04 30.07 30.09 30.11 30.13 ...\n",
       "Data variables:\n",
       "    heff           (time, sigma2) float64 0.0 0.0 0.0 0.0 0.0 0.0 0.0 0.0 ...\n",
       "    concentration  (time, sigma2) float64 0.0 0.0 0.0 0.0 0.0 0.0 0.0 0.0 ...\n",
       "    outcrop_area   (time, sigma2) float64 0.0 0.0 0.0 0.0 0.0 0.0 0.0 0.0 ..."
      ]
     },
     "execution_count": 34,
     "metadata": {},
     "output_type": "execute_result"
    }
   ],
   "source": [
    "ds_ice = xray.Dataset(coords={'sigma2': sigma2, 'time': time})\n",
    "ds_ice['heff'] = xray.DataArray(heff_rho, \n",
    "                   coords=[time, sigma2], dims=('time', 'sigma2'))\n",
    "ds_ice['concentration'] = xray.DataArray(ice_conc_rho, \n",
    "                   coords=[time, sigma2], dims=('time', 'sigma2'))\n",
    "ds_ice['outcrop_area'] = xray.DataArray(outcrop_area, \n",
    "                   coords=[time, sigma2], dims=('time', 'sigma2'))\n",
    "ds_ice.to_netcdf('../data/ice_in_sigma2.nc')\n",
    "ds_ice"
   ]
  },
  {
   "cell_type": "code",
   "execution_count": null,
   "metadata": {
    "collapsed": true
   },
   "outputs": [],
   "source": []
  }
 ],
 "metadata": {
  "kernelspec": {
   "display_name": "Python 2.7",
   "language": "python",
   "name": "python2"
  },
  "language_info": {
   "codemirror_mode": {
    "name": "ipython",
    "version": 2
   },
   "file_extension": ".py",
   "mimetype": "text/x-python",
   "name": "python",
   "nbconvert_exporter": "python",
   "pygments_lexer": "ipython2",
   "version": "2.7.11"
  }
 },
 "nbformat": 4,
 "nbformat_minor": 0
}
