{
 "cells": [
  {
   "cell_type": "code",
   "execution_count": 1,
   "metadata": {
    "collapsed": false
   },
   "outputs": [],
   "source": [
    "#from IPython.parallel import Client\n",
    "from ipyparallel import Client\n",
    "#c = Client()\n",
    "c = Client(profile='parallel_python2.7')\n",
    "dview = c.direct_view()\n",
    "lview = c.load_balanced_view()"
   ]
  },
  {
   "cell_type": "code",
   "execution_count": 13,
   "metadata": {
    "collapsed": false
   },
   "outputs": [
    {
     "name": "stdout",
     "output_type": "stream",
     "text": [
      "importing numpy on engine(s)\n",
      "importing MITgcmmodel,layers,budgets from mitgcmdata on engine(s)\n",
      "importing eos from jmd95 on engine(s)\n",
      "importing mds from MITgcmutils on engine(s)\n",
      "importing os on engine(s)\n"
     ]
    }
   ],
   "source": [
    "with dview.sync_imports():\n",
    "    import numpy\n",
    "    from mitgcmdata import MITgcmmodel, layers, budgets\n",
    "    from jmd95 import eos\n",
    "    from MITgcmutils import mds\n",
    "    import os\n",
    "from matplotlib import pyplot as plt\n",
    "import xray\n",
    "%matplotlib inline"
   ]
  },
  {
   "cell_type": "code",
   "execution_count": 5,
   "metadata": {
    "collapsed": false,
    "scrolled": true
   },
   "outputs": [
    {
     "name": "stdout",
     "output_type": "stream",
     "text": [
      "2160 320  42\n",
      "[stdout:0] 2160 320  42\n",
      "[stdout:1] 2160 320  42\n",
      "[stdout:2] 2160 320  42\n",
      "[stdout:3] 2160 320  42\n",
      "[stdout:4] 2160 320  42\n",
      "[stdout:5] 2160 320  42\n",
      "[stdout:6] 2160 320  42\n",
      "[stdout:7] 2160 320  42\n"
     ]
    }
   ],
   "source": [
    "%%px --local\n",
    "ddir = '/data/scratch/rpa/SOSE/run_matt'\n",
    "#ddir = '/glade/scratch/rpa/SOSE/run_matt_layers'\n",
    "\n",
    "layers_name = '1RHO'\n",
    "\n",
    "m = MITgcmmodel.ModelInstance(output_dir=ddir, default_iter=480)\n",
    "\n",
    "extra_mask = numpy.zeros(m.shape, dtype='bool')\n",
    "extra_mask[:,-1] = 1\n",
    "\n",
    "Slevs = numpy.linspace(32,38,200)\n",
    "\n",
    "gam_levs = numpy.linspace(22,28.5,330)\n",
    "Nrho2 = len(gam_levs)\n",
    "drho = numpy.diff(gam_levs)\n",
    "rholevs = gam_levs"
   ]
  },
  {
   "cell_type": "code",
   "execution_count": 6,
   "metadata": {
    "collapsed": false
   },
   "outputs": [
    {
     "name": "stdout",
     "output_type": "stream",
     "text": [
      "0671\n",
      "[stdout:0] 0671\n",
      "[stdout:1] 0671\n",
      "[stdout:2] 0671\n",
      "[stdout:3] 0671\n",
      "[stdout:4] 0671\n",
      "[stdout:5] 0671\n",
      "[stdout:6] 0671\n",
      "[stdout:7] 0671\n"
     ]
    }
   ],
   "source": [
    "%%px --local\n",
    "dmask = 19\n",
    "dsuf = '%04d' % -m.zf[dmask]\n",
    "print dsuf"
   ]
  },
  {
   "cell_type": "code",
   "execution_count": 7,
   "metadata": {
    "collapsed": false
   },
   "outputs": [
    {
     "data": {
      "text/plain": [
       "<AsyncResult: finished>"
      ]
     },
     "execution_count": 7,
     "metadata": {},
     "output_type": "execute_result"
    }
   ],
   "source": [
    "N = 438\n",
    "\n",
    "iter0 = 480\n",
    "diters= 480\n",
    "deltaTclock = 900\n",
    "all_iters = range(iter0, iter0+diters*N, diters)\n",
    "dview.scatter('iters', all_iters)"
   ]
  },
  {
   "cell_type": "code",
   "execution_count": 8,
   "metadata": {
    "collapsed": false
   },
   "outputs": [
    {
     "name": "stdout",
     "output_type": "stream",
     "text": [
      "[stdout:0] 55\n",
      "[stdout:1] 55\n",
      "[stdout:2] 55\n",
      "[stdout:3] 55\n",
      "[stdout:4] 55\n",
      "[stdout:5] 55\n",
      "[stdout:6] 54\n",
      "[stdout:7] 54\n"
     ]
    }
   ],
   "source": [
    "%%px\n",
    "print len(iters)"
   ]
  },
  {
   "cell_type": "code",
   "execution_count": 9,
   "metadata": {
    "collapsed": false
   },
   "outputs": [
    {
     "name": "stdout",
     "output_type": "stream",
     "text": [
      "[stdout:0] bool\n",
      "[stdout:1] bool\n",
      "[stdout:2] bool\n",
      "[stdout:3] bool\n",
      "[stdout:4] bool\n",
      "[stdout:5] bool\n",
      "[stdout:6] bool\n",
      "[stdout:7] bool\n"
     ]
    }
   ],
   "source": [
    "%%px\n",
    "print extra_mask.dtype"
   ]
  },
  {
   "cell_type": "code",
   "execution_count": 17,
   "metadata": {
    "collapsed": false
   },
   "outputs": [],
   "source": [
    "%%px\n",
    "# load b factor and reference pressure\n",
    "PHref = mds.rdmds(os.path.join(ddir,'PHrefC'))\n",
    "pref = PHref.squeeze() / 9.81\n",
    "b_fac = numpy.load('/home/rpa/sose_water_mass_transformation/SOSE_layers_analysis/b_factor.npy')\n",
    "new_ddir = '/data/scratch/rpa/SOSE/matt_iter100'"
   ]
  },
  {
   "cell_type": "code",
   "execution_count": null,
   "metadata": {
    "collapsed": false
   },
   "outputs": [],
   "source": [
    "%%px\n",
    "\n",
    "# mask everything below 670 m depth\n",
    "extra_mask[dmask+1:] = True\n",
    "\n",
    "res = []\n",
    "for i in iters:\n",
    "    \n",
    "    theta = m.rdmds('SOstt_5d', i, rec=0)\n",
    "    salt = m.rdmds('SOstt_5d', i, rec=1)\n",
    "    \n",
    "    rho = mds.rdmds(os.path.join(new_ddir, 'GAMMA.0000000100'), rec=(i-480)/480)\n",
    "    rho = numpy.ma.masked_less(rho,20)\n",
    "    drhodt = numpy.zeros_like(rho)\n",
    "    drhods = numpy.zeros_like(rho)\n",
    "    for k in range(m.Nz):\n",
    "        _, a, b = eos.state(pref[k], theta[k].ravel(), salt[k].ravel())\n",
    "        drhodt[k] = b_fac[k] * a.reshape((m.Ny, m.Nx))\n",
    "        drhods[k] = b_fac[k] * b.reshape((m.Ny, m.Nx))\n",
    "    \n",
    "    salt_budget = budgets.TracerBudget(m,\n",
    "                    'SO_Sbdg5', 'SO_Surf5d', trname='SLT',\n",
    "                    iters=i)\n",
    "    \n",
    "    heat_budget = budgets.TracerBudget(m,\n",
    "                'SO_Tbdg5', 'SO_Surf5d', trname='TH',\n",
    "                swflux_name='oceQsw',\n",
    "                swflux_fname='../run_np240/SO_Surf5d',\n",
    "                iters=i)\n",
    "    \n",
    "    wmb = budgets.WaterMassBudget(m, rholevs, extra_mask=extra_mask)\n",
    "    #trs, labels = wmb_salt.calc_transformation_rates(salt, salt_budget)\n",
    "    wmt_salt, labels_salt = wmb.calc_transformation_rates(rho, salt_budget, scalefac=drhods)\n",
    "    wmt_heat, labels_heat = wmb.calc_transformation_rates(rho, heat_budget, scalefac=drhodt)\n",
    "\n",
    "    res.append([wmt_salt, wmt_heat])"
   ]
  },
  {
   "cell_type": "code",
   "execution_count": 8,
   "metadata": {
    "collapsed": false
   },
   "outputs": [
    {
     "name": "stdout",
     "output_type": "stream",
     "text": [
      "[stdout:0] 55\n",
      "[stdout:1] 55\n",
      "[stdout:2] 55\n",
      "[stdout:3] 55\n",
      "[stdout:4] 55\n",
      "[stdout:5] 55\n",
      "[stdout:6] 54\n",
      "[stdout:7] 54\n"
     ]
    }
   ],
   "source": [
    "%%px\n",
    "\n",
    "print len(res)"
   ]
  },
  {
   "cell_type": "code",
   "execution_count": 23,
   "metadata": {
    "collapsed": false
   },
   "outputs": [],
   "source": [
    "allres_upper = dview.gather('res')"
   ]
  },
  {
   "cell_type": "code",
   "execution_count": 24,
   "metadata": {
    "collapsed": false
   },
   "outputs": [
    {
     "name": "stdout",
     "output_type": "stream",
     "text": [
      "(438, 15, 329)\n"
     ]
    }
   ],
   "source": [
    "wmt_upper = allres_upper.get()\n",
    "wmt_all = numpy.array([numpy.vstack([w[0], w[1]]) for w in wmt_upper])\n",
    "wmt_salt_upper = numpy.array([w[0] for w in wmt_upper])\n",
    "wmt_heat_upper = numpy.array([w[1] for w in wmt_upper])\n",
    "print wmt_all.shape"
   ]
  },
  {
   "cell_type": "code",
   "execution_count": 27,
   "metadata": {
    "collapsed": false
   },
   "outputs": [],
   "source": [
    "labels_salt = dview['labels_salt'][0]\n",
    "labels_heat = dview['labels_heat'][0]\n",
    "labels_all = ['salt_' + l for l in labels_salt] + ['heat_' + l for l in labels_heat]\n",
    "\n",
    "time = (numpy.datetime64('2005-01-01 00:00:00') + \n",
    "        numpy.array([numpy.timedelta64(deltaTclock, 's') * i for i in all_iters]))\n",
    "gamman = rholevs[1:]\n",
    "ds = xray.Dataset(coords={'gamman': gamman, 'time': time}, attrs={'depth_range': 'upper %g meters' % -m.zf[dmask]})\n",
    "\n",
    "for n in range(len(labels_all)):\n",
    "    ds[labels_all[n]] = xray.DataArray(wmt_all[:,n],\n",
    "                        coords=[time, gamman], dims=('time', 'gamman'))\n",
    "\n",
    "ds.to_netcdf('../data/wmt_gamma_upper_%sm.nc' % dsuf)"
   ]
  },
  {
   "cell_type": "code",
   "execution_count": 29,
   "metadata": {
    "collapsed": false
   },
   "outputs": [
    {
     "data": {
      "text/plain": [
       "[<matplotlib.lines.Line2D at 0x7f166c19efd0>]"
      ]
     },
     "execution_count": 29,
     "metadata": {},
     "output_type": "execute_result"
    },
    {
     "data": {
      "image/png": "[encoded data removed]",
      "text/plain": [
       "<matplotlib.figure.Figure at 0x7f169002ae10>"
      ]
     },
     "metadata": {},
     "output_type": "display_data"
    }
   ],
   "source": [
    "\n",
    "(ds.heat_vdiff).mean(dim='time').plot()\n",
    "#plt.xlim(34,37.55)"
   ]
  },
  {
   "cell_type": "code",
   "execution_count": null,
   "metadata": {
    "collapsed": true
   },
   "outputs": [],
   "source": []
  }
 ],
 "metadata": {
  "kernelspec": {
   "display_name": "Python 2.7",
   "language": "python",
   "name": "python2"
  },
  "language_info": {
   "codemirror_mode": {
    "name": "ipython",
    "version": 2
   },
   "file_extension": ".py",
   "mimetype": "text/x-python",
   "name": "python",
   "nbconvert_exporter": "python",
   "pygments_lexer": "ipython2",
   "version": "2.7.11"
  }
 },
 "nbformat": 4,
 "nbformat_minor": 0
}
