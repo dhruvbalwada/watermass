{
 "cells": [
  {
   "cell_type": "code",
   "execution_count": 1,
   "metadata": {
    "collapsed": true
   },
   "outputs": [],
   "source": [
    "import numpy as np\n",
    "import xray\n",
    "from matplotlib import pyplot as plt\n",
    "from tqdm import tqdm\n",
    "%matplotlib inline"
   ]
  },
  {
   "cell_type": "code",
   "execution_count": 2,
   "metadata": {
    "collapsed": false
   },
   "outputs": [
    {
     "data": {
      "text/plain": [
       "(8192, 8192)"
      ]
     },
     "execution_count": 2,
     "metadata": {},
     "output_type": "execute_result"
    }
   ],
   "source": [
    "import resource\n",
    "resource.setrlimit(resource.RLIMIT_NOFILE, (4096*2 ,4096*2))\n",
    "resource.getrlimit(resource.RLIMIT_NOFILE)\n"
   ]
  },
  {
   "cell_type": "code",
   "execution_count": 50,
   "metadata": {
    "collapsed": true
   },
   "outputs": [],
   "source": [
    "import xgcm\n",
    "import jmd95\n",
    "from pygamman import gamman"
   ]
  },
  {
   "cell_type": "code",
   "execution_count": 4,
   "metadata": {
    "collapsed": false
   },
   "outputs": [
    {
     "name": "stderr",
     "output_type": "stream",
     "text": [
      "/home/rpa/xgcm/xgcm/mdsxray.py:243: UserWarning: Not sure what to do with rlev = L\n",
      "  warnings.warn(\"Not sure what to do with rlev = \" + rlev)\n",
      "/home/rpa/xgcm/xgcm/mdsxray.py:243: UserWarning: Not sure what to do with rlev = X\n",
      "  warnings.warn(\"Not sure what to do with rlev = \" + rlev)\n"
     ]
    }
   ],
   "source": [
    "iters = range(480, 210240, 480)\n",
    "#iters = range(48,120720+1,96)\n",
    "ddir = '/data/scratch/rpa/SOSE/run_np240'\n",
    "ds = xray.decode_cf(xgcm.open_mdsdataset(ddir, iters, prefix=['SOstt_5d'], #prefix=['TSUVWP_1d',],\n",
    "                             deltaT=900, ref_date='2005-01-01 00:00:00', calendar='gregorian'))\n",
    "gcm = xgcm.GCMDataset(ds)"
   ]
  },
  {
   "cell_type": "code",
   "execution_count": 5,
   "metadata": {
    "collapsed": true
   },
   "outputs": [],
   "source": [
    "xgcm.regrid_vertical?"
   ]
  },
  {
   "cell_type": "code",
   "execution_count": 18,
   "metadata": {
    "collapsed": false
   },
   "outputs": [
    {
     "data": {
      "text/plain": [
       "<xray.Dataset>\n",
       "Dimensions:  (X: 2160, Xp1: 2160, Z: 42, Zl: 42, Zp1: 43, Zu: 42, time: 437)\n",
       "Coordinates:\n",
       "  * Xp1      (Xp1) float32 5.55112e-17 0.166667 0.333333 0.5 0.666667 ...\n",
       "  * Zl       (Zl) float32 0.0 -10.0 -21.0 -33.0 -46.0 -60.0 -76.0 -94.0 ...\n",
       "    Yp1      float32 -30.125\n",
       "  * Zp1      (Zp1) float32 0.0 -10.0 -21.0 -33.0 -46.0 -60.0 -76.0 -94.0 ...\n",
       "    Y        float32 -30.0416\n",
       "  * X        (X) float32 0.0833333 0.25 0.416667 0.583333 0.75 0.916667 ...\n",
       "  * Z        (Z) float32 -5.0 -15.5 -27.0 -39.5 -53.0 -68.0 -85.0 -104.0 ...\n",
       "  * Zu       (Zu) float32 -10.0 -21.0 -33.0 -46.0 -60.0 -76.0 -94.0 -114.0 ...\n",
       "  * time     (time) datetime64[ns] 2005-01-06 2005-01-11 2005-01-16 ...\n",
       "Data variables:\n",
       "    YC       (X) float32 -30.0416 -30.0416 -30.0416 -30.0416 -30.0416 ...\n",
       "    YG       (Xp1) float32 -30.125 -30.125 -30.125 -30.125 -30.125 -30.125 ...\n",
       "    rA       (X) float32 2.97221e+08 2.97221e+08 2.97221e+08 2.97221e+08 ...\n",
       "    PHrefC   (Z) float32 49.05 152.055 264.87 387.495 519.93 667.08 833.85 ...\n",
       "    PHrefF   (Zp1) float32 0.0 98.1 206.01 323.73 451.26 588.6 745.56 922.14 ...\n",
       "    dxG      (X) float32 16026.8 16026.8 16026.8 16026.8 16026.8 16026.8 ...\n",
       "    dxC      (Xp1) float32 16040.4 16040.4 16040.4 16040.4 16040.4 16040.4 ...\n",
       "    XC       (X) float32 0.0833333 0.25 0.416667 0.583333 0.75 0.916667 ...\n",
       "    XG       (Xp1) float32 5.55112e-17 0.166667 0.333333 0.5 0.666667 ...\n",
       "    Depth    (X) float32 3665.97 3146.67 2806.64 2775.0 2626.64 2694.11 ...\n",
       "    drC      (Zp1) float32 5.0 10.5 11.5 12.5 13.5 15.0 17.0 19.0 21.5 24.5 ...\n",
       "    drF      (Z) float32 10.0 11.0 12.0 13.0 14.0 16.0 18.0 20.0 23.0 26.0 ...\n",
       "    HFacS    (Z, X) float32 1.0 1.0 1.0 1.0 1.0 1.0 1.0 1.0 1.0 1.0 1.0 1.0 ...\n",
       "    HFacW    (Z, Xp1) float32 1.0 1.0 1.0 1.0 1.0 1.0 1.0 1.0 1.0 1.0 1.0 ...\n",
       "    HFacC    (Z, X) float32 1.0 1.0 1.0 1.0 1.0 1.0 1.0 1.0 1.0 1.0 1.0 1.0 ...\n",
       "    rAw      (Xp1) float32 2.97221e+08 2.97221e+08 2.97221e+08 2.97221e+08 ...\n",
       "    rAs      (X) float32 2.96971e+08 2.96971e+08 2.96971e+08 2.96971e+08 ...\n",
       "    dyG      (Xp1) float32 18529.6 18529.6 18529.6 18529.6 18529.6 18529.6 ...\n",
       "    rAz      (Xp1) float32 2.96971e+08 2.96971e+08 2.96971e+08 2.96971e+08 ...\n",
       "    dyC      (X) float32 18529.6 18529.6 18529.6 18529.6 18529.6 18529.6 ...\n",
       "    iter     (time) int64 480 960 1440 1920 2400 2880 3360 3840 4320 4800 ...\n",
       "    THETA    (time, Z, X) float32 21.8605 21.837 21.8185 21.7985 21.7691 ...\n",
       "    SALT     (time, Z, X) float32 35.8311 35.8272 35.8255 35.8244 35.8194 ...\n",
       "    UVEL     (time, Z, Xp1) float32 -0.0131144 -0.0108688 -0.00649757 ...\n",
       "    VVEL     (time, Z, X) float32 0.00652699 0.0133771 0.0206226 0.0269527 ...\n",
       "    WVEL     (time, Zl, X) float32 9.52082e-07 9.4614e-07 9.37205e-07 ...\n",
       "    PHIHYD   (time, Z, X) float32 101.655 101.639 101.613 101.578 101.535 ...\n",
       "    DRHODR   (time, Zl, X) float32 0.0 0.0 0.0 0.0 0.0 0.0 0.0 0.0 0.0 0.0 ...\n",
       "Attributes:\n",
       "    history: Some made up attribute"
      ]
     },
     "execution_count": 18,
     "metadata": {},
     "output_type": "execute_result"
    }
   ],
   "source": [
    "# select a particular lat\n",
    "jlev = 287\n",
    "dslev = ds.isel(Y=jlev, Yp1=jlev)\n",
    "dslev"
   ]
  },
  {
   "cell_type": "code",
   "execution_count": 104,
   "metadata": {
    "collapsed": false
   },
   "outputs": [],
   "source": [
    "sig0_levs = np.load('../data/rholevs.npy')\n",
    "Nrho = len(sig0_levs)\n",
    "v_sig0 = np.zeros(Nrho+1, dtype='f8')"
   ]
  },
  {
   "cell_type": "code",
   "execution_count": 105,
   "metadata": {
    "collapsed": true
   },
   "outputs": [],
   "source": [
    "sig2_levs = np.linspace(1030,1037.7,350)\n",
    "Nrho2 = len(sig2_levs)\n",
    "v_sig2 = np.zeros(Nrho2+1, dtype='f8')"
   ]
  },
  {
   "cell_type": "code",
   "execution_count": 106,
   "metadata": {
    "collapsed": false
   },
   "outputs": [],
   "source": [
    "gam_levs = np.linspace(22,28.5,360)\n",
    "Ngam = len(gam_levs)\n",
    "v_gam = np.zeros(Ngam+1, dtype='f8')"
   ]
  },
  {
   "cell_type": "code",
   "execution_count": 107,
   "metadata": {
    "collapsed": true
   },
   "outputs": [],
   "source": [
    "def calc_gam(dslev, n):\n",
    "    Nz = dslev.dims['Z']\n",
    "    Nx = dslev.dims['X']\n",
    "    gam = np.zeros((Nz,Nx), 'f8')\n",
    "    for i in xrange(Nx):\n",
    "        gam[:,i], _, _ = gamman.gamma_n(\n",
    "                         dslev.SALT[n,...,i].values.ravel(),\n",
    "                         dslev.THETA[n,...,i].values.ravel(),\n",
    "                         -dslev.Z.values.ravel(),\n",
    "                         Nz,\n",
    "                         dslev.XC[i].values,\n",
    "                         dslev.YC[i].values)\n",
    "    return np.ma.masked_array(gam, dslev.HFacC.values==0)"
   ]
  },
  {
   "cell_type": "code",
   "execution_count": 108,
   "metadata": {
    "collapsed": false
   },
   "outputs": [
    {
     "name": "stderr",
     "output_type": "stream",
     "text": []
    }
   ],
   "source": [
    "for n in tqdm(xrange(dslev.dims['time'])):\n",
    "    salt = dslev.SALT[n]\n",
    "    theta = dslev.THETA[n]\n",
    "    sig0, _, _ = jmd95.eos.state_surface(theta.values, salt.values)\n",
    "    sig2, _, _ = jmd95.eos.state(2000, theta.values, salt.values)\n",
    "    gam = calc_gam(dslev, n)\n",
    "    bins0 = np.digitize(sig0.ravel(), sig0_levs)\n",
    "    bins2 = np.digitize(sig2.ravel(), sig2_levs)\n",
    "    binsg = np.digitize(gam.ravel(), gam_levs)\n",
    "    v_trans = dslev.VVEL[n] * dslev.drF * dslev.HFacS * dslev.dyC\n",
    "    v_sig0 += np.bincount(bins0, weights=v_trans.values.ravel(), minlength=Nrho+1)\n",
    "    v_sig2 += np.bincount(bins2, weights=v_trans.values.ravel(), minlength=Nrho2+1)\n",
    "    v_gam += np.bincount(binsg, weights=v_trans.values.ravel(), minlength=Ngam+1)    \n",
    "v_sig0 /= dslev.dims['time']\n",
    "v_sig2 /= dslev.dims['time']\n",
    "v_gam /= dslev.dims['time']\n"
   ]
  },
  {
   "cell_type": "code",
   "execution_count": 109,
   "metadata": {
    "collapsed": false
   },
   "outputs": [],
   "source": [
    "psi0 = np.cumsum(v_sig0)\n",
    "psi2 = np.cumsum(v_sig2)\n",
    "psig = np.cumsum(v_gam)"
   ]
  },
  {
   "cell_type": "code",
   "execution_count": 110,
   "metadata": {
    "collapsed": false
   },
   "outputs": [
    {
     "data": {
      "image/png": "[encoded data removed]",
      "text/plain": [
       "<matplotlib.figure.Figure at 0x7ecfe4dd5550>"
      ]
     },
     "metadata": {},
     "output_type": "display_data"
    }
   ],
   "source": [
    "plt.plot(sig0_levs-1000, psi0[1:]/1e6, '.-')\n",
    "#plt.xlim(26,28)\n",
    "plt.grid()"
   ]
  },
  {
   "cell_type": "code",
   "execution_count": 111,
   "metadata": {
    "collapsed": false
   },
   "outputs": [
    {
     "data": {
      "image/png": "[encoded data removed]",
      "text/plain": [
       "<matplotlib.figure.Figure at 0x7ecfe566c510>"
      ]
     },
     "metadata": {},
     "output_type": "display_data"
    }
   ],
   "source": [
    "plt.plot(sig2_levs-1000, psi2[1:]/1e6, '.-')\n",
    "#plt.xlim(26,28)\n",
    "plt.grid()"
   ]
  },
  {
   "cell_type": "code",
   "execution_count": 114,
   "metadata": {
    "collapsed": false
   },
   "outputs": [
    {
     "data": {
      "image/png": "[encoded data removed]",
      "text/plain": [
       "<matplotlib.figure.Figure at 0x7ecfe4787450>"
      ]
     },
     "metadata": {},
     "output_type": "display_data"
    }
   ],
   "source": [
    "plt.plot(gam_levs, psig[1:]/1e6, '.-')\n",
    "plt.xlim(26,28.5)\n",
    "plt.grid()"
   ]
  },
  {
   "cell_type": "code",
   "execution_count": 117,
   "metadata": {
    "collapsed": false
   },
   "outputs": [
    {
     "data": {
      "text/plain": [
       "<xray.Dataset>\n",
       "Dimensions:     (gamman: 360, sigma0: 400, sigma2: 350)\n",
       "Coordinates:\n",
       "  * gamman      (gamman) float64 22.0 22.02 22.04 22.05 22.07 22.09 22.11 ...\n",
       "  * sigma0      (sigma0) float64 22.5 22.53 22.55 22.58 22.6 22.63 22.65 ...\n",
       "  * sigma2      (sigma2) float64 30.0 30.02 30.04 30.07 30.09 30.11 30.13 ...\n",
       "Data variables:\n",
       "    psi_sigma2  (sigma2) float64 0.06658 0.09462 0.09462 0.09763 0.06565 ...\n",
       "    psi_sigma0  (sigma0) float64 -9.623e+03 -1.233e+04 -1.603e+04 -2.037e+04 ...\n",
       "    psi_gamman  (gamman) float64 -0.02468 -0.02468 -0.02998 -0.02998 ..."
      ]
     },
     "execution_count": 117,
     "metadata": {},
     "output_type": "execute_result"
    }
   ],
   "source": [
    "# let's save these streamfunctions\n",
    "import xray\n",
    "ds = xray.Dataset({\n",
    "        'psi_sigma0': ('sigma0', psi0[1:]),\n",
    "        'psi_sigma2': ('sigma2', psi2[1:]),\n",
    "        'psi_gamman': ('gamman', psig[1:]),\n",
    "        'sigma0': ('sigma0', sig0_levs-1000),\n",
    "        'sigma2': ('sigma2', sig2_levs-1000),\n",
    "        'gamman': ('gamman', gam_levs)\n",
    "    })\n",
    "ds.to_netcdf('../data/SOSE_streamfuctions_30S.nc')\n",
    "ds"
   ]
  },
  {
   "cell_type": "code",
   "execution_count": 96,
   "metadata": {
    "collapsed": false
   },
   "outputs": [
    {
     "data": {
      "text/plain": [
       "<matplotlib.colorbar.Colorbar instance at 0x7ecfe4ceba28>"
      ]
     },
     "execution_count": 96,
     "metadata": {},
     "output_type": "execute_result"
    },
    {
     "data": {
      "image/png": "[encoded data removed]",
      "text/plain": [
       "<matplotlib.figure.Figure at 0x7ecfe4db9f90>"
      ]
     },
     "metadata": {},
     "output_type": "display_data"
    }
   ],
   "source": [
    "plt.pcolormesh(theta.values)\n",
    "plt.colorbar()"
   ]
  },
  {
   "cell_type": "code",
   "execution_count": 99,
   "metadata": {
    "collapsed": false
   },
   "outputs": [
    {
     "data": {
      "text/plain": [
       "<matplotlib.colorbar.Colorbar instance at 0x7ecfe47ab248>"
      ]
     },
     "execution_count": 99,
     "metadata": {},
     "output_type": "execute_result"
    },
    {
     "data": {
      "image/png": "[encoded data removed]",
      "text/plain": [
       "<matplotlib.figure.Figure at 0x7ecfe494af50>"
      ]
     },
     "metadata": {},
     "output_type": "display_data"
    }
   ],
   "source": [
    "gam = calc_gam(dslev, n)\n",
    "plt.pcolormesh(gam)\n",
    "plt.colorbar()"
   ]
  },
  {
   "cell_type": "code",
   "execution_count": 24,
   "metadata": {
    "collapsed": false
   },
   "outputs": [
    {
     "data": {
      "text/plain": [
       "(26.5, 28)"
      ]
     },
     "execution_count": 24,
     "metadata": {},
     "output_type": "execute_result"
    },
    {
     "data": {
      "image/png": "[encoded data removed]",
      "text/plain": [
       "<matplotlib.figure.Figure at 0x7f97700f9c90>"
      ]
     },
     "metadata": {},
     "output_type": "display_data"
    }
   ],
   "source": [
    "plt.plot(rholevs-1000, transformation[1:]/1e6)\n",
    "plt.xlim(26.5,28)"
   ]
  },
  {
   "cell_type": "code",
   "execution_count": 13,
   "metadata": {
    "collapsed": false
   },
   "outputs": [],
   "source": [
    "from pygamman import gamman"
   ]
  },
  {
   "cell_type": "code",
   "execution_count": 16,
   "metadata": {
    "collapsed": false
   },
   "outputs": [],
   "source": [
    "t, s, lon, lat = xray.broadcast_arrays(dslev.THETA[n], dslev.SALT[n], dslev.XC, dslev.YC)\n",
    "#gamman = gamman.gamma_n()"
   ]
  },
  {
   "cell_type": "code",
   "execution_count": 17,
   "metadata": {
    "collapsed": false,
    "scrolled": true
   },
   "outputs": [
    {
     "ename": "TypeError",
     "evalue": "Required argument 'alat' (pos 6) not found",
     "output_type": "error",
     "traceback": [
      "\u001b[1;31m---------------------------------------------------------------------------\u001b[0m",
      "\u001b[1;31mTypeError\u001b[0m                                 Traceback (most recent call last)",
      "\u001b[1;32m<ipython-input-17-f14b35eea8dd>\u001b[0m in \u001b[0;36m<module>\u001b[1;34m()\u001b[0m\n\u001b[1;32m----> 1\u001b[1;33m \u001b[0mgn\u001b[0m \u001b[1;33m=\u001b[0m \u001b[0mgamman\u001b[0m\u001b[1;33m.\u001b[0m\u001b[0mgamma_n\u001b[0m\u001b[1;33m(\u001b[0m\u001b[0ms\u001b[0m\u001b[1;33m,\u001b[0m \u001b[0mt\u001b[0m\u001b[1;33m,\u001b[0m \u001b[1;36m700\u001b[0m\u001b[1;33m,\u001b[0m \u001b[0mlon\u001b[0m\u001b[1;33m,\u001b[0m \u001b[0mlat\u001b[0m\u001b[1;33m)\u001b[0m\u001b[1;33m\u001b[0m\u001b[0m\n\u001b[0m",
      "\u001b[1;31mTypeError\u001b[0m: Required argument 'alat' (pos 6) not found"
     ]
    }
   ],
   "source": [
    "N = len(s.ravel())\n",
    "gn, _, _ = gamman.gamma_n(s.ravel(), t.ravel(), 700, lon, lat)"
   ]
  },
  {
   "cell_type": "code",
   "execution_count": 25,
   "metadata": {
    "collapsed": true
   },
   "outputs": [],
   "source": [
    "vol = ds.HFacC * ds.rA * ds.drF"
   ]
  },
  {
   "cell_type": "code",
   "execution_count": 40,
   "metadata": {
    "collapsed": false
   },
   "outputs": [],
   "source": [
    "n = 0\n",
    "\n",
    "def get_volume_dist(n):\n",
    "    sig0, _, _ = jmd95.eos.state_surface(ds.THETA[n].values.ravel(), ds.SALT[n].values.ravel())\n",
    "    sig0.shape = ds.THETA[n].shape\n",
    "    bins = np.digitize(sig0[:klev].ravel(), rholevs)\n",
    "    vol_sig0 = np.bincount(bins, weights=vol[:klev].values.ravel(), minlength=Nrho+1)\n",
    "    return vol_sig0"
   ]
  },
  {
   "cell_type": "code",
   "execution_count": 43,
   "metadata": {
    "collapsed": false
   },
   "outputs": [],
   "source": [
    "Nt = len(ds.time)\n",
    "vol_init = get_volume_dist(0)\n",
    "vol_fin = get_volume_dist(Nt-1)"
   ]
  },
  {
   "cell_type": "code",
   "execution_count": 53,
   "metadata": {
    "collapsed": false
   },
   "outputs": [
    {
     "data": {
      "text/plain": [
       "[<matplotlib.lines.Line2D at 0x7f881582bb50>]"
      ]
     },
     "execution_count": 53,
     "metadata": {},
     "output_type": "execute_result"
    },
    {
     "data": {
      "image/png": "[encoded data removed]",
      "text/plain": [
       "<matplotlib.figure.Figure at 0x7f88154e3190>"
      ]
     },
     "metadata": {},
     "output_type": "display_data"
    }
   ],
   "source": [
    "vol_diff = (vol_fin - vol_init)\n",
    "DT = Nt * 5* (24*60*60.)\n",
    "rearrangement = np.cumsum(vol_diff) / DT\n",
    "plt.plot(rholevs-1000, -rearrangement[1:] / 1e6)\n",
    "plt.plot(rholevs-1000, -transformation[1:] / 1e6)\n",
    "plt.plot(rholevs-1000, (-rearrangement[1:] -transformation[1:] ) / 1e6)\n"
   ]
  },
  {
   "cell_type": "code",
   "execution_count": 54,
   "metadata": {
    "collapsed": true
   },
   "outputs": [],
   "source": [
    "# this is not really a proper volume budget... what about the open boundary!"
   ]
  },
  {
   "cell_type": "code",
   "execution_count": 53,
   "metadata": {
    "collapsed": false
   },
   "outputs": [
    {
     "data": {
      "text/plain": [
       "(2160,)"
      ]
     },
     "execution_count": 53,
     "metadata": {},
     "output_type": "execute_result"
    }
   ],
   "source": [
    "dslev.XC.shape"
   ]
  },
  {
   "cell_type": "code",
   "execution_count": 70,
   "metadata": {
    "collapsed": false
   },
   "outputs": [
    {
     "data": {
      "text/plain": [
       "28.354425430297852"
      ]
     },
     "execution_count": 70,
     "metadata": {},
     "output_type": "execute_result"
    }
   ],
   "source": [
    "gam = np.ma.masked_array(gam, dslev.HFacC.values==0)\n",
    "gam.max()"
   ]
  },
  {
   "cell_type": "code",
   "execution_count": 74,
   "metadata": {
    "collapsed": false
   },
   "outputs": [
    {
     "data": {
      "image/png": "[encoded data removed]",
      "text/plain": [
       "<matplotlib.figure.Figure at 0x7ecff6595f90>"
      ]
     },
     "metadata": {},
     "output_type": "display_data"
    }
   ],
   "source": [
    "plt.hist(gam.compressed(), bins=100);"
   ]
  },
  {
   "cell_type": "code",
   "execution_count": 79,
   "metadata": {
    "collapsed": false
   },
   "outputs": [],
   "source": [
    "\n",
    "import time"
   ]
  },
  {
   "cell_type": "code",
   "execution_count": 81,
   "metadata": {
    "collapsed": false
   },
   "outputs": [
    {
     "name": "stderr",
     "output_type": "stream",
     "text": []
    }
   ],
   "source": [
    "for n in tqdm(xrange(100)):\n",
    "    time.sleep(0.1)"
   ]
  },
  {
   "cell_type": "code",
   "execution_count": null,
   "metadata": {
    "collapsed": true
   },
   "outputs": [],
   "source": []
  }
 ],
 "metadata": {
  "kernelspec": {
   "display_name": "Python 2.7",
   "language": "python",
   "name": "python2"
  },
  "language_info": {
   "codemirror_mode": {
    "name": "ipython",
    "version": 2
   },
   "file_extension": ".py",
   "mimetype": "text/x-python",
   "name": "python",
   "nbconvert_exporter": "python",
   "pygments_lexer": "ipython2",
   "version": "2.7.10"
  }
 },
 "nbformat": 4,
 "nbformat_minor": 0
}
