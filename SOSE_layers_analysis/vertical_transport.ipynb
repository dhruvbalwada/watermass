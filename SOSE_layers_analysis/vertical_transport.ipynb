{
 "cells": [
  {
   "cell_type": "code",
   "execution_count": 1,
   "metadata": {
    "collapsed": true
   },
   "outputs": [],
   "source": [
    "import numpy as np\n",
    "import xray\n",
    "from matplotlib import pyplot as plt\n",
    "%matplotlib inline"
   ]
  },
  {
   "cell_type": "code",
   "execution_count": 2,
   "metadata": {
    "collapsed": false
   },
   "outputs": [
    {
     "data": {
      "text/plain": [
       "(8192, 8192)"
      ]
     },
     "execution_count": 2,
     "metadata": {},
     "output_type": "execute_result"
    }
   ],
   "source": [
    "import resource\n",
    "resource.setrlimit(resource.RLIMIT_NOFILE, (4096*2 ,4096*2))\n",
    "resource.getrlimit(resource.RLIMIT_NOFILE)\n"
   ]
  },
  {
   "cell_type": "code",
   "execution_count": 3,
   "metadata": {
    "collapsed": true
   },
   "outputs": [],
   "source": [
    "import xgcm\n",
    "import jmd95"
   ]
  },
  {
   "cell_type": "code",
   "execution_count": 4,
   "metadata": {
    "collapsed": false
   },
   "outputs": [
    {
     "name": "stderr",
     "output_type": "stream",
     "text": [
      "/home/rpa/xgcm/xgcm/mdsxray.py:243: UserWarning: Not sure what to do with rlev = L\n",
      "  warnings.warn(\"Not sure what to do with rlev = \" + rlev)\n",
      "/home/rpa/xgcm/xgcm/mdsxray.py:243: UserWarning: Not sure what to do with rlev = X\n",
      "  warnings.warn(\"Not sure what to do with rlev = \" + rlev)\n"
     ]
    },
    {
     "data": {
      "text/plain": [
       "<xray.Dataset>\n",
       "Dimensions:  (X: 2160, Xp1: 2160, Y: 320, Yp1: 320, Z: 42, Zl: 42, Zp1: 43, Zu: 42, time: 437)\n",
       "Coordinates:\n",
       "  * Xp1      (Xp1) float32 5.55112e-17 0.166667 0.333333 0.5 0.666667 ...\n",
       "  * Zl       (Zl) float32 0.0 -10.0 -21.0 -33.0 -46.0 -60.0 -76.0 -94.0 ...\n",
       "  * Yp1      (Yp1) float32 -77.9583 -77.7916 -77.625 -77.4583 -77.2916 ...\n",
       "  * Zp1      (Zp1) float32 0.0 -10.0 -21.0 -33.0 -46.0 -60.0 -76.0 -94.0 ...\n",
       "  * Y        (Y) float32 -77.875 -77.7083 -77.5416 -77.375 -77.2083 -77.0416 ...\n",
       "  * X        (X) float32 0.0833333 0.25 0.416667 0.583333 0.75 0.916667 ...\n",
       "  * Z        (Z) float32 -5.0 -15.5 -27.0 -39.5 -53.0 -68.0 -85.0 -104.0 ...\n",
       "  * Zu       (Zu) float32 -10.0 -21.0 -33.0 -46.0 -60.0 -76.0 -94.0 -114.0 ...\n",
       "  * time     (time) datetime64[ns] 2005-01-06 2005-01-11 2005-01-16 ...\n",
       "Data variables:\n",
       "    YC       (Y, X) float32 -77.875 -77.875 -77.875 -77.875 -77.875 -77.875 ...\n",
       "    YG       (Yp1, Xp1) float32 -77.9583 -77.9583 -77.9583 -77.9583 -77.9583 ...\n",
       "    rA       (Y, X) float32 7.21182e+07 7.21182e+07 7.21182e+07 7.21182e+07 ...\n",
       "    PHrefC   (Z) float32 49.05 152.055 264.87 387.495 519.93 667.08 833.85 ...\n",
       "    PHrefF   (Zp1) float32 0.0 98.1 206.01 323.73 451.26 588.6 745.56 922.14 ...\n",
       "    dxG      (Yp1, X) float32 3865.71 3865.71 3865.71 3865.71 3865.71 ...\n",
       "    dxC      (Y, Xp1) float32 3892.06 3892.06 3892.06 3892.06 3892.06 ...\n",
       "    XC       (Y, X) float32 0.0833333 0.25 0.416667 0.583333 0.75 0.916667 ...\n",
       "    XG       (Yp1, Xp1) float32 5.55112e-17 0.166667 0.333333 0.5 0.666667 ...\n",
       "    Depth    (Y, X) float32 0.0 0.0 0.0 0.0 0.0 0.0 0.0 0.0 0.0 0.0 0.0 0.0 ...\n",
       "    drC      (Zp1) float32 5.0 10.5 11.5 12.5 13.5 15.0 17.0 19.0 21.5 24.5 ...\n",
       "    drF      (Z) float32 10.0 11.0 12.0 13.0 14.0 16.0 18.0 20.0 23.0 26.0 ...\n",
       "    HFacS    (Z, Yp1, X) float32 0.0 0.0 0.0 0.0 0.0 0.0 0.0 0.0 0.0 0.0 0.0 ...\n",
       "    HFacW    (Z, Y, Xp1) float32 0.0 0.0 0.0 0.0 0.0 0.0 0.0 0.0 0.0 0.0 0.0 ...\n",
       "    HFacC    (Z, Y, X) float32 0.0 0.0 0.0 0.0 0.0 0.0 0.0 0.0 0.0 0.0 0.0 ...\n",
       "    rAw      (Y, Xp1) float32 7.21182e+07 7.21182e+07 7.21182e+07 ...\n",
       "    rAs      (Yp1, X) float32 7.16299e+07 7.16299e+07 7.16299e+07 ...\n",
       "    dyG      (Y, Xp1) float32 18529.6 18529.6 18529.6 18529.6 18529.6 ...\n",
       "    rAz      (Yp1, Xp1) float32 7.16299e+07 7.16299e+07 7.16299e+07 ...\n",
       "    dyC      (Yp1, X) float32 18529.6 18529.6 18529.6 18529.6 18529.6 ...\n",
       "    iter     (time) int64 480 960 1440 1920 2400 2880 3360 3840 4320 4800 ...\n",
       "    THETA    (time, Z, Y, X) float32 0.0 0.0 0.0 0.0 0.0 0.0 0.0 0.0 0.0 0.0 ...\n",
       "    SALT     (time, Z, Y, X) float32 0.0 0.0 0.0 0.0 0.0 0.0 0.0 0.0 0.0 0.0 ...\n",
       "    UVEL     (time, Z, Y, Xp1) float32 0.0 0.0 0.0 0.0 0.0 0.0 0.0 0.0 0.0 ...\n",
       "    VVEL     (time, Z, Yp1, X) float32 0.0 0.0 0.0 0.0 0.0 0.0 0.0 0.0 0.0 ...\n",
       "    WVEL     (time, Zl, Y, X) float32 0.0 0.0 0.0 0.0 0.0 0.0 0.0 0.0 0.0 ...\n",
       "    PHIHYD   (time, Z, Y, X) float32 -1.66493 -1.66493 -1.66493 -1.66493 ...\n",
       "    DRHODR   (time, Zl, Y, X) float32 0.0 0.0 0.0 0.0 0.0 0.0 0.0 0.0 0.0 ...\n",
       "Attributes:\n",
       "    history: Some made up attribute"
      ]
     },
     "execution_count": 4,
     "metadata": {},
     "output_type": "execute_result"
    }
   ],
   "source": [
    "iters = range(480, 210240, 480)\n",
    "#iters = range(48,120720+1,96)\n",
    "ddir = '/data/scratch/rpa/SOSE/run_np240'\n",
    "ds = xray.decode_cf(xgcm.open_mdsdataset(ddir, iters, prefix=['SOstt_5d'], #prefix=['TSUVWP_1d',],\n",
    "                             deltaT=900, ref_date='2005-01-01 00:00:00', calendar='gregorian'))\n",
    "ds"
   ]
  },
  {
   "cell_type": "code",
   "execution_count": 5,
   "metadata": {
    "collapsed": false
   },
   "outputs": [
    {
     "data": {
      "text/plain": [
       "<xray.Dataset>\n",
       "Dimensions:  (X: 2160, Xp1: 2160, Y: 320, Yp1: 320, Zu: 42, time: 437)\n",
       "Coordinates:\n",
       "  * Xp1      (Xp1) float32 5.55112e-17 0.166667 0.333333 0.5 0.666667 ...\n",
       "    Zl       float32 -624.0\n",
       "  * Yp1      (Yp1) float32 -77.9583 -77.7916 -77.625 -77.4583 -77.2916 ...\n",
       "    Zp1      float32 -718.0\n",
       "  * Y        (Y) float32 -77.875 -77.7083 -77.5416 -77.375 -77.2083 -77.0416 ...\n",
       "  * X        (X) float32 0.0833333 0.25 0.416667 0.583333 0.75 0.916667 ...\n",
       "    Z        float32 -671.0\n",
       "  * Zu       (Zu) float32 -10.0 -21.0 -33.0 -46.0 -60.0 -76.0 -94.0 -114.0 ...\n",
       "  * time     (time) datetime64[ns] 2005-01-06 2005-01-11 2005-01-16 ...\n",
       "Data variables:\n",
       "    YC       (Y, X) float32 -77.875 -77.875 -77.875 -77.875 -77.875 -77.875 ...\n",
       "    YG       (Yp1, Xp1) float32 -77.9583 -77.9583 -77.9583 -77.9583 -77.9583 ...\n",
       "    rA       (Y, X) float32 7.21182e+07 7.21182e+07 7.21182e+07 7.21182e+07 ...\n",
       "    PHrefC   float32 6582.51\n",
       "    PHrefF   float32 7043.58\n",
       "    dxG      (Yp1, X) float32 3865.71 3865.71 3865.71 3865.71 3865.71 ...\n",
       "    dxC      (Y, Xp1) float32 3892.06 3892.06 3892.06 3892.06 3892.06 ...\n",
       "    XC       (Y, X) float32 0.0833333 0.25 0.416667 0.583333 0.75 0.916667 ...\n",
       "    XG       (Yp1, Xp1) float32 5.55112e-17 0.166667 0.333333 0.5 0.666667 ...\n",
       "    Depth    (Y, X) float32 0.0 0.0 0.0 0.0 0.0 0.0 0.0 0.0 0.0 0.0 0.0 0.0 ...\n",
       "    drC      float32 101.0\n",
       "    drF      float32 94.0\n",
       "    HFacS    (Yp1, X) float32 0.0 0.0 0.0 0.0 0.0 0.0 0.0 0.0 0.0 0.0 0.0 ...\n",
       "    HFacW    (Y, Xp1) float32 0.0 0.0 0.0 0.0 0.0 0.0 0.0 0.0 0.0 0.0 0.0 ...\n",
       "    HFacC    (Y, X) float32 0.0 0.0 0.0 0.0 0.0 0.0 0.0 0.0 0.0 0.0 0.0 0.0 ...\n",
       "    rAw      (Y, Xp1) float32 7.21182e+07 7.21182e+07 7.21182e+07 ...\n",
       "    rAs      (Yp1, X) float32 7.16299e+07 7.16299e+07 7.16299e+07 ...\n",
       "    dyG      (Y, Xp1) float32 18529.6 18529.6 18529.6 18529.6 18529.6 ...\n",
       "    rAz      (Yp1, Xp1) float32 7.16299e+07 7.16299e+07 7.16299e+07 ...\n",
       "    dyC      (Yp1, X) float32 18529.6 18529.6 18529.6 18529.6 18529.6 ...\n",
       "    iter     (time) int64 480 960 1440 1920 2400 2880 3360 3840 4320 4800 ...\n",
       "    THETA    (time, Y, X) float32 0.0 0.0 0.0 0.0 0.0 0.0 0.0 0.0 0.0 0.0 ...\n",
       "    SALT     (time, Y, X) float32 0.0 0.0 0.0 0.0 0.0 0.0 0.0 0.0 0.0 0.0 ...\n",
       "    UVEL     (time, Y, Xp1) float32 0.0 0.0 0.0 0.0 0.0 0.0 0.0 0.0 0.0 0.0 ...\n",
       "    VVEL     (time, Yp1, X) float32 0.0 0.0 0.0 0.0 0.0 0.0 0.0 0.0 0.0 0.0 ...\n",
       "    WVEL     (time, Y, X) float32 0.0 0.0 0.0 0.0 0.0 0.0 0.0 0.0 0.0 0.0 ...\n",
       "    PHIHYD   (time, Y, X) float32 -212.635 -212.635 -212.635 -212.635 ...\n",
       "    DRHODR   (time, Y, X) float32 0.0 0.0 0.0 0.0 0.0 0.0 0.0 0.0 0.0 0.0 ...\n",
       "Attributes:\n",
       "    history: Some made up attribute"
      ]
     },
     "execution_count": 5,
     "metadata": {},
     "output_type": "execute_result"
    }
   ],
   "source": [
    "# select a particular level\n",
    "klev = 19\n",
    "dslev = ds.isel(Zl=klev, Z=klev, Zp1=klev+1)\n",
    "dslev"
   ]
  },
  {
   "cell_type": "code",
   "execution_count": 18,
   "metadata": {
    "collapsed": false
   },
   "outputs": [],
   "source": [
    "rholevs = np.load('../data/rholevs.npy')\n",
    "Nrho = len(rholevs)\n",
    "w_sig = np.zeros(Nrho+1, dtype='f8')"
   ]
  },
  {
   "cell_type": "code",
   "execution_count": 20,
   "metadata": {
    "collapsed": false
   },
   "outputs": [
    {
     "name": "stdout",
     "output_type": "stream",
     "text": [
      "0 -31786.703125 -473.127189994\n",
      "10 -496.361755371 -179.513824284\n",
      "20 6264.50585938 546.43220371\n",
      "30 -8752.27441406 150.003195763\n",
      "40 -11783.7392578 448.414009094\n",
      "50 6470.16601562 108.44491291\n",
      "60 5064.12207031 419.593153954\n",
      "70 8008.17773438 110.664766788\n",
      "80 -4457.33154297 526.242936373\n",
      "90 5475.53808594 -712.025070779\n",
      "100 8996.01953125 -147.226190567\n",
      "110 2160.21704102 16.4127368927\n",
      "120 14396.75 300.425526619\n",
      "130 11282.0615234 -540.064923286\n",
      "140 -4998.77490234 -153.197441101\n",
      "150 -8989.09863281 64.5842558146\n",
      "160 18139.7949219 -326.218199372\n",
      "170 9213.69921875 507.787810326\n",
      "180 -9506.97460938 -13.9671039581\n",
      "190 -9887.97265625 -219.437026978\n",
      "200 8677.1640625 1133.72239113\n",
      "210 -1390.7557373 -321.596536636\n",
      "220 -65909.734375 -185.778779984\n",
      "230 -82606.5625 197.138109207\n",
      "240 59920.0039062 129.016283989\n",
      "250 -7641.72607422 -476.759916067\n",
      "260 -5901.70019531 419.663805008\n",
      "270 -40703.1289062 618.756334782\n",
      "280 33467.6328125 -616.278499603\n",
      "290 -85620.9296875 -161.821126938\n",
      "300 -58809.9453125 -274.465005875\n",
      "310 46492.0195312 38.9907207489\n",
      "320 -5123.91210938 -409.745333672\n",
      "330 63756.78125 221.000951767\n",
      "340 -40889.390625 -1395.79856396\n",
      "350 -11994.6289062 -486.943473816\n",
      "360 37595.8046875 407.186027527\n",
      "370 20556.5175781 6.30549621582\n",
      "380 -17217.1640625 -114.898402214\n",
      "390 6437.89208984 -359.420594454\n",
      "400 -12344.2128906 -320.685542583\n",
      "410 -13812.7705078 -4.68504190445\n",
      "420 -11364.8427734 268.567427993\n",
      "430 -14062.9755859 -218.841934204\n"
     ]
    }
   ],
   "source": [
    "for n in xrange(dslev.dims['time']):\n",
    "    salt = dslev.SALT[n]\n",
    "    theta = dslev.THETA[n]\n",
    "    sig0, _, _ = jmd95.eos.state_surface(theta.values, salt.values)\n",
    "    bins = np.digitize(sig0.ravel(), rholevs)\n",
    "    w_trans = (dslev.WVEL[n]*dslev.rA)\n",
    "    w_trans -= w_trans.mean()\n",
    "    w_sig_this = np.bincount(bins, weights=w_trans.values.ravel(), minlength=Nrho+1)\n",
    "    if (n % 10)==0:\n",
    "        print n, w_trans.sum().values, w_sig_this.sum()\n",
    "    w_sig += w_sig_this"
   ]
  },
  {
   "cell_type": "code",
   "execution_count": 21,
   "metadata": {
    "collapsed": false
   },
   "outputs": [],
   "source": [
    "drho = np.diff(rholevs)\n",
    "rho = 0.5*(rholevs[1:] + rholevs[:-1]) - 1000"
   ]
  },
  {
   "cell_type": "code",
   "execution_count": 22,
   "metadata": {
    "collapsed": false
   },
   "outputs": [],
   "source": [
    "formation = w_sig[1:-1] / dslev.dims['time'] / drho\n",
    "transformation = np.cumsum(w_sig[::-1] / dslev.dims['time'])[::-1]"
   ]
  },
  {
   "cell_type": "code",
   "execution_count": 23,
   "metadata": {
    "collapsed": false
   },
   "outputs": [
    {
     "data": {
      "image/png": "[encoded data removed]",
      "text/plain": [
       "<matplotlib.figure.Figure at 0x7f9ad82b3e10>"
      ]
     },
     "metadata": {},
     "output_type": "display_data"
    }
   ],
   "source": [
    "plt.plot(rho, formation/1e6, '.-')\n",
    "plt.xlim(26.5,28)\n",
    "plt.grid()"
   ]
  },
  {
   "cell_type": "code",
   "execution_count": 24,
   "metadata": {
    "collapsed": false
   },
   "outputs": [
    {
     "data": {
      "text/plain": [
       "(26.5, 28)"
      ]
     },
     "execution_count": 24,
     "metadata": {},
     "output_type": "execute_result"
    },
    {
     "data": {
      "image/png": "[encoded data removed]",
      "text/plain": [
       "<matplotlib.figure.Figure at 0x7f97700f9c90>"
      ]
     },
     "metadata": {},
     "output_type": "display_data"
    }
   ],
   "source": [
    "plt.plot(rholevs-1000, transformation[1:]/1e6)\n",
    "plt.xlim(26.5,28)"
   ]
  },
  {
   "cell_type": "code",
   "execution_count": 13,
   "metadata": {
    "collapsed": false
   },
   "outputs": [],
   "source": [
    "from pygamman import gamman"
   ]
  },
  {
   "cell_type": "code",
   "execution_count": 16,
   "metadata": {
    "collapsed": false
   },
   "outputs": [],
   "source": [
    "t, s, lon, lat = xray.broadcast_arrays(dslev.THETA[n], dslev.SALT[n], dslev.XC, dslev.YC)\n",
    "#gamman = gamman.gamma_n()"
   ]
  },
  {
   "cell_type": "code",
   "execution_count": 17,
   "metadata": {
    "collapsed": false,
    "scrolled": true
   },
   "outputs": [
    {
     "ename": "TypeError",
     "evalue": "Required argument 'alat' (pos 6) not found",
     "output_type": "error",
     "traceback": [
      "\u001b[1;31m---------------------------------------------------------------------------\u001b[0m",
      "\u001b[1;31mTypeError\u001b[0m                                 Traceback (most recent call last)",
      "\u001b[1;32m<ipython-input-17-f14b35eea8dd>\u001b[0m in \u001b[0;36m<module>\u001b[1;34m()\u001b[0m\n\u001b[1;32m----> 1\u001b[1;33m \u001b[0mgn\u001b[0m \u001b[1;33m=\u001b[0m \u001b[0mgamman\u001b[0m\u001b[1;33m.\u001b[0m\u001b[0mgamma_n\u001b[0m\u001b[1;33m(\u001b[0m\u001b[0ms\u001b[0m\u001b[1;33m,\u001b[0m \u001b[0mt\u001b[0m\u001b[1;33m,\u001b[0m \u001b[1;36m700\u001b[0m\u001b[1;33m,\u001b[0m \u001b[0mlon\u001b[0m\u001b[1;33m,\u001b[0m \u001b[0mlat\u001b[0m\u001b[1;33m)\u001b[0m\u001b[1;33m\u001b[0m\u001b[0m\n\u001b[0m",
      "\u001b[1;31mTypeError\u001b[0m: Required argument 'alat' (pos 6) not found"
     ]
    }
   ],
   "source": [
    "N = len(s.ravel())\n",
    "gn, _, _ = gamman.gamma_n(s.ravel(), t.ravel(), 700, lon, lat)"
   ]
  },
  {
   "cell_type": "code",
   "execution_count": 25,
   "metadata": {
    "collapsed": true
   },
   "outputs": [],
   "source": [
    "vol = ds.HFacC * ds.rA * ds.drF"
   ]
  },
  {
   "cell_type": "code",
   "execution_count": 40,
   "metadata": {
    "collapsed": false
   },
   "outputs": [],
   "source": [
    "n = 0\n",
    "\n",
    "def get_volume_dist(n):\n",
    "    sig0, _, _ = jmd95.eos.state_surface(ds.THETA[n].values.ravel(), ds.SALT[n].values.ravel())\n",
    "    sig0.shape = ds.THETA[n].shape\n",
    "    bins = np.digitize(sig0[:klev].ravel(), rholevs)\n",
    "    vol_sig0 = np.bincount(bins, weights=vol[:klev].values.ravel(), minlength=Nrho+1)\n",
    "    return vol_sig0"
   ]
  },
  {
   "cell_type": "code",
   "execution_count": 43,
   "metadata": {
    "collapsed": false
   },
   "outputs": [],
   "source": [
    "Nt = len(ds.time)\n",
    "vol_init = get_volume_dist(0)\n",
    "vol_fin = get_volume_dist(Nt-1)"
   ]
  },
  {
   "cell_type": "code",
   "execution_count": 53,
   "metadata": {
    "collapsed": false
   },
   "outputs": [
    {
     "data": {
      "text/plain": [
       "[<matplotlib.lines.Line2D at 0x7f881582bb50>]"
      ]
     },
     "execution_count": 53,
     "metadata": {},
     "output_type": "execute_result"
    },
    {
     "data": {
      "image/png": "[encoded data removed]",
      "text/plain": [
       "<matplotlib.figure.Figure at 0x7f88154e3190>"
      ]
     },
     "metadata": {},
     "output_type": "display_data"
    }
   ],
   "source": [
    "vol_diff = (vol_fin - vol_init)\n",
    "DT = Nt * 5* (24*60*60.)\n",
    "rearrangement = np.cumsum(vol_diff) / DT\n",
    "plt.plot(rholevs-1000, -rearrangement[1:] / 1e6)\n",
    "plt.plot(rholevs-1000, -transformation[1:] / 1e6)\n",
    "plt.plot(rholevs-1000, (-rearrangement[1:] -transformation[1:] ) / 1e6)\n"
   ]
  },
  {
   "cell_type": "code",
   "execution_count": 54,
   "metadata": {
    "collapsed": true
   },
   "outputs": [],
   "source": [
    "# this is not really a proper volume budget... what about the open boundary!"
   ]
  },
  {
   "cell_type": "code",
   "execution_count": null,
   "metadata": {
    "collapsed": true
   },
   "outputs": [],
   "source": []
  }
 ],
 "metadata": {
  "kernelspec": {
   "display_name": "Python 2.7",
   "language": "python",
   "name": "python2"
  },
  "language_info": {
   "codemirror_mode": {
    "name": "ipython",
    "version": 2
   },
   "file_extension": ".py",
   "mimetype": "text/x-python",
   "name": "python",
   "nbconvert_exporter": "python",
   "pygments_lexer": "ipython2",
   "version": "2.7.10"
  }
 },
 "nbformat": 4,
 "nbformat_minor": 0
}
