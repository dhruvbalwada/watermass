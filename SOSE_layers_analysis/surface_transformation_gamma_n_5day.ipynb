{
 "metadata": {
  "name": "",
  "signature": "sha256:6b996a1b39228eba93008d1d4c3ece9557c2f2b311f085fdc244a883dddd0751"
 },
 "nbformat": 3,
 "nbformat_minor": 0,
 "worksheets": [
  {
   "cells": [
    {
     "cell_type": "code",
     "collapsed": false,
     "input": [
      "import numpy as np\n",
      "from matplotlib import pyplot as plt\n",
      "import matplotlib\n",
      "import brewer2mpl\n",
      "from mitgcmdata import MITgcmmodel\n",
      "from jmd95 import eos\n",
      "\n",
      "%matplotlib inline\n",
      "plt.rcParams['image.origin'] = 'bottom'\n",
      "plt.rcParams['figure.figsize'] = (16,8)\n",
      "\n",
      "\n",
      "bmap = brewer2mpl.get_map('Set1', 'Qualitative', 6)\n",
      "plt.rcParams['axes.color_cycle'] = bmap.mpl_colors\n"
     ],
     "language": "python",
     "metadata": {},
     "outputs": [],
     "prompt_number": 2
    },
    {
     "cell_type": "code",
     "collapsed": false,
     "input": [
      "ddir = '/glade/scratch/rpa/SOSE/run_matt'\n",
      "\n",
      "m = MITgcmmodel.ModelInstance(output_dir=ddir)\n"
     ],
     "language": "python",
     "metadata": {},
     "outputs": [
      {
       "output_type": "stream",
       "stream": "stderr",
       "text": [
        "/glade/scratch/rpa/SOSE/run_matt/XC.meta\n",
        "/glade/scratch/rpa/SOSE/run_matt/XG.meta\n"
       ]
      },
      {
       "output_type": "stream",
       "stream": "stderr",
       "text": [
        "/glade/scratch/rpa/SOSE/run_matt/YC.meta\n",
        "/glade/scratch/rpa/SOSE/run_matt/YG.meta\n",
        "/glade/scratch/rpa/SOSE/run_matt/DYC.meta\n"
       ]
      },
      {
       "output_type": "stream",
       "stream": "stderr",
       "text": [
        "/glade/scratch/rpa/SOSE/run_matt/DYG.meta\n",
        "/glade/scratch/rpa/SOSE/run_matt/DXC.meta\n"
       ]
      },
      {
       "output_type": "stream",
       "stream": "stderr",
       "text": [
        "/glade/scratch/rpa/SOSE/run_matt/DXG.meta\n",
        "/glade/scratch/rpa/SOSE/run_matt/RAC.meta\n"
       ]
      },
      {
       "output_type": "stream",
       "stream": "stderr",
       "text": [
        "/glade/scratch/rpa/SOSE/run_matt/RC.meta\n",
        "/glade/scratch/rpa/SOSE/run_matt/RF.meta\n",
        "/glade/scratch/rpa/SOSE/run_matt/DRC.meta\n",
        "/glade/scratch/rpa/SOSE/run_matt/DRF.meta\n",
        "/glade/scratch/rpa/SOSE/run_matt/Depth.meta\n"
       ]
      },
      {
       "output_type": "stream",
       "stream": "stderr",
       "text": [
        "/glade/scratch/rpa/SOSE/run_matt/hFacC.meta\n",
        "/glade/scratch/rpa/SOSE/run_matt/hFacS.meta\n"
       ]
      },
      {
       "output_type": "stream",
       "stream": "stdout",
       "text": [
        "2160 320  42\n"
       ]
      },
      {
       "output_type": "stream",
       "stream": "stderr",
       "text": [
        "/glade/scratch/rpa/SOSE/run_matt/hFacW.meta\n"
       ]
      }
     ],
     "prompt_number": 3
    },
    {
     "cell_type": "markdown",
     "metadata": {},
     "source": [
      "## data.diagnostics ##\n",
      "\n",
      "    frequency(1) =  432000.0,\n",
      "    fields(1,1) = 'SIarea  ','SIheff  ','SIhsnow ','SItflux ',\n",
      "                 'SIatmQnt','SIempmr ','SIatmFW ','SIuheff ',\n",
      "                 'SIvheff ','TFLUX   ','SFLUX   ','THETA   ',\n",
      "                 'SALT    ','WTHMASS ','WSLTMASS','SIuice  ',\n",
      "                 'SIvice  ','SIsnPrcp',\n",
      "                 'SIdHbOCN','SIdSbOCN','SIdHbATO',\n",
      "    levels(1,1) = 1,\n",
      "    filename(1) = 'DiagIce-5day',\n",
      "\n",
      "\n"
     ]
    },
    {
     "cell_type": "code",
     "collapsed": false,
     "input": [
      "# monthly stuff\n",
      "deltaT = 900\n",
      "#diag_freq = 2629200. # monthly\n",
      "#diag_prefix = 'DiagIce-monthly'\n",
      "\n",
      "diag_freq = 432000 # 5-day\n",
      "diag_prefix= 'DiagIce-5day'\n",
      "\n",
      "diag_delta_iter = diag_freq/deltaT\n",
      "\n",
      "ntimesteps = 210336\n",
      "diag_iters = np.round(np.arange(diag_delta_iter, ntimesteps+1, diag_delta_iter)).astype('i4')\n",
      "Nt = len(diag_iters)\n"
     ],
     "language": "python",
     "metadata": {},
     "outputs": [],
     "prompt_number": 14
    },
    {
     "cell_type": "code",
     "collapsed": false,
     "input": [
      "diag_names = ['SIarea', 'SIheff', 'SIhsnow', 'SItflux', 'SIatmQnt', 'SIempmr',\n",
      "             'SIatmFW', 'SIuheff', 'SIvheff', 'TFLUX', 'SFLUX', 'THETA', 'SALT',\n",
      "             'WTHMASS ','WSLTMASS','SIuice','SIvice','SIsnPrcp',\n",
      "             'SIdHbOCN','SIdSbOCN','SIdHbATO']\n",
      "\n",
      "#diag_prefix = 'DiagIce-5day'\n",
      "\n"
     ],
     "language": "python",
     "metadata": {},
     "outputs": [],
     "prompt_number": 15
    },
    {
     "cell_type": "code",
     "collapsed": true,
     "input": [
      "lon = m.xc[0,:,:]\n",
      "lat = m.yc[0,:,:]"
     ],
     "language": "python",
     "metadata": {},
     "outputs": [],
     "prompt_number": 16
    },
    {
     "cell_type": "code",
     "collapsed": false,
     "input": [
      "def surface_transformation_rate(m, rho, rholevs, *args):\n",
      "    \"\"\"Calculate surface transformation rate given\n",
      "        m: an MITgcmmodel.ModelInstance\n",
      "        rho: a surface density field\n",
      "        rholevs: density levels (to define bins)\n",
      "        args: various components of the density flux\n",
      "    \"\"\"\n",
      "\n",
      "    drho = np.diff(rholevs)\n",
      "    Nbins = len(rholevs)-1\n",
      "    \n",
      "    # mask anything outside the range\n",
      "    rho_m = np.ma.masked_greater_equal(\n",
      "                np.ma.masked_less(rho, rholevs.min()), rholevs.max())\n",
      "    mask = rho_m.mask\n",
      "    \n",
      "    rho_idx = np.digitize(rho_m.compressed(), rholevs)-1\n",
      "    assert rho_idx.min()>=0\n",
      "    assert rho_idx.max()<=Nbins\n",
      "        \n",
      "    # rho_idx==i means rholevs[i-1] <= rholevs < rholevs[i]\n",
      "    \n",
      "    \n",
      "    res = []\n",
      "    for a in args:\n",
      "        dens_flux = np.ma.masked_array(a * m.rac, mask)\n",
      "        res.append(\n",
      "            np.bincount(rho_idx, weights=dens_flux.compressed(), minlength=Nbins)\n",
      "            / drho\n",
      "        )\n",
      "    return np.array(res)\n",
      "    \n",
      "    "
     ],
     "language": "python",
     "metadata": {},
     "outputs": [],
     "prompt_number": 17
    },
    {
     "cell_type": "code",
     "collapsed": false,
     "input": [
      "drho1 = 0.002\n",
      "drho2 = 0.025\n",
      "#drho3 = 0.025\n",
      "\n",
      "rho0 = 28.5\n",
      "\n",
      "drho = np.hstack([\n",
      "        drho1 * np.ones(150),\n",
      "        np.linspace(drho1, drho2, 150),\n",
      "        drho2 * np.ones(100),\n",
      "#        np.linspace(drho2, drho3 ,100),\n",
      "#        drho3 * np.ones(100),\n",
      "])\n",
      "rholevs = (rho0 - np.cumsum(drho))[::-1]\n",
      "\n",
      "plt.plot(rholevs, '-')\n",
      "plt.yticks(np.arange(23,28.6,0.2))\n",
      "plt.grid()"
     ],
     "language": "python",
     "metadata": {},
     "outputs": [
      {
       "metadata": {},
       "output_type": "display_data",
       "png": "[encoded data removed]",
       "text": [
        "<matplotlib.figure.Figure at 0x2baaee4f3410>"
       ]
      }
     ],
     "prompt_number": 20
    },
    {
     "cell_type": "code",
     "collapsed": false,
     "input": [
      "salt_EvPrRn=0.\n",
      "rUnit2mass=1.035E+03\n",
      "HeatCapacity_Cp=3.994E+03\n",
      "\n",
      "fluxfac_T = 1.0/(HeatCapacity_Cp*rUnit2mass)\n",
      "fluxfac_S = 1.0/rUnit2mass\n",
      "\n",
      "# gives m/year\n",
      "scalefac = 24*60*60*365/1e3\n",
      "\n",
      "#Nrho = 150\n",
      "#rholevs = np.linspace(22.,28.6,Nrho+1)\n",
      "Nrho = len(rholevs)-1\n",
      "\n",
      "transformation_monthy = np.zeros((Nt,3,Nrho), 'f8')\n",
      "for nmon, niter in enumerate(diag_iters):\n",
      "    \n",
      "    draw = m.rdmds(diag_prefix, niter)\n",
      "    d = {}\n",
      "    for n, dn in enumerate(diag_names):\n",
      "        d[dn] = draw[n]\n",
      "        \n",
      "    gam = m.rdmds('gamma_n_surface/gamma_n_surface', niter)\n",
      "    rho, drhodt, drhods = eos.state_surface(d['THETA'], d['SALT'])\n",
      "    \n",
      "    mask = (m.mask[0] | (gam<0))\n",
      "    \n",
      "    atmFW = -np.ma.masked_array(d['SIatmFW'], mask)\n",
      "    EmPmR = np.ma.masked_array(d['SIempmr'], mask)\n",
      "    ice_fw = EmPmR - atmFW\n",
      "\n",
      "    # has the same units as SFLUX\n",
      "    salt = d['SALT']\n",
      "    sflux = EmPmR * (salt - salt_EvPrRn)\n",
      "    sflux_ice = ice_fw * (salt - salt_EvPrRn)\n",
      "    sflux_atm = atmFW * (salt - salt_EvPrRn)\n",
      "    \n",
      "    # neutral density tendency terms\n",
      "    b = 1 # just a test\n",
      "    Sfac = ((1000 + gam)/rho) * drhods * fluxfac_S\n",
      "    Tfac = ((1000 + gam)/rho) * drhodt * fluxfac_T\n",
      "    \n",
      "    dens_flux_S = Sfac * sflux\n",
      "    dens_flux_S_ice = Sfac * sflux_ice\n",
      "    dens_flux_S_atm = Sfac * sflux_atm\n",
      "    \n",
      "    tflux = np.ma.masked_array(d['TFLUX'], mask) \n",
      "    dens_flux_T = Tfac * tflux\n",
      "    # nothing interesting here\n",
      "    #tflux_ice = -np.ma.masked_array(d['SItflux'], m.mask[0]) \n",
      "    #tflux_atm =  -np.ma.masked_array(d['SIatmQnt'], m.mask[0]) \n",
      "    #dens_flux_T_ice = drhodt * fluxfac_T * tflux_ice\n",
      "    #dens_flux_T_atm = drhodt * fluxfac_T * tflux_atm\n",
      "    \n",
      "    \n",
      "    transformation_monthy[nmon] = surface_transformation_rate(\n",
      "                        m, gam, rholevs,\n",
      "                        dens_flux_T, dens_flux_S, dens_flux_S_atm)\n",
      "\n",
      "    "
     ],
     "language": "python",
     "metadata": {},
     "outputs": [
      {
       "output_type": "stream",
       "stream": "stderr",
       "text": [
        "/glade/scratch/rpa/SOSE/run_matt/DiagIce-5day.0000000480.meta\n",
        "/glade/scratch/rpa/SOSE/run_matt/gamma_n_surface/gamma_n_surface.0000000480.meta\n"
       ]
      },
      {
       "output_type": "stream",
       "stream": "stderr",
       "text": [
        "/glade/scratch/rpa/SOSE/run_matt/DiagIce-5day.0000000960.meta\n",
        "/glade/scratch/rpa/SOSE/run_matt/gamma_n_surface/gamma_n_surface.0000000960.meta\n"
       ]
      },
      {
       "output_type": "stream",
       "stream": "stderr",
       "text": [
        "/glade/scratch/rpa/SOSE/run_matt/DiagIce-5day.0000001440.meta\n",
        "/glade/scratch/rpa/SOSE/run_matt/gamma_n_surface/gamma_n_surface.0000001440.meta\n"
       ]
      },
      {
       "output_type": "stream",
       "stream": "stderr",
       "text": [
        "/glade/scratch/rpa/SOSE/run_matt/DiagIce-5day.0000001920.meta\n",
        "/glade/scratch/rpa/SOSE/run_matt/gamma_n_surface/gamma_n_surface.0000001920.meta\n"
       ]
      },
      {
       "output_type": "stream",
       "stream": "stderr",
       "text": [
        "/glade/scratch/rpa/SOSE/run_matt/DiagIce-5day.0000002400.meta\n",
        "/glade/scratch/rpa/SOSE/run_matt/gamma_n_surface/gamma_n_surface.0000002400.meta\n"
       ]
      },
      {
       "output_type": "stream",
       "stream": "stderr",
       "text": [
        "/glade/scratch/rpa/SOSE/run_matt/DiagIce-5day.0000002880.meta\n",
        "/glade/scratch/rpa/SOSE/run_matt/gamma_n_surface/gamma_n_surface.0000002880.meta\n"
       ]
      },
      {
       "output_type": "stream",
       "stream": "stderr",
       "text": [
        "/glade/scratch/rpa/SOSE/run_matt/DiagIce-5day.0000003360.meta\n",
        "/glade/scratch/rpa/SOSE/run_matt/gamma_n_surface/gamma_n_surface.0000003360.meta\n"
       ]
      },
      {
       "output_type": "stream",
       "stream": "stderr",
       "text": [
        "/glade/scratch/rpa/SOSE/run_matt/DiagIce-5day.0000003840.meta\n",
        "/glade/scratch/rpa/SOSE/run_matt/gamma_n_surface/gamma_n_surface.0000003840.meta\n"
       ]
      },
      {
       "output_type": "stream",
       "stream": "stderr",
       "text": [
        "/glade/scratch/rpa/SOSE/run_matt/DiagIce-5day.0000004320.meta\n",
        "/glade/scratch/rpa/SOSE/run_matt/gamma_n_surface/gamma_n_surface.0000004320.meta\n"
       ]
      },
      {
       "output_type": "stream",
       "stream": "stderr",
       "text": [
        "/glade/scratch/rpa/SOSE/run_matt/DiagIce-5day.0000004800.meta\n",
        "/glade/scratch/rpa/SOSE/run_matt/gamma_n_surface/gamma_n_surface.0000004800.meta\n"
       ]
      },
      {
       "output_type": "stream",
       "stream": "stderr",
       "text": [
        "/glade/scratch/rpa/SOSE/run_matt/DiagIce-5day.0000005280.meta\n",
        "/glade/scratch/rpa/SOSE/run_matt/gamma_n_surface/gamma_n_surface.0000005280.meta\n"
       ]
      },
      {
       "output_type": "stream",
       "stream": "stderr",
       "text": [
        "/glade/scratch/rpa/SOSE/run_matt/DiagIce-5day.0000005760.meta\n",
        "/glade/scratch/rpa/SOSE/run_matt/gamma_n_surface/gamma_n_surface.0000005760.meta\n"
       ]
      },
      {
       "output_type": "stream",
       "stream": "stderr",
       "text": [
        "/glade/scratch/rpa/SOSE/run_matt/DiagIce-5day.0000006240.meta\n",
        "/glade/scratch/rpa/SOSE/run_matt/gamma_n_surface/gamma_n_surface.0000006240.meta\n"
       ]
      },
      {
       "output_type": "stream",
       "stream": "stderr",
       "text": [
        "/glade/scratch/rpa/SOSE/run_matt/DiagIce-5day.0000006720.meta\n",
        "/glade/scratch/rpa/SOSE/run_matt/gamma_n_surface/gamma_n_surface.0000006720.meta\n"
       ]
      },
      {
       "output_type": "stream",
       "stream": "stderr",
       "text": [
        "/glade/scratch/rpa/SOSE/run_matt/DiagIce-5day.0000007200.meta\n",
        "/glade/scratch/rpa/SOSE/run_matt/gamma_n_surface/gamma_n_surface.0000007200.meta\n"
       ]
      },
      {
       "output_type": "stream",
       "stream": "stderr",
       "text": [
        "/glade/scratch/rpa/SOSE/run_matt/DiagIce-5day.0000007680.meta\n",
        "/glade/scratch/rpa/SOSE/run_matt/gamma_n_surface/gamma_n_surface.0000007680.meta\n"
       ]
      },
      {
       "output_type": "stream",
       "stream": "stderr",
       "text": [
        "/glade/scratch/rpa/SOSE/run_matt/DiagIce-5day.0000008160.meta\n",
        "/glade/scratch/rpa/SOSE/run_matt/gamma_n_surface/gamma_n_surface.0000008160.meta\n"
       ]
      },
      {
       "output_type": "stream",
       "stream": "stderr",
       "text": [
        "/glade/scratch/rpa/SOSE/run_matt/DiagIce-5day.0000008640.meta\n",
        "/glade/scratch/rpa/SOSE/run_matt/gamma_n_surface/gamma_n_surface.0000008640.meta\n"
       ]
      },
      {
       "output_type": "stream",
       "stream": "stderr",
       "text": [
        "/glade/scratch/rpa/SOSE/run_matt/DiagIce-5day.0000009120.meta\n",
        "/glade/scratch/rpa/SOSE/run_matt/gamma_n_surface/gamma_n_surface.0000009120.meta\n"
       ]
      },
      {
       "output_type": "stream",
       "stream": "stderr",
       "text": [
        "/glade/scratch/rpa/SOSE/run_matt/DiagIce-5day.0000009600.meta\n",
        "/glade/scratch/rpa/SOSE/run_matt/gamma_n_surface/gamma_n_surface.0000009600.meta\n"
       ]
      },
      {
       "output_type": "stream",
       "stream": "stderr",
       "text": [
        "/glade/scratch/rpa/SOSE/run_matt/DiagIce-5day.0000010080.meta\n",
        "/glade/scratch/rpa/SOSE/run_matt/gamma_n_surface/gamma_n_surface.0000010080.meta\n"
       ]
      },
      {
       "output_type": "stream",
       "stream": "stderr",
       "text": [
        "/glade/scratch/rpa/SOSE/run_matt/DiagIce-5day.0000010560.meta\n",
        "/glade/scratch/rpa/SOSE/run_matt/gamma_n_surface/gamma_n_surface.0000010560.meta\n"
       ]
      },
      {
       "output_type": "stream",
       "stream": "stderr",
       "text": [
        "/glade/scratch/rpa/SOSE/run_matt/DiagIce-5day.0000011040.meta\n",
        "/glade/scratch/rpa/SOSE/run_matt/gamma_n_surface/gamma_n_surface.0000011040.meta\n"
       ]
      },
      {
       "output_type": "stream",
       "stream": "stderr",
       "text": [
        "/glade/scratch/rpa/SOSE/run_matt/DiagIce-5day.0000011520.meta\n",
        "/glade/scratch/rpa/SOSE/run_matt/gamma_n_surface/gamma_n_surface.0000011520.meta\n"
       ]
      },
      {
       "output_type": "stream",
       "stream": "stderr",
       "text": [
        "/glade/scratch/rpa/SOSE/run_matt/DiagIce-5day.0000012000.meta\n",
        "/glade/scratch/rpa/SOSE/run_matt/gamma_n_surface/gamma_n_surface.0000012000.meta\n"
       ]
      },
      {
       "output_type": "stream",
       "stream": "stderr",
       "text": [
        "/glade/scratch/rpa/SOSE/run_matt/DiagIce-5day.0000012480.meta\n",
        "/glade/scratch/rpa/SOSE/run_matt/gamma_n_surface/gamma_n_surface.0000012480.meta\n"
       ]
      },
      {
       "output_type": "stream",
       "stream": "stderr",
       "text": [
        "/glade/scratch/rpa/SOSE/run_matt/DiagIce-5day.0000012960.meta\n",
        "/glade/scratch/rpa/SOSE/run_matt/gamma_n_surface/gamma_n_surface.0000012960.meta\n"
       ]
      },
      {
       "output_type": "stream",
       "stream": "stderr",
       "text": [
        "/glade/scratch/rpa/SOSE/run_matt/DiagIce-5day.0000013440.meta\n",
        "/glade/scratch/rpa/SOSE/run_matt/gamma_n_surface/gamma_n_surface.0000013440.meta\n"
       ]
      },
      {
       "output_type": "stream",
       "stream": "stderr",
       "text": [
        "/glade/scratch/rpa/SOSE/run_matt/DiagIce-5day.0000013920.meta\n",
        "/glade/scratch/rpa/SOSE/run_matt/gamma_n_surface/gamma_n_surface.0000013920.meta\n"
       ]
      },
      {
       "output_type": "stream",
       "stream": "stderr",
       "text": [
        "/glade/scratch/rpa/SOSE/run_matt/DiagIce-5day.0000014400.meta\n",
        "/glade/scratch/rpa/SOSE/run_matt/gamma_n_surface/gamma_n_surface.0000014400.meta\n"
       ]
      },
      {
       "output_type": "stream",
       "stream": "stderr",
       "text": [
        "/glade/scratch/rpa/SOSE/run_matt/DiagIce-5day.0000014880.meta\n",
        "/glade/scratch/rpa/SOSE/run_matt/gamma_n_surface/gamma_n_surface.0000014880.meta\n"
       ]
      },
      {
       "output_type": "stream",
       "stream": "stderr",
       "text": [
        "/glade/scratch/rpa/SOSE/run_matt/DiagIce-5day.0000015360.meta\n",
        "/glade/scratch/rpa/SOSE/run_matt/gamma_n_surface/gamma_n_surface.0000015360.meta\n"
       ]
      },
      {
       "output_type": "stream",
       "stream": "stderr",
       "text": [
        "/glade/scratch/rpa/SOSE/run_matt/DiagIce-5day.0000015840.meta\n",
        "/glade/scratch/rpa/SOSE/run_matt/gamma_n_surface/gamma_n_surface.0000015840.meta\n"
       ]
      },
      {
       "output_type": "stream",
       "stream": "stderr",
       "text": [
        "/glade/scratch/rpa/SOSE/run_matt/DiagIce-5day.0000016320.meta\n",
        "/glade/scratch/rpa/SOSE/run_matt/gamma_n_surface/gamma_n_surface.0000016320.meta\n"
       ]
      },
      {
       "output_type": "stream",
       "stream": "stderr",
       "text": [
        "/glade/scratch/rpa/SOSE/run_matt/DiagIce-5day.0000016800.meta\n",
        "/glade/scratch/rpa/SOSE/run_matt/gamma_n_surface/gamma_n_surface.0000016800.meta\n"
       ]
      },
      {
       "output_type": "stream",
       "stream": "stderr",
       "text": [
        "/glade/scratch/rpa/SOSE/run_matt/DiagIce-5day.0000017280.meta\n",
        "/glade/scratch/rpa/SOSE/run_matt/gamma_n_surface/gamma_n_surface.0000017280.meta\n"
       ]
      },
      {
       "output_type": "stream",
       "stream": "stderr",
       "text": [
        "/glade/scratch/rpa/SOSE/run_matt/DiagIce-5day.0000017760.meta\n",
        "/glade/scratch/rpa/SOSE/run_matt/gamma_n_surface/gamma_n_surface.0000017760.meta\n"
       ]
      },
      {
       "output_type": "stream",
       "stream": "stderr",
       "text": [
        "/glade/scratch/rpa/SOSE/run_matt/DiagIce-5day.0000018240.meta\n",
        "/glade/scratch/rpa/SOSE/run_matt/gamma_n_surface/gamma_n_surface.0000018240.meta\n"
       ]
      },
      {
       "output_type": "stream",
       "stream": "stderr",
       "text": [
        "/glade/scratch/rpa/SOSE/run_matt/DiagIce-5day.0000018720.meta\n",
        "/glade/scratch/rpa/SOSE/run_matt/gamma_n_surface/gamma_n_surface.0000018720.meta\n"
       ]
      },
      {
       "output_type": "stream",
       "stream": "stderr",
       "text": [
        "/glade/scratch/rpa/SOSE/run_matt/DiagIce-5day.0000019200.meta\n",
        "/glade/scratch/rpa/SOSE/run_matt/gamma_n_surface/gamma_n_surface.0000019200.meta\n"
       ]
      },
      {
       "output_type": "stream",
       "stream": "stderr",
       "text": [
        "/glade/scratch/rpa/SOSE/run_matt/DiagIce-5day.0000019680.meta\n",
        "/glade/scratch/rpa/SOSE/run_matt/gamma_n_surface/gamma_n_surface.0000019680.meta\n"
       ]
      },
      {
       "output_type": "stream",
       "stream": "stderr",
       "text": [
        "/glade/scratch/rpa/SOSE/run_matt/DiagIce-5day.0000020160.meta\n",
        "/glade/scratch/rpa/SOSE/run_matt/gamma_n_surface/gamma_n_surface.0000020160.meta\n"
       ]
      },
      {
       "output_type": "stream",
       "stream": "stderr",
       "text": [
        "/glade/scratch/rpa/SOSE/run_matt/DiagIce-5day.0000020640.meta\n",
        "/glade/scratch/rpa/SOSE/run_matt/gamma_n_surface/gamma_n_surface.0000020640.meta\n"
       ]
      },
      {
       "output_type": "stream",
       "stream": "stderr",
       "text": [
        "/glade/scratch/rpa/SOSE/run_matt/DiagIce-5day.0000021120.meta\n",
        "/glade/scratch/rpa/SOSE/run_matt/gamma_n_surface/gamma_n_surface.0000021120.meta\n"
       ]
      },
      {
       "output_type": "stream",
       "stream": "stderr",
       "text": [
        "/glade/scratch/rpa/SOSE/run_matt/DiagIce-5day.0000021600.meta\n",
        "/glade/scratch/rpa/SOSE/run_matt/gamma_n_surface/gamma_n_surface.0000021600.meta\n"
       ]
      },
      {
       "output_type": "stream",
       "stream": "stderr",
       "text": [
        "/glade/scratch/rpa/SOSE/run_matt/DiagIce-5day.0000022080.meta\n",
        "/glade/scratch/rpa/SOSE/run_matt/gamma_n_surface/gamma_n_surface.0000022080.meta\n"
       ]
      },
      {
       "output_type": "stream",
       "stream": "stderr",
       "text": [
        "/glade/scratch/rpa/SOSE/run_matt/DiagIce-5day.0000022560.meta\n",
        "/glade/scratch/rpa/SOSE/run_matt/gamma_n_surface/gamma_n_surface.0000022560.meta\n"
       ]
      },
      {
       "output_type": "stream",
       "stream": "stderr",
       "text": [
        "/glade/scratch/rpa/SOSE/run_matt/DiagIce-5day.0000023040.meta\n",
        "/glade/scratch/rpa/SOSE/run_matt/gamma_n_surface/gamma_n_surface.0000023040.meta\n"
       ]
      },
      {
       "output_type": "stream",
       "stream": "stderr",
       "text": [
        "/glade/scratch/rpa/SOSE/run_matt/DiagIce-5day.0000023520.meta\n",
        "/glade/scratch/rpa/SOSE/run_matt/gamma_n_surface/gamma_n_surface.0000023520.meta\n"
       ]
      },
      {
       "output_type": "stream",
       "stream": "stderr",
       "text": [
        "/glade/scratch/rpa/SOSE/run_matt/DiagIce-5day.0000024000.meta\n",
        "/glade/scratch/rpa/SOSE/run_matt/gamma_n_surface/gamma_n_surface.0000024000.meta\n"
       ]
      },
      {
       "output_type": "stream",
       "stream": "stderr",
       "text": [
        "/glade/scratch/rpa/SOSE/run_matt/DiagIce-5day.0000024480.meta\n",
        "/glade/scratch/rpa/SOSE/run_matt/gamma_n_surface/gamma_n_surface.0000024480.meta\n"
       ]
      },
      {
       "output_type": "stream",
       "stream": "stderr",
       "text": [
        "/glade/scratch/rpa/SOSE/run_matt/DiagIce-5day.0000024960.meta\n",
        "/glade/scratch/rpa/SOSE/run_matt/gamma_n_surface/gamma_n_surface.0000024960.meta\n"
       ]
      },
      {
       "output_type": "stream",
       "stream": "stderr",
       "text": [
        "/glade/scratch/rpa/SOSE/run_matt/DiagIce-5day.0000025440.meta\n",
        "/glade/scratch/rpa/SOSE/run_matt/gamma_n_surface/gamma_n_surface.0000025440.meta\n"
       ]
      },
      {
       "output_type": "stream",
       "stream": "stderr",
       "text": [
        "/glade/scratch/rpa/SOSE/run_matt/DiagIce-5day.0000025920.meta\n",
        "/glade/scratch/rpa/SOSE/run_matt/gamma_n_surface/gamma_n_surface.0000025920.meta\n"
       ]
      },
      {
       "output_type": "stream",
       "stream": "stderr",
       "text": [
        "/glade/scratch/rpa/SOSE/run_matt/DiagIce-5day.0000026400.meta\n",
        "/glade/scratch/rpa/SOSE/run_matt/gamma_n_surface/gamma_n_surface.0000026400.meta\n"
       ]
      },
      {
       "output_type": "stream",
       "stream": "stderr",
       "text": [
        "/glade/scratch/rpa/SOSE/run_matt/DiagIce-5day.0000026880.meta\n",
        "/glade/scratch/rpa/SOSE/run_matt/gamma_n_surface/gamma_n_surface.0000026880.meta\n"
       ]
      },
      {
       "output_type": "stream",
       "stream": "stderr",
       "text": [
        "/glade/scratch/rpa/SOSE/run_matt/DiagIce-5day.0000027360.meta\n",
        "/glade/scratch/rpa/SOSE/run_matt/gamma_n_surface/gamma_n_surface.0000027360.meta\n"
       ]
      },
      {
       "output_type": "stream",
       "stream": "stderr",
       "text": [
        "/glade/scratch/rpa/SOSE/run_matt/DiagIce-5day.0000027840.meta\n",
        "/glade/scratch/rpa/SOSE/run_matt/gamma_n_surface/gamma_n_surface.0000027840.meta\n"
       ]
      },
      {
       "output_type": "stream",
       "stream": "stderr",
       "text": [
        "/glade/scratch/rpa/SOSE/run_matt/DiagIce-5day.0000028320.meta\n",
        "/glade/scratch/rpa/SOSE/run_matt/gamma_n_surface/gamma_n_surface.0000028320.meta\n"
       ]
      },
      {
       "output_type": "stream",
       "stream": "stderr",
       "text": [
        "/glade/scratch/rpa/SOSE/run_matt/DiagIce-5day.0000028800.meta\n",
        "/glade/scratch/rpa/SOSE/run_matt/gamma_n_surface/gamma_n_surface.0000028800.meta\n"
       ]
      },
      {
       "output_type": "stream",
       "stream": "stderr",
       "text": [
        "/glade/scratch/rpa/SOSE/run_matt/DiagIce-5day.0000029280.meta\n",
        "/glade/scratch/rpa/SOSE/run_matt/gamma_n_surface/gamma_n_surface.0000029280.meta\n"
       ]
      },
      {
       "output_type": "stream",
       "stream": "stderr",
       "text": [
        "/glade/scratch/rpa/SOSE/run_matt/DiagIce-5day.0000029760.meta\n",
        "/glade/scratch/rpa/SOSE/run_matt/gamma_n_surface/gamma_n_surface.0000029760.meta\n"
       ]
      },
      {
       "output_type": "stream",
       "stream": "stderr",
       "text": [
        "/glade/scratch/rpa/SOSE/run_matt/DiagIce-5day.0000030240.meta\n",
        "/glade/scratch/rpa/SOSE/run_matt/gamma_n_surface/gamma_n_surface.0000030240.meta\n"
       ]
      },
      {
       "output_type": "stream",
       "stream": "stderr",
       "text": [
        "/glade/scratch/rpa/SOSE/run_matt/DiagIce-5day.0000030720.meta\n",
        "/glade/scratch/rpa/SOSE/run_matt/gamma_n_surface/gamma_n_surface.0000030720.meta\n"
       ]
      },
      {
       "output_type": "stream",
       "stream": "stderr",
       "text": [
        "/glade/scratch/rpa/SOSE/run_matt/DiagIce-5day.0000031200.meta\n",
        "/glade/scratch/rpa/SOSE/run_matt/gamma_n_surface/gamma_n_surface.0000031200.meta\n"
       ]
      },
      {
       "output_type": "stream",
       "stream": "stderr",
       "text": [
        "/glade/scratch/rpa/SOSE/run_matt/DiagIce-5day.0000031680.meta\n",
        "/glade/scratch/rpa/SOSE/run_matt/gamma_n_surface/gamma_n_surface.0000031680.meta\n"
       ]
      },
      {
       "output_type": "stream",
       "stream": "stderr",
       "text": [
        "/glade/scratch/rpa/SOSE/run_matt/DiagIce-5day.0000032160.meta\n",
        "/glade/scratch/rpa/SOSE/run_matt/gamma_n_surface/gamma_n_surface.0000032160.meta\n"
       ]
      },
      {
       "output_type": "stream",
       "stream": "stderr",
       "text": [
        "/glade/scratch/rpa/SOSE/run_matt/DiagIce-5day.0000032640.meta\n",
        "/glade/scratch/rpa/SOSE/run_matt/gamma_n_surface/gamma_n_surface.0000032640.meta\n"
       ]
      },
      {
       "output_type": "stream",
       "stream": "stderr",
       "text": [
        "/glade/scratch/rpa/SOSE/run_matt/DiagIce-5day.0000033120.meta\n",
        "/glade/scratch/rpa/SOSE/run_matt/gamma_n_surface/gamma_n_surface.0000033120.meta\n"
       ]
      },
      {
       "output_type": "stream",
       "stream": "stderr",
       "text": [
        "/glade/scratch/rpa/SOSE/run_matt/DiagIce-5day.0000033600.meta\n",
        "/glade/scratch/rpa/SOSE/run_matt/gamma_n_surface/gamma_n_surface.0000033600.meta\n"
       ]
      },
      {
       "output_type": "stream",
       "stream": "stderr",
       "text": [
        "/glade/scratch/rpa/SOSE/run_matt/DiagIce-5day.0000034080.meta\n",
        "/glade/scratch/rpa/SOSE/run_matt/gamma_n_surface/gamma_n_surface.0000034080.meta\n"
       ]
      },
      {
       "output_type": "stream",
       "stream": "stderr",
       "text": [
        "/glade/scratch/rpa/SOSE/run_matt/DiagIce-5day.0000034560.meta\n",
        "/glade/scratch/rpa/SOSE/run_matt/gamma_n_surface/gamma_n_surface.0000034560.meta\n"
       ]
      },
      {
       "output_type": "stream",
       "stream": "stderr",
       "text": [
        "/glade/scratch/rpa/SOSE/run_matt/DiagIce-5day.0000035040.meta\n",
        "/glade/scratch/rpa/SOSE/run_matt/gamma_n_surface/gamma_n_surface.0000035040.meta\n"
       ]
      },
      {
       "output_type": "stream",
       "stream": "stderr",
       "text": [
        "/glade/scratch/rpa/SOSE/run_matt/DiagIce-5day.0000035520.meta\n",
        "/glade/scratch/rpa/SOSE/run_matt/gamma_n_surface/gamma_n_surface.0000035520.meta\n"
       ]
      },
      {
       "output_type": "stream",
       "stream": "stderr",
       "text": [
        "/glade/scratch/rpa/SOSE/run_matt/DiagIce-5day.0000036000.meta\n",
        "/glade/scratch/rpa/SOSE/run_matt/gamma_n_surface/gamma_n_surface.0000036000.meta\n"
       ]
      },
      {
       "output_type": "stream",
       "stream": "stderr",
       "text": [
        "/glade/scratch/rpa/SOSE/run_matt/DiagIce-5day.0000036480.meta\n",
        "/glade/scratch/rpa/SOSE/run_matt/gamma_n_surface/gamma_n_surface.0000036480.meta\n"
       ]
      },
      {
       "output_type": "stream",
       "stream": "stderr",
       "text": [
        "/glade/scratch/rpa/SOSE/run_matt/DiagIce-5day.0000036960.meta\n",
        "/glade/scratch/rpa/SOSE/run_matt/gamma_n_surface/gamma_n_surface.0000036960.meta\n"
       ]
      },
      {
       "output_type": "stream",
       "stream": "stderr",
       "text": [
        "/glade/scratch/rpa/SOSE/run_matt/DiagIce-5day.0000037440.meta\n",
        "/glade/scratch/rpa/SOSE/run_matt/gamma_n_surface/gamma_n_surface.0000037440.meta\n"
       ]
      },
      {
       "output_type": "stream",
       "stream": "stderr",
       "text": [
        "/glade/scratch/rpa/SOSE/run_matt/DiagIce-5day.0000037920.meta\n",
        "/glade/scratch/rpa/SOSE/run_matt/gamma_n_surface/gamma_n_surface.0000037920.meta\n"
       ]
      },
      {
       "output_type": "stream",
       "stream": "stderr",
       "text": [
        "/glade/scratch/rpa/SOSE/run_matt/DiagIce-5day.0000038400.meta\n",
        "/glade/scratch/rpa/SOSE/run_matt/gamma_n_surface/gamma_n_surface.0000038400.meta\n"
       ]
      },
      {
       "output_type": "stream",
       "stream": "stderr",
       "text": [
        "/glade/scratch/rpa/SOSE/run_matt/DiagIce-5day.0000038880.meta\n",
        "/glade/scratch/rpa/SOSE/run_matt/gamma_n_surface/gamma_n_surface.0000038880.meta\n"
       ]
      },
      {
       "output_type": "stream",
       "stream": "stderr",
       "text": [
        "/glade/scratch/rpa/SOSE/run_matt/DiagIce-5day.0000039360.meta\n",
        "/glade/scratch/rpa/SOSE/run_matt/gamma_n_surface/gamma_n_surface.0000039360.meta\n"
       ]
      },
      {
       "output_type": "stream",
       "stream": "stderr",
       "text": [
        "/glade/scratch/rpa/SOSE/run_matt/DiagIce-5day.0000039840.meta\n",
        "/glade/scratch/rpa/SOSE/run_matt/gamma_n_surface/gamma_n_surface.0000039840.meta\n"
       ]
      },
      {
       "output_type": "stream",
       "stream": "stderr",
       "text": [
        "/glade/scratch/rpa/SOSE/run_matt/DiagIce-5day.0000040320.meta\n",
        "/glade/scratch/rpa/SOSE/run_matt/gamma_n_surface/gamma_n_surface.0000040320.meta\n"
       ]
      },
      {
       "output_type": "stream",
       "stream": "stderr",
       "text": [
        "/glade/scratch/rpa/SOSE/run_matt/DiagIce-5day.0000040800.meta\n",
        "/glade/scratch/rpa/SOSE/run_matt/gamma_n_surface/gamma_n_surface.0000040800.meta\n"
       ]
      },
      {
       "output_type": "stream",
       "stream": "stderr",
       "text": [
        "/glade/scratch/rpa/SOSE/run_matt/DiagIce-5day.0000041280.meta\n",
        "/glade/scratch/rpa/SOSE/run_matt/gamma_n_surface/gamma_n_surface.0000041280.meta\n"
       ]
      },
      {
       "output_type": "stream",
       "stream": "stderr",
       "text": [
        "/glade/scratch/rpa/SOSE/run_matt/DiagIce-5day.0000041760.meta\n",
        "/glade/scratch/rpa/SOSE/run_matt/gamma_n_surface/gamma_n_surface.0000041760.meta\n"
       ]
      },
      {
       "output_type": "stream",
       "stream": "stderr",
       "text": [
        "/glade/scratch/rpa/SOSE/run_matt/DiagIce-5day.0000042240.meta\n",
        "/glade/scratch/rpa/SOSE/run_matt/gamma_n_surface/gamma_n_surface.0000042240.meta\n"
       ]
      },
      {
       "output_type": "stream",
       "stream": "stderr",
       "text": [
        "/glade/scratch/rpa/SOSE/run_matt/DiagIce-5day.0000042720.meta\n",
        "/glade/scratch/rpa/SOSE/run_matt/gamma_n_surface/gamma_n_surface.0000042720.meta\n"
       ]
      },
      {
       "output_type": "stream",
       "stream": "stderr",
       "text": [
        "/glade/scratch/rpa/SOSE/run_matt/DiagIce-5day.0000043200.meta\n",
        "/glade/scratch/rpa/SOSE/run_matt/gamma_n_surface/gamma_n_surface.0000043200.meta\n"
       ]
      },
      {
       "output_type": "stream",
       "stream": "stderr",
       "text": [
        "/glade/scratch/rpa/SOSE/run_matt/DiagIce-5day.0000043680.meta\n",
        "/glade/scratch/rpa/SOSE/run_matt/gamma_n_surface/gamma_n_surface.0000043680.meta\n"
       ]
      },
      {
       "output_type": "stream",
       "stream": "stderr",
       "text": [
        "/glade/scratch/rpa/SOSE/run_matt/DiagIce-5day.0000044160.meta\n",
        "/glade/scratch/rpa/SOSE/run_matt/gamma_n_surface/gamma_n_surface.0000044160.meta\n"
       ]
      },
      {
       "output_type": "stream",
       "stream": "stderr",
       "text": [
        "/glade/scratch/rpa/SOSE/run_matt/DiagIce-5day.0000044640.meta\n",
        "/glade/scratch/rpa/SOSE/run_matt/gamma_n_surface/gamma_n_surface.0000044640.meta\n"
       ]
      },
      {
       "output_type": "stream",
       "stream": "stderr",
       "text": [
        "/glade/scratch/rpa/SOSE/run_matt/DiagIce-5day.0000045120.meta\n",
        "/glade/scratch/rpa/SOSE/run_matt/gamma_n_surface/gamma_n_surface.0000045120.meta\n"
       ]
      },
      {
       "output_type": "stream",
       "stream": "stderr",
       "text": [
        "/glade/scratch/rpa/SOSE/run_matt/DiagIce-5day.0000045600.meta\n",
        "/glade/scratch/rpa/SOSE/run_matt/gamma_n_surface/gamma_n_surface.0000045600.meta\n"
       ]
      },
      {
       "output_type": "stream",
       "stream": "stderr",
       "text": [
        "/glade/scratch/rpa/SOSE/run_matt/DiagIce-5day.0000046080.meta\n",
        "/glade/scratch/rpa/SOSE/run_matt/gamma_n_surface/gamma_n_surface.0000046080.meta\n"
       ]
      },
      {
       "output_type": "stream",
       "stream": "stderr",
       "text": [
        "/glade/scratch/rpa/SOSE/run_matt/DiagIce-5day.0000046560.meta\n",
        "/glade/scratch/rpa/SOSE/run_matt/gamma_n_surface/gamma_n_surface.0000046560.meta\n"
       ]
      },
      {
       "output_type": "stream",
       "stream": "stderr",
       "text": [
        "/glade/scratch/rpa/SOSE/run_matt/DiagIce-5day.0000047040.meta\n",
        "/glade/scratch/rpa/SOSE/run_matt/gamma_n_surface/gamma_n_surface.0000047040.meta\n"
       ]
      },
      {
       "output_type": "stream",
       "stream": "stderr",
       "text": [
        "/glade/scratch/rpa/SOSE/run_matt/DiagIce-5day.0000047520.meta\n",
        "/glade/scratch/rpa/SOSE/run_matt/gamma_n_surface/gamma_n_surface.0000047520.meta\n"
       ]
      },
      {
       "output_type": "stream",
       "stream": "stderr",
       "text": [
        "/glade/scratch/rpa/SOSE/run_matt/DiagIce-5day.0000048000.meta\n",
        "/glade/scratch/rpa/SOSE/run_matt/gamma_n_surface/gamma_n_surface.0000048000.meta\n"
       ]
      },
      {
       "output_type": "stream",
       "stream": "stderr",
       "text": [
        "/glade/scratch/rpa/SOSE/run_matt/DiagIce-5day.0000048480.meta\n",
        "/glade/scratch/rpa/SOSE/run_matt/gamma_n_surface/gamma_n_surface.0000048480.meta\n"
       ]
      },
      {
       "output_type": "stream",
       "stream": "stderr",
       "text": [
        "/glade/scratch/rpa/SOSE/run_matt/DiagIce-5day.0000048960.meta\n",
        "/glade/scratch/rpa/SOSE/run_matt/gamma_n_surface/gamma_n_surface.0000048960.meta\n"
       ]
      },
      {
       "output_type": "stream",
       "stream": "stderr",
       "text": [
        "/glade/scratch/rpa/SOSE/run_matt/DiagIce-5day.0000049440.meta\n",
        "/glade/scratch/rpa/SOSE/run_matt/gamma_n_surface/gamma_n_surface.0000049440.meta\n"
       ]
      },
      {
       "output_type": "stream",
       "stream": "stderr",
       "text": [
        "/glade/scratch/rpa/SOSE/run_matt/DiagIce-5day.0000049920.meta\n",
        "/glade/scratch/rpa/SOSE/run_matt/gamma_n_surface/gamma_n_surface.0000049920.meta\n"
       ]
      },
      {
       "output_type": "stream",
       "stream": "stderr",
       "text": [
        "/glade/scratch/rpa/SOSE/run_matt/DiagIce-5day.0000050400.meta\n",
        "/glade/scratch/rpa/SOSE/run_matt/gamma_n_surface/gamma_n_surface.0000050400.meta\n"
       ]
      },
      {
       "output_type": "stream",
       "stream": "stderr",
       "text": [
        "/glade/scratch/rpa/SOSE/run_matt/DiagIce-5day.0000050880.meta\n",
        "/glade/scratch/rpa/SOSE/run_matt/gamma_n_surface/gamma_n_surface.0000050880.meta\n"
       ]
      },
      {
       "output_type": "stream",
       "stream": "stderr",
       "text": [
        "/glade/scratch/rpa/SOSE/run_matt/DiagIce-5day.0000051360.meta\n",
        "/glade/scratch/rpa/SOSE/run_matt/gamma_n_surface/gamma_n_surface.0000051360.meta\n"
       ]
      },
      {
       "output_type": "stream",
       "stream": "stderr",
       "text": [
        "/glade/scratch/rpa/SOSE/run_matt/DiagIce-5day.0000051840.meta\n",
        "/glade/scratch/rpa/SOSE/run_matt/gamma_n_surface/gamma_n_surface.0000051840.meta\n"
       ]
      },
      {
       "output_type": "stream",
       "stream": "stderr",
       "text": [
        "/glade/scratch/rpa/SOSE/run_matt/DiagIce-5day.0000052320.meta\n",
        "/glade/scratch/rpa/SOSE/run_matt/gamma_n_surface/gamma_n_surface.0000052320.meta\n"
       ]
      },
      {
       "output_type": "stream",
       "stream": "stderr",
       "text": [
        "/glade/scratch/rpa/SOSE/run_matt/DiagIce-5day.0000052800.meta\n",
        "/glade/scratch/rpa/SOSE/run_matt/gamma_n_surface/gamma_n_surface.0000052800.meta\n"
       ]
      },
      {
       "output_type": "stream",
       "stream": "stderr",
       "text": [
        "/glade/scratch/rpa/SOSE/run_matt/DiagIce-5day.0000053280.meta\n",
        "/glade/scratch/rpa/SOSE/run_matt/gamma_n_surface/gamma_n_surface.0000053280.meta\n"
       ]
      },
      {
       "output_type": "stream",
       "stream": "stderr",
       "text": [
        "/glade/scratch/rpa/SOSE/run_matt/DiagIce-5day.0000053760.meta\n",
        "/glade/scratch/rpa/SOSE/run_matt/gamma_n_surface/gamma_n_surface.0000053760.meta\n"
       ]
      },
      {
       "output_type": "stream",
       "stream": "stderr",
       "text": [
        "/glade/scratch/rpa/SOSE/run_matt/DiagIce-5day.0000054240.meta\n",
        "/glade/scratch/rpa/SOSE/run_matt/gamma_n_surface/gamma_n_surface.0000054240.meta\n"
       ]
      },
      {
       "output_type": "stream",
       "stream": "stderr",
       "text": [
        "/glade/scratch/rpa/SOSE/run_matt/DiagIce-5day.0000054720.meta\n",
        "/glade/scratch/rpa/SOSE/run_matt/gamma_n_surface/gamma_n_surface.0000054720.meta\n"
       ]
      },
      {
       "output_type": "stream",
       "stream": "stderr",
       "text": [
        "/glade/scratch/rpa/SOSE/run_matt/DiagIce-5day.0000055200.meta\n",
        "/glade/scratch/rpa/SOSE/run_matt/gamma_n_surface/gamma_n_surface.0000055200.meta\n"
       ]
      },
      {
       "output_type": "stream",
       "stream": "stderr",
       "text": [
        "/glade/scratch/rpa/SOSE/run_matt/DiagIce-5day.0000055680.meta\n",
        "/glade/scratch/rpa/SOSE/run_matt/gamma_n_surface/gamma_n_surface.0000055680.meta\n"
       ]
      },
      {
       "output_type": "stream",
       "stream": "stderr",
       "text": [
        "/glade/scratch/rpa/SOSE/run_matt/DiagIce-5day.0000056160.meta\n",
        "/glade/scratch/rpa/SOSE/run_matt/gamma_n_surface/gamma_n_surface.0000056160.meta\n"
       ]
      },
      {
       "output_type": "stream",
       "stream": "stderr",
       "text": [
        "/glade/scratch/rpa/SOSE/run_matt/DiagIce-5day.0000056640.meta\n",
        "/glade/scratch/rpa/SOSE/run_matt/gamma_n_surface/gamma_n_surface.0000056640.meta\n"
       ]
      },
      {
       "output_type": "stream",
       "stream": "stderr",
       "text": [
        "/glade/scratch/rpa/SOSE/run_matt/DiagIce-5day.0000057120.meta\n",
        "/glade/scratch/rpa/SOSE/run_matt/gamma_n_surface/gamma_n_surface.0000057120.meta\n"
       ]
      },
      {
       "output_type": "stream",
       "stream": "stderr",
       "text": [
        "/glade/scratch/rpa/SOSE/run_matt/DiagIce-5day.0000057600.meta\n",
        "/glade/scratch/rpa/SOSE/run_matt/gamma_n_surface/gamma_n_surface.0000057600.meta\n"
       ]
      },
      {
       "output_type": "stream",
       "stream": "stderr",
       "text": [
        "/glade/scratch/rpa/SOSE/run_matt/DiagIce-5day.0000058080.meta\n",
        "/glade/scratch/rpa/SOSE/run_matt/gamma_n_surface/gamma_n_surface.0000058080.meta\n"
       ]
      },
      {
       "output_type": "stream",
       "stream": "stderr",
       "text": [
        "/glade/scratch/rpa/SOSE/run_matt/DiagIce-5day.0000058560.meta\n",
        "/glade/scratch/rpa/SOSE/run_matt/gamma_n_surface/gamma_n_surface.0000058560.meta\n"
       ]
      },
      {
       "output_type": "stream",
       "stream": "stderr",
       "text": [
        "/glade/scratch/rpa/SOSE/run_matt/DiagIce-5day.0000059040.meta\n",
        "/glade/scratch/rpa/SOSE/run_matt/gamma_n_surface/gamma_n_surface.0000059040.meta\n"
       ]
      },
      {
       "output_type": "stream",
       "stream": "stderr",
       "text": [
        "/glade/scratch/rpa/SOSE/run_matt/DiagIce-5day.0000059520.meta\n",
        "/glade/scratch/rpa/SOSE/run_matt/gamma_n_surface/gamma_n_surface.0000059520.meta\n"
       ]
      },
      {
       "output_type": "stream",
       "stream": "stderr",
       "text": [
        "/glade/scratch/rpa/SOSE/run_matt/DiagIce-5day.0000060000.meta\n",
        "/glade/scratch/rpa/SOSE/run_matt/gamma_n_surface/gamma_n_surface.0000060000.meta\n"
       ]
      },
      {
       "output_type": "stream",
       "stream": "stderr",
       "text": [
        "/glade/scratch/rpa/SOSE/run_matt/DiagIce-5day.0000060480.meta\n",
        "/glade/scratch/rpa/SOSE/run_matt/gamma_n_surface/gamma_n_surface.0000060480.meta\n"
       ]
      },
      {
       "output_type": "stream",
       "stream": "stderr",
       "text": [
        "/glade/scratch/rpa/SOSE/run_matt/DiagIce-5day.0000060960.meta\n",
        "/glade/scratch/rpa/SOSE/run_matt/gamma_n_surface/gamma_n_surface.0000060960.meta\n"
       ]
      },
      {
       "output_type": "stream",
       "stream": "stderr",
       "text": [
        "/glade/scratch/rpa/SOSE/run_matt/DiagIce-5day.0000061440.meta\n",
        "/glade/scratch/rpa/SOSE/run_matt/gamma_n_surface/gamma_n_surface.0000061440.meta\n"
       ]
      },
      {
       "output_type": "stream",
       "stream": "stderr",
       "text": [
        "/glade/scratch/rpa/SOSE/run_matt/DiagIce-5day.0000061920.meta\n",
        "/glade/scratch/rpa/SOSE/run_matt/gamma_n_surface/gamma_n_surface.0000061920.meta\n"
       ]
      },
      {
       "output_type": "stream",
       "stream": "stderr",
       "text": [
        "/glade/scratch/rpa/SOSE/run_matt/DiagIce-5day.0000062400.meta\n",
        "/glade/scratch/rpa/SOSE/run_matt/gamma_n_surface/gamma_n_surface.0000062400.meta\n"
       ]
      },
      {
       "output_type": "stream",
       "stream": "stderr",
       "text": [
        "/glade/scratch/rpa/SOSE/run_matt/DiagIce-5day.0000062880.meta\n",
        "/glade/scratch/rpa/SOSE/run_matt/gamma_n_surface/gamma_n_surface.0000062880.meta\n"
       ]
      },
      {
       "output_type": "stream",
       "stream": "stderr",
       "text": [
        "/glade/scratch/rpa/SOSE/run_matt/DiagIce-5day.0000063360.meta\n",
        "/glade/scratch/rpa/SOSE/run_matt/gamma_n_surface/gamma_n_surface.0000063360.meta\n"
       ]
      },
      {
       "output_type": "stream",
       "stream": "stderr",
       "text": [
        "/glade/scratch/rpa/SOSE/run_matt/DiagIce-5day.0000063840.meta\n",
        "/glade/scratch/rpa/SOSE/run_matt/gamma_n_surface/gamma_n_surface.0000063840.meta\n"
       ]
      },
      {
       "output_type": "stream",
       "stream": "stderr",
       "text": [
        "/glade/scratch/rpa/SOSE/run_matt/DiagIce-5day.0000064320.meta\n",
        "/glade/scratch/rpa/SOSE/run_matt/gamma_n_surface/gamma_n_surface.0000064320.meta\n"
       ]
      },
      {
       "output_type": "stream",
       "stream": "stderr",
       "text": [
        "/glade/scratch/rpa/SOSE/run_matt/DiagIce-5day.0000064800.meta\n",
        "/glade/scratch/rpa/SOSE/run_matt/gamma_n_surface/gamma_n_surface.0000064800.meta\n"
       ]
      },
      {
       "output_type": "stream",
       "stream": "stderr",
       "text": [
        "/glade/scratch/rpa/SOSE/run_matt/DiagIce-5day.0000065280.meta\n",
        "/glade/scratch/rpa/SOSE/run_matt/gamma_n_surface/gamma_n_surface.0000065280.meta\n"
       ]
      },
      {
       "output_type": "stream",
       "stream": "stderr",
       "text": [
        "/glade/scratch/rpa/SOSE/run_matt/DiagIce-5day.0000065760.meta\n",
        "/glade/scratch/rpa/SOSE/run_matt/gamma_n_surface/gamma_n_surface.0000065760.meta\n"
       ]
      },
      {
       "output_type": "stream",
       "stream": "stderr",
       "text": [
        "/glade/scratch/rpa/SOSE/run_matt/DiagIce-5day.0000066240.meta\n",
        "/glade/scratch/rpa/SOSE/run_matt/gamma_n_surface/gamma_n_surface.0000066240.meta\n"
       ]
      },
      {
       "output_type": "stream",
       "stream": "stderr",
       "text": [
        "/glade/scratch/rpa/SOSE/run_matt/DiagIce-5day.0000066720.meta\n",
        "/glade/scratch/rpa/SOSE/run_matt/gamma_n_surface/gamma_n_surface.0000066720.meta\n"
       ]
      },
      {
       "output_type": "stream",
       "stream": "stderr",
       "text": [
        "/glade/scratch/rpa/SOSE/run_matt/DiagIce-5day.0000067200.meta\n",
        "/glade/scratch/rpa/SOSE/run_matt/gamma_n_surface/gamma_n_surface.0000067200.meta\n"
       ]
      },
      {
       "output_type": "stream",
       "stream": "stderr",
       "text": [
        "/glade/scratch/rpa/SOSE/run_matt/DiagIce-5day.0000067680.meta\n",
        "/glade/scratch/rpa/SOSE/run_matt/gamma_n_surface/gamma_n_surface.0000067680.meta\n"
       ]
      },
      {
       "output_type": "stream",
       "stream": "stderr",
       "text": [
        "/glade/scratch/rpa/SOSE/run_matt/DiagIce-5day.0000068160.meta\n",
        "/glade/scratch/rpa/SOSE/run_matt/gamma_n_surface/gamma_n_surface.0000068160.meta\n"
       ]
      },
      {
       "output_type": "stream",
       "stream": "stderr",
       "text": [
        "/glade/scratch/rpa/SOSE/run_matt/DiagIce-5day.0000068640.meta\n",
        "/glade/scratch/rpa/SOSE/run_matt/gamma_n_surface/gamma_n_surface.0000068640.meta\n"
       ]
      },
      {
       "output_type": "stream",
       "stream": "stderr",
       "text": [
        "/glade/scratch/rpa/SOSE/run_matt/DiagIce-5day.0000069120.meta\n",
        "/glade/scratch/rpa/SOSE/run_matt/gamma_n_surface/gamma_n_surface.0000069120.meta\n"
       ]
      },
      {
       "output_type": "stream",
       "stream": "stderr",
       "text": [
        "/glade/scratch/rpa/SOSE/run_matt/DiagIce-5day.0000069600.meta\n",
        "/glade/scratch/rpa/SOSE/run_matt/gamma_n_surface/gamma_n_surface.0000069600.meta\n"
       ]
      },
      {
       "output_type": "stream",
       "stream": "stderr",
       "text": [
        "/glade/scratch/rpa/SOSE/run_matt/DiagIce-5day.0000070080.meta\n",
        "/glade/scratch/rpa/SOSE/run_matt/gamma_n_surface/gamma_n_surface.0000070080.meta\n"
       ]
      },
      {
       "output_type": "stream",
       "stream": "stderr",
       "text": [
        "/glade/scratch/rpa/SOSE/run_matt/DiagIce-5day.0000070560.meta\n",
        "/glade/scratch/rpa/SOSE/run_matt/gamma_n_surface/gamma_n_surface.0000070560.meta\n"
       ]
      },
      {
       "output_type": "stream",
       "stream": "stderr",
       "text": [
        "/glade/scratch/rpa/SOSE/run_matt/DiagIce-5day.0000071040.meta\n",
        "/glade/scratch/rpa/SOSE/run_matt/gamma_n_surface/gamma_n_surface.0000071040.meta\n"
       ]
      },
      {
       "output_type": "stream",
       "stream": "stderr",
       "text": [
        "/glade/scratch/rpa/SOSE/run_matt/DiagIce-5day.0000071520.meta\n",
        "/glade/scratch/rpa/SOSE/run_matt/gamma_n_surface/gamma_n_surface.0000071520.meta\n"
       ]
      },
      {
       "output_type": "stream",
       "stream": "stderr",
       "text": [
        "/glade/scratch/rpa/SOSE/run_matt/DiagIce-5day.0000072000.meta\n",
        "/glade/scratch/rpa/SOSE/run_matt/gamma_n_surface/gamma_n_surface.0000072000.meta\n"
       ]
      },
      {
       "output_type": "stream",
       "stream": "stderr",
       "text": [
        "/glade/scratch/rpa/SOSE/run_matt/DiagIce-5day.0000072480.meta\n",
        "/glade/scratch/rpa/SOSE/run_matt/gamma_n_surface/gamma_n_surface.0000072480.meta\n"
       ]
      },
      {
       "output_type": "stream",
       "stream": "stderr",
       "text": [
        "/glade/scratch/rpa/SOSE/run_matt/DiagIce-5day.0000072960.meta\n",
        "/glade/scratch/rpa/SOSE/run_matt/gamma_n_surface/gamma_n_surface.0000072960.meta\n"
       ]
      },
      {
       "output_type": "stream",
       "stream": "stderr",
       "text": [
        "/glade/scratch/rpa/SOSE/run_matt/DiagIce-5day.0000073440.meta\n",
        "/glade/scratch/rpa/SOSE/run_matt/gamma_n_surface/gamma_n_surface.0000073440.meta\n"
       ]
      },
      {
       "output_type": "stream",
       "stream": "stderr",
       "text": [
        "/glade/scratch/rpa/SOSE/run_matt/DiagIce-5day.0000073920.meta\n",
        "/glade/scratch/rpa/SOSE/run_matt/gamma_n_surface/gamma_n_surface.0000073920.meta\n"
       ]
      },
      {
       "output_type": "stream",
       "stream": "stderr",
       "text": [
        "/glade/scratch/rpa/SOSE/run_matt/DiagIce-5day.0000074400.meta\n",
        "/glade/scratch/rpa/SOSE/run_matt/gamma_n_surface/gamma_n_surface.0000074400.meta\n"
       ]
      },
      {
       "output_type": "stream",
       "stream": "stderr",
       "text": [
        "/glade/scratch/rpa/SOSE/run_matt/DiagIce-5day.0000074880.meta\n",
        "/glade/scratch/rpa/SOSE/run_matt/gamma_n_surface/gamma_n_surface.0000074880.meta\n"
       ]
      },
      {
       "output_type": "stream",
       "stream": "stderr",
       "text": [
        "/glade/scratch/rpa/SOSE/run_matt/DiagIce-5day.0000075360.meta\n",
        "/glade/scratch/rpa/SOSE/run_matt/gamma_n_surface/gamma_n_surface.0000075360.meta\n"
       ]
      },
      {
       "output_type": "stream",
       "stream": "stderr",
       "text": [
        "/glade/scratch/rpa/SOSE/run_matt/DiagIce-5day.0000075840.meta\n",
        "/glade/scratch/rpa/SOSE/run_matt/gamma_n_surface/gamma_n_surface.0000075840.meta\n"
       ]
      },
      {
       "output_type": "stream",
       "stream": "stderr",
       "text": [
        "/glade/scratch/rpa/SOSE/run_matt/DiagIce-5day.0000076320.meta\n",
        "/glade/scratch/rpa/SOSE/run_matt/gamma_n_surface/gamma_n_surface.0000076320.meta\n"
       ]
      },
      {
       "output_type": "stream",
       "stream": "stderr",
       "text": [
        "/glade/scratch/rpa/SOSE/run_matt/DiagIce-5day.0000076800.meta\n",
        "/glade/scratch/rpa/SOSE/run_matt/gamma_n_surface/gamma_n_surface.0000076800.meta\n"
       ]
      },
      {
       "output_type": "stream",
       "stream": "stderr",
       "text": [
        "/glade/scratch/rpa/SOSE/run_matt/DiagIce-5day.0000077280.meta\n",
        "/glade/scratch/rpa/SOSE/run_matt/gamma_n_surface/gamma_n_surface.0000077280.meta\n"
       ]
      },
      {
       "output_type": "stream",
       "stream": "stderr",
       "text": [
        "/glade/scratch/rpa/SOSE/run_matt/DiagIce-5day.0000077760.meta\n",
        "/glade/scratch/rpa/SOSE/run_matt/gamma_n_surface/gamma_n_surface.0000077760.meta\n"
       ]
      },
      {
       "output_type": "stream",
       "stream": "stderr",
       "text": [
        "/glade/scratch/rpa/SOSE/run_matt/DiagIce-5day.0000078240.meta\n",
        "/glade/scratch/rpa/SOSE/run_matt/gamma_n_surface/gamma_n_surface.0000078240.meta\n"
       ]
      },
      {
       "output_type": "stream",
       "stream": "stderr",
       "text": [
        "/glade/scratch/rpa/SOSE/run_matt/DiagIce-5day.0000078720.meta\n",
        "/glade/scratch/rpa/SOSE/run_matt/gamma_n_surface/gamma_n_surface.0000078720.meta\n"
       ]
      },
      {
       "output_type": "stream",
       "stream": "stderr",
       "text": [
        "/glade/scratch/rpa/SOSE/run_matt/DiagIce-5day.0000079200.meta\n",
        "/glade/scratch/rpa/SOSE/run_matt/gamma_n_surface/gamma_n_surface.0000079200.meta\n"
       ]
      },
      {
       "output_type": "stream",
       "stream": "stderr",
       "text": [
        "/glade/scratch/rpa/SOSE/run_matt/DiagIce-5day.0000079680.meta\n",
        "/glade/scratch/rpa/SOSE/run_matt/gamma_n_surface/gamma_n_surface.0000079680.meta\n"
       ]
      },
      {
       "output_type": "stream",
       "stream": "stderr",
       "text": [
        "/glade/scratch/rpa/SOSE/run_matt/DiagIce-5day.0000080160.meta\n",
        "/glade/scratch/rpa/SOSE/run_matt/gamma_n_surface/gamma_n_surface.0000080160.meta\n"
       ]
      },
      {
       "output_type": "stream",
       "stream": "stderr",
       "text": [
        "/glade/scratch/rpa/SOSE/run_matt/DiagIce-5day.0000080640.meta\n",
        "/glade/scratch/rpa/SOSE/run_matt/gamma_n_surface/gamma_n_surface.0000080640.meta\n"
       ]
      },
      {
       "output_type": "stream",
       "stream": "stderr",
       "text": [
        "/glade/scratch/rpa/SOSE/run_matt/DiagIce-5day.0000081120.meta\n",
        "/glade/scratch/rpa/SOSE/run_matt/gamma_n_surface/gamma_n_surface.0000081120.meta\n"
       ]
      },
      {
       "output_type": "stream",
       "stream": "stderr",
       "text": [
        "/glade/scratch/rpa/SOSE/run_matt/DiagIce-5day.0000081600.meta\n",
        "/glade/scratch/rpa/SOSE/run_matt/gamma_n_surface/gamma_n_surface.0000081600.meta\n"
       ]
      },
      {
       "output_type": "stream",
       "stream": "stderr",
       "text": [
        "/glade/scratch/rpa/SOSE/run_matt/DiagIce-5day.0000082080.meta\n",
        "/glade/scratch/rpa/SOSE/run_matt/gamma_n_surface/gamma_n_surface.0000082080.meta\n"
       ]
      },
      {
       "output_type": "stream",
       "stream": "stderr",
       "text": [
        "/glade/scratch/rpa/SOSE/run_matt/DiagIce-5day.0000082560.meta\n",
        "/glade/scratch/rpa/SOSE/run_matt/gamma_n_surface/gamma_n_surface.0000082560.meta\n"
       ]
      },
      {
       "output_type": "stream",
       "stream": "stderr",
       "text": [
        "/glade/scratch/rpa/SOSE/run_matt/DiagIce-5day.0000083040.meta\n",
        "/glade/scratch/rpa/SOSE/run_matt/gamma_n_surface/gamma_n_surface.0000083040.meta\n"
       ]
      },
      {
       "output_type": "stream",
       "stream": "stderr",
       "text": [
        "/glade/scratch/rpa/SOSE/run_matt/DiagIce-5day.0000083520.meta\n",
        "/glade/scratch/rpa/SOSE/run_matt/gamma_n_surface/gamma_n_surface.0000083520.meta\n"
       ]
      },
      {
       "output_type": "stream",
       "stream": "stderr",
       "text": [
        "/glade/scratch/rpa/SOSE/run_matt/DiagIce-5day.0000084000.meta\n",
        "/glade/scratch/rpa/SOSE/run_matt/gamma_n_surface/gamma_n_surface.0000084000.meta\n"
       ]
      },
      {
       "output_type": "stream",
       "stream": "stderr",
       "text": [
        "/glade/scratch/rpa/SOSE/run_matt/DiagIce-5day.0000084480.meta\n",
        "/glade/scratch/rpa/SOSE/run_matt/gamma_n_surface/gamma_n_surface.0000084480.meta\n"
       ]
      },
      {
       "output_type": "stream",
       "stream": "stderr",
       "text": [
        "/glade/scratch/rpa/SOSE/run_matt/DiagIce-5day.0000084960.meta\n",
        "/glade/scratch/rpa/SOSE/run_matt/gamma_n_surface/gamma_n_surface.0000084960.meta\n"
       ]
      },
      {
       "output_type": "stream",
       "stream": "stderr",
       "text": [
        "/glade/scratch/rpa/SOSE/run_matt/DiagIce-5day.0000085440.meta\n",
        "/glade/scratch/rpa/SOSE/run_matt/gamma_n_surface/gamma_n_surface.0000085440.meta\n"
       ]
      },
      {
       "output_type": "stream",
       "stream": "stderr",
       "text": [
        "/glade/scratch/rpa/SOSE/run_matt/DiagIce-5day.0000085920.meta\n",
        "/glade/scratch/rpa/SOSE/run_matt/gamma_n_surface/gamma_n_surface.0000085920.meta\n"
       ]
      },
      {
       "output_type": "stream",
       "stream": "stderr",
       "text": [
        "/glade/scratch/rpa/SOSE/run_matt/DiagIce-5day.0000086400.meta\n",
        "/glade/scratch/rpa/SOSE/run_matt/gamma_n_surface/gamma_n_surface.0000086400.meta\n"
       ]
      },
      {
       "output_type": "stream",
       "stream": "stderr",
       "text": [
        "/glade/scratch/rpa/SOSE/run_matt/DiagIce-5day.0000086880.meta\n",
        "/glade/scratch/rpa/SOSE/run_matt/gamma_n_surface/gamma_n_surface.0000086880.meta\n"
       ]
      },
      {
       "output_type": "stream",
       "stream": "stderr",
       "text": [
        "/glade/scratch/rpa/SOSE/run_matt/DiagIce-5day.0000087360.meta\n",
        "/glade/scratch/rpa/SOSE/run_matt/gamma_n_surface/gamma_n_surface.0000087360.meta\n"
       ]
      },
      {
       "output_type": "stream",
       "stream": "stderr",
       "text": [
        "/glade/scratch/rpa/SOSE/run_matt/DiagIce-5day.0000087840.meta\n",
        "/glade/scratch/rpa/SOSE/run_matt/gamma_n_surface/gamma_n_surface.0000087840.meta\n"
       ]
      },
      {
       "output_type": "stream",
       "stream": "stderr",
       "text": [
        "/glade/scratch/rpa/SOSE/run_matt/DiagIce-5day.0000088320.meta\n",
        "/glade/scratch/rpa/SOSE/run_matt/gamma_n_surface/gamma_n_surface.0000088320.meta\n"
       ]
      },
      {
       "output_type": "stream",
       "stream": "stderr",
       "text": [
        "/glade/scratch/rpa/SOSE/run_matt/DiagIce-5day.0000088800.meta\n",
        "/glade/scratch/rpa/SOSE/run_matt/gamma_n_surface/gamma_n_surface.0000088800.meta\n"
       ]
      },
      {
       "output_type": "stream",
       "stream": "stderr",
       "text": [
        "/glade/scratch/rpa/SOSE/run_matt/DiagIce-5day.0000089280.meta\n",
        "/glade/scratch/rpa/SOSE/run_matt/gamma_n_surface/gamma_n_surface.0000089280.meta\n"
       ]
      },
      {
       "output_type": "stream",
       "stream": "stderr",
       "text": [
        "/glade/scratch/rpa/SOSE/run_matt/DiagIce-5day.0000089760.meta\n",
        "/glade/scratch/rpa/SOSE/run_matt/gamma_n_surface/gamma_n_surface.0000089760.meta\n"
       ]
      },
      {
       "output_type": "stream",
       "stream": "stderr",
       "text": [
        "/glade/scratch/rpa/SOSE/run_matt/DiagIce-5day.0000090240.meta\n",
        "/glade/scratch/rpa/SOSE/run_matt/gamma_n_surface/gamma_n_surface.0000090240.meta\n"
       ]
      },
      {
       "output_type": "stream",
       "stream": "stderr",
       "text": [
        "/glade/scratch/rpa/SOSE/run_matt/DiagIce-5day.0000090720.meta\n",
        "/glade/scratch/rpa/SOSE/run_matt/gamma_n_surface/gamma_n_surface.0000090720.meta\n"
       ]
      },
      {
       "output_type": "stream",
       "stream": "stderr",
       "text": [
        "/glade/scratch/rpa/SOSE/run_matt/DiagIce-5day.0000091200.meta\n",
        "/glade/scratch/rpa/SOSE/run_matt/gamma_n_surface/gamma_n_surface.0000091200.meta\n"
       ]
      },
      {
       "output_type": "stream",
       "stream": "stderr",
       "text": [
        "/glade/scratch/rpa/SOSE/run_matt/DiagIce-5day.0000091680.meta\n",
        "/glade/scratch/rpa/SOSE/run_matt/gamma_n_surface/gamma_n_surface.0000091680.meta\n"
       ]
      },
      {
       "output_type": "stream",
       "stream": "stderr",
       "text": [
        "/glade/scratch/rpa/SOSE/run_matt/DiagIce-5day.0000092160.meta\n",
        "/glade/scratch/rpa/SOSE/run_matt/gamma_n_surface/gamma_n_surface.0000092160.meta\n"
       ]
      },
      {
       "output_type": "stream",
       "stream": "stderr",
       "text": [
        "/glade/scratch/rpa/SOSE/run_matt/DiagIce-5day.0000092640.meta\n",
        "/glade/scratch/rpa/SOSE/run_matt/gamma_n_surface/gamma_n_surface.0000092640.meta\n"
       ]
      },
      {
       "output_type": "stream",
       "stream": "stderr",
       "text": [
        "/glade/scratch/rpa/SOSE/run_matt/DiagIce-5day.0000093120.meta\n",
        "/glade/scratch/rpa/SOSE/run_matt/gamma_n_surface/gamma_n_surface.0000093120.meta\n"
       ]
      },
      {
       "output_type": "stream",
       "stream": "stderr",
       "text": [
        "/glade/scratch/rpa/SOSE/run_matt/DiagIce-5day.0000093600.meta\n",
        "/glade/scratch/rpa/SOSE/run_matt/gamma_n_surface/gamma_n_surface.0000093600.meta\n"
       ]
      },
      {
       "output_type": "stream",
       "stream": "stderr",
       "text": [
        "/glade/scratch/rpa/SOSE/run_matt/DiagIce-5day.0000094080.meta\n",
        "/glade/scratch/rpa/SOSE/run_matt/gamma_n_surface/gamma_n_surface.0000094080.meta\n"
       ]
      },
      {
       "output_type": "stream",
       "stream": "stderr",
       "text": [
        "/glade/scratch/rpa/SOSE/run_matt/DiagIce-5day.0000094560.meta\n",
        "/glade/scratch/rpa/SOSE/run_matt/gamma_n_surface/gamma_n_surface.0000094560.meta\n"
       ]
      },
      {
       "output_type": "stream",
       "stream": "stderr",
       "text": [
        "/glade/scratch/rpa/SOSE/run_matt/DiagIce-5day.0000095040.meta\n",
        "/glade/scratch/rpa/SOSE/run_matt/gamma_n_surface/gamma_n_surface.0000095040.meta\n"
       ]
      },
      {
       "output_type": "stream",
       "stream": "stderr",
       "text": [
        "/glade/scratch/rpa/SOSE/run_matt/DiagIce-5day.0000095520.meta\n",
        "/glade/scratch/rpa/SOSE/run_matt/gamma_n_surface/gamma_n_surface.0000095520.meta\n"
       ]
      },
      {
       "output_type": "stream",
       "stream": "stderr",
       "text": [
        "/glade/scratch/rpa/SOSE/run_matt/DiagIce-5day.0000096000.meta\n",
        "/glade/scratch/rpa/SOSE/run_matt/gamma_n_surface/gamma_n_surface.0000096000.meta\n"
       ]
      },
      {
       "output_type": "stream",
       "stream": "stderr",
       "text": [
        "/glade/scratch/rpa/SOSE/run_matt/DiagIce-5day.0000096480.meta\n",
        "/glade/scratch/rpa/SOSE/run_matt/gamma_n_surface/gamma_n_surface.0000096480.meta\n"
       ]
      },
      {
       "output_type": "stream",
       "stream": "stderr",
       "text": [
        "/glade/scratch/rpa/SOSE/run_matt/DiagIce-5day.0000096960.meta\n",
        "/glade/scratch/rpa/SOSE/run_matt/gamma_n_surface/gamma_n_surface.0000096960.meta\n"
       ]
      },
      {
       "output_type": "stream",
       "stream": "stderr",
       "text": [
        "/glade/scratch/rpa/SOSE/run_matt/DiagIce-5day.0000097440.meta\n",
        "/glade/scratch/rpa/SOSE/run_matt/gamma_n_surface/gamma_n_surface.0000097440.meta\n"
       ]
      },
      {
       "output_type": "stream",
       "stream": "stderr",
       "text": [
        "/glade/scratch/rpa/SOSE/run_matt/DiagIce-5day.0000097920.meta\n",
        "/glade/scratch/rpa/SOSE/run_matt/gamma_n_surface/gamma_n_surface.0000097920.meta\n"
       ]
      },
      {
       "output_type": "stream",
       "stream": "stderr",
       "text": [
        "/glade/scratch/rpa/SOSE/run_matt/DiagIce-5day.0000098400.meta\n",
        "/glade/scratch/rpa/SOSE/run_matt/gamma_n_surface/gamma_n_surface.0000098400.meta\n"
       ]
      },
      {
       "output_type": "stream",
       "stream": "stderr",
       "text": [
        "/glade/scratch/rpa/SOSE/run_matt/DiagIce-5day.0000098880.meta\n",
        "/glade/scratch/rpa/SOSE/run_matt/gamma_n_surface/gamma_n_surface.0000098880.meta\n"
       ]
      },
      {
       "output_type": "stream",
       "stream": "stderr",
       "text": [
        "/glade/scratch/rpa/SOSE/run_matt/DiagIce-5day.0000099360.meta\n",
        "/glade/scratch/rpa/SOSE/run_matt/gamma_n_surface/gamma_n_surface.0000099360.meta\n"
       ]
      },
      {
       "output_type": "stream",
       "stream": "stderr",
       "text": [
        "/glade/scratch/rpa/SOSE/run_matt/DiagIce-5day.0000099840.meta\n",
        "/glade/scratch/rpa/SOSE/run_matt/gamma_n_surface/gamma_n_surface.0000099840.meta\n"
       ]
      },
      {
       "output_type": "stream",
       "stream": "stderr",
       "text": [
        "/glade/scratch/rpa/SOSE/run_matt/DiagIce-5day.0000100320.meta\n",
        "/glade/scratch/rpa/SOSE/run_matt/gamma_n_surface/gamma_n_surface.0000100320.meta\n"
       ]
      },
      {
       "output_type": "stream",
       "stream": "stderr",
       "text": [
        "/glade/scratch/rpa/SOSE/run_matt/DiagIce-5day.0000100800.meta\n",
        "/glade/scratch/rpa/SOSE/run_matt/gamma_n_surface/gamma_n_surface.0000100800.meta\n"
       ]
      },
      {
       "output_type": "stream",
       "stream": "stderr",
       "text": [
        "/glade/scratch/rpa/SOSE/run_matt/DiagIce-5day.0000101280.meta\n",
        "/glade/scratch/rpa/SOSE/run_matt/gamma_n_surface/gamma_n_surface.0000101280.meta\n"
       ]
      },
      {
       "output_type": "stream",
       "stream": "stderr",
       "text": [
        "/glade/scratch/rpa/SOSE/run_matt/DiagIce-5day.0000101760.meta\n",
        "/glade/scratch/rpa/SOSE/run_matt/gamma_n_surface/gamma_n_surface.0000101760.meta\n"
       ]
      },
      {
       "output_type": "stream",
       "stream": "stderr",
       "text": [
        "/glade/scratch/rpa/SOSE/run_matt/DiagIce-5day.0000102240.meta\n",
        "/glade/scratch/rpa/SOSE/run_matt/gamma_n_surface/gamma_n_surface.0000102240.meta\n"
       ]
      },
      {
       "output_type": "stream",
       "stream": "stderr",
       "text": [
        "/glade/scratch/rpa/SOSE/run_matt/DiagIce-5day.0000102720.meta\n",
        "/glade/scratch/rpa/SOSE/run_matt/gamma_n_surface/gamma_n_surface.0000102720.meta\n"
       ]
      },
      {
       "output_type": "stream",
       "stream": "stderr",
       "text": [
        "/glade/scratch/rpa/SOSE/run_matt/DiagIce-5day.0000103200.meta\n",
        "/glade/scratch/rpa/SOSE/run_matt/gamma_n_surface/gamma_n_surface.0000103200.meta\n"
       ]
      },
      {
       "output_type": "stream",
       "stream": "stderr",
       "text": [
        "/glade/scratch/rpa/SOSE/run_matt/DiagIce-5day.0000103680.meta\n",
        "/glade/scratch/rpa/SOSE/run_matt/gamma_n_surface/gamma_n_surface.0000103680.meta\n"
       ]
      },
      {
       "output_type": "stream",
       "stream": "stderr",
       "text": [
        "/glade/scratch/rpa/SOSE/run_matt/DiagIce-5day.0000104160.meta\n",
        "/glade/scratch/rpa/SOSE/run_matt/gamma_n_surface/gamma_n_surface.0000104160.meta\n"
       ]
      },
      {
       "output_type": "stream",
       "stream": "stderr",
       "text": [
        "/glade/scratch/rpa/SOSE/run_matt/DiagIce-5day.0000104640.meta\n",
        "/glade/scratch/rpa/SOSE/run_matt/gamma_n_surface/gamma_n_surface.0000104640.meta\n"
       ]
      },
      {
       "output_type": "stream",
       "stream": "stderr",
       "text": [
        "/glade/scratch/rpa/SOSE/run_matt/DiagIce-5day.0000105120.meta\n",
        "/glade/scratch/rpa/SOSE/run_matt/gamma_n_surface/gamma_n_surface.0000105120.meta\n"
       ]
      },
      {
       "output_type": "stream",
       "stream": "stderr",
       "text": [
        "/glade/scratch/rpa/SOSE/run_matt/DiagIce-5day.0000105600.meta\n",
        "/glade/scratch/rpa/SOSE/run_matt/gamma_n_surface/gamma_n_surface.0000105600.meta\n"
       ]
      },
      {
       "output_type": "stream",
       "stream": "stderr",
       "text": [
        "/glade/scratch/rpa/SOSE/run_matt/DiagIce-5day.0000106080.meta\n",
        "/glade/scratch/rpa/SOSE/run_matt/gamma_n_surface/gamma_n_surface.0000106080.meta\n"
       ]
      },
      {
       "output_type": "stream",
       "stream": "stderr",
       "text": [
        "/glade/scratch/rpa/SOSE/run_matt/DiagIce-5day.0000106560.meta\n",
        "/glade/scratch/rpa/SOSE/run_matt/gamma_n_surface/gamma_n_surface.0000106560.meta\n"
       ]
      },
      {
       "output_type": "stream",
       "stream": "stderr",
       "text": [
        "/glade/scratch/rpa/SOSE/run_matt/DiagIce-5day.0000107040.meta\n",
        "/glade/scratch/rpa/SOSE/run_matt/gamma_n_surface/gamma_n_surface.0000107040.meta\n"
       ]
      },
      {
       "output_type": "stream",
       "stream": "stderr",
       "text": [
        "/glade/scratch/rpa/SOSE/run_matt/DiagIce-5day.0000107520.meta\n",
        "/glade/scratch/rpa/SOSE/run_matt/gamma_n_surface/gamma_n_surface.0000107520.meta\n"
       ]
      },
      {
       "output_type": "stream",
       "stream": "stderr",
       "text": [
        "/glade/scratch/rpa/SOSE/run_matt/DiagIce-5day.0000108000.meta\n",
        "/glade/scratch/rpa/SOSE/run_matt/gamma_n_surface/gamma_n_surface.0000108000.meta\n"
       ]
      },
      {
       "output_type": "stream",
       "stream": "stderr",
       "text": [
        "/glade/scratch/rpa/SOSE/run_matt/DiagIce-5day.0000108480.meta\n",
        "/glade/scratch/rpa/SOSE/run_matt/gamma_n_surface/gamma_n_surface.0000108480.meta\n"
       ]
      },
      {
       "output_type": "stream",
       "stream": "stderr",
       "text": [
        "/glade/scratch/rpa/SOSE/run_matt/DiagIce-5day.0000108960.meta\n",
        "/glade/scratch/rpa/SOSE/run_matt/gamma_n_surface/gamma_n_surface.0000108960.meta\n"
       ]
      },
      {
       "output_type": "stream",
       "stream": "stderr",
       "text": [
        "/glade/scratch/rpa/SOSE/run_matt/DiagIce-5day.0000109440.meta\n",
        "/glade/scratch/rpa/SOSE/run_matt/gamma_n_surface/gamma_n_surface.0000109440.meta\n"
       ]
      },
      {
       "output_type": "stream",
       "stream": "stderr",
       "text": [
        "/glade/scratch/rpa/SOSE/run_matt/DiagIce-5day.0000109920.meta\n",
        "/glade/scratch/rpa/SOSE/run_matt/gamma_n_surface/gamma_n_surface.0000109920.meta\n"
       ]
      },
      {
       "output_type": "stream",
       "stream": "stderr",
       "text": [
        "/glade/scratch/rpa/SOSE/run_matt/DiagIce-5day.0000110400.meta\n",
        "/glade/scratch/rpa/SOSE/run_matt/gamma_n_surface/gamma_n_surface.0000110400.meta\n"
       ]
      },
      {
       "output_type": "stream",
       "stream": "stderr",
       "text": [
        "/glade/scratch/rpa/SOSE/run_matt/DiagIce-5day.0000110880.meta\n",
        "/glade/scratch/rpa/SOSE/run_matt/gamma_n_surface/gamma_n_surface.0000110880.meta\n"
       ]
      },
      {
       "output_type": "stream",
       "stream": "stderr",
       "text": [
        "/glade/scratch/rpa/SOSE/run_matt/DiagIce-5day.0000111360.meta\n",
        "/glade/scratch/rpa/SOSE/run_matt/gamma_n_surface/gamma_n_surface.0000111360.meta\n"
       ]
      },
      {
       "output_type": "stream",
       "stream": "stderr",
       "text": [
        "/glade/scratch/rpa/SOSE/run_matt/DiagIce-5day.0000111840.meta\n",
        "/glade/scratch/rpa/SOSE/run_matt/gamma_n_surface/gamma_n_surface.0000111840.meta\n"
       ]
      },
      {
       "output_type": "stream",
       "stream": "stderr",
       "text": [
        "/glade/scratch/rpa/SOSE/run_matt/DiagIce-5day.0000112320.meta\n",
        "/glade/scratch/rpa/SOSE/run_matt/gamma_n_surface/gamma_n_surface.0000112320.meta\n"
       ]
      },
      {
       "output_type": "stream",
       "stream": "stderr",
       "text": [
        "/glade/scratch/rpa/SOSE/run_matt/DiagIce-5day.0000112800.meta\n",
        "/glade/scratch/rpa/SOSE/run_matt/gamma_n_surface/gamma_n_surface.0000112800.meta\n"
       ]
      },
      {
       "output_type": "stream",
       "stream": "stderr",
       "text": [
        "/glade/scratch/rpa/SOSE/run_matt/DiagIce-5day.0000113280.meta\n",
        "/glade/scratch/rpa/SOSE/run_matt/gamma_n_surface/gamma_n_surface.0000113280.meta\n"
       ]
      },
      {
       "output_type": "stream",
       "stream": "stderr",
       "text": [
        "/glade/scratch/rpa/SOSE/run_matt/DiagIce-5day.0000113760.meta\n",
        "/glade/scratch/rpa/SOSE/run_matt/gamma_n_surface/gamma_n_surface.0000113760.meta\n"
       ]
      },
      {
       "output_type": "stream",
       "stream": "stderr",
       "text": [
        "/glade/scratch/rpa/SOSE/run_matt/DiagIce-5day.0000114240.meta\n",
        "/glade/scratch/rpa/SOSE/run_matt/gamma_n_surface/gamma_n_surface.0000114240.meta\n"
       ]
      },
      {
       "output_type": "stream",
       "stream": "stderr",
       "text": [
        "/glade/scratch/rpa/SOSE/run_matt/DiagIce-5day.0000114720.meta\n",
        "/glade/scratch/rpa/SOSE/run_matt/gamma_n_surface/gamma_n_surface.0000114720.meta\n"
       ]
      },
      {
       "output_type": "stream",
       "stream": "stderr",
       "text": [
        "/glade/scratch/rpa/SOSE/run_matt/DiagIce-5day.0000115200.meta\n",
        "/glade/scratch/rpa/SOSE/run_matt/gamma_n_surface/gamma_n_surface.0000115200.meta\n"
       ]
      },
      {
       "output_type": "stream",
       "stream": "stderr",
       "text": [
        "/glade/scratch/rpa/SOSE/run_matt/DiagIce-5day.0000115680.meta\n",
        "/glade/scratch/rpa/SOSE/run_matt/gamma_n_surface/gamma_n_surface.0000115680.meta\n"
       ]
      },
      {
       "output_type": "stream",
       "stream": "stderr",
       "text": [
        "/glade/scratch/rpa/SOSE/run_matt/DiagIce-5day.0000116160.meta\n",
        "/glade/scratch/rpa/SOSE/run_matt/gamma_n_surface/gamma_n_surface.0000116160.meta\n"
       ]
      },
      {
       "output_type": "stream",
       "stream": "stderr",
       "text": [
        "/glade/scratch/rpa/SOSE/run_matt/DiagIce-5day.0000116640.meta\n",
        "/glade/scratch/rpa/SOSE/run_matt/gamma_n_surface/gamma_n_surface.0000116640.meta\n"
       ]
      },
      {
       "output_type": "stream",
       "stream": "stderr",
       "text": [
        "/glade/scratch/rpa/SOSE/run_matt/DiagIce-5day.0000117120.meta\n",
        "/glade/scratch/rpa/SOSE/run_matt/gamma_n_surface/gamma_n_surface.0000117120.meta\n"
       ]
      },
      {
       "output_type": "stream",
       "stream": "stderr",
       "text": [
        "/glade/scratch/rpa/SOSE/run_matt/DiagIce-5day.0000117600.meta\n",
        "/glade/scratch/rpa/SOSE/run_matt/gamma_n_surface/gamma_n_surface.0000117600.meta\n"
       ]
      },
      {
       "output_type": "stream",
       "stream": "stderr",
       "text": [
        "/glade/scratch/rpa/SOSE/run_matt/DiagIce-5day.0000118080.meta\n",
        "/glade/scratch/rpa/SOSE/run_matt/gamma_n_surface/gamma_n_surface.0000118080.meta\n"
       ]
      },
      {
       "output_type": "stream",
       "stream": "stderr",
       "text": [
        "/glade/scratch/rpa/SOSE/run_matt/DiagIce-5day.0000118560.meta\n",
        "/glade/scratch/rpa/SOSE/run_matt/gamma_n_surface/gamma_n_surface.0000118560.meta\n"
       ]
      },
      {
       "output_type": "stream",
       "stream": "stderr",
       "text": [
        "/glade/scratch/rpa/SOSE/run_matt/DiagIce-5day.0000119040.meta\n",
        "/glade/scratch/rpa/SOSE/run_matt/gamma_n_surface/gamma_n_surface.0000119040.meta\n"
       ]
      },
      {
       "output_type": "stream",
       "stream": "stderr",
       "text": [
        "/glade/scratch/rpa/SOSE/run_matt/DiagIce-5day.0000119520.meta\n",
        "/glade/scratch/rpa/SOSE/run_matt/gamma_n_surface/gamma_n_surface.0000119520.meta\n"
       ]
      },
      {
       "output_type": "stream",
       "stream": "stderr",
       "text": [
        "/glade/scratch/rpa/SOSE/run_matt/DiagIce-5day.0000120000.meta\n",
        "/glade/scratch/rpa/SOSE/run_matt/gamma_n_surface/gamma_n_surface.0000120000.meta\n"
       ]
      },
      {
       "output_type": "stream",
       "stream": "stderr",
       "text": [
        "/glade/scratch/rpa/SOSE/run_matt/DiagIce-5day.0000120480.meta\n",
        "/glade/scratch/rpa/SOSE/run_matt/gamma_n_surface/gamma_n_surface.0000120480.meta\n"
       ]
      },
      {
       "output_type": "stream",
       "stream": "stderr",
       "text": [
        "/glade/scratch/rpa/SOSE/run_matt/DiagIce-5day.0000120960.meta\n",
        "/glade/scratch/rpa/SOSE/run_matt/gamma_n_surface/gamma_n_surface.0000120960.meta\n"
       ]
      },
      {
       "output_type": "stream",
       "stream": "stderr",
       "text": [
        "/glade/scratch/rpa/SOSE/run_matt/DiagIce-5day.0000121440.meta\n",
        "/glade/scratch/rpa/SOSE/run_matt/gamma_n_surface/gamma_n_surface.0000121440.meta\n"
       ]
      },
      {
       "output_type": "stream",
       "stream": "stderr",
       "text": [
        "/glade/scratch/rpa/SOSE/run_matt/DiagIce-5day.0000121920.meta\n",
        "/glade/scratch/rpa/SOSE/run_matt/gamma_n_surface/gamma_n_surface.0000121920.meta\n"
       ]
      },
      {
       "output_type": "stream",
       "stream": "stderr",
       "text": [
        "/glade/scratch/rpa/SOSE/run_matt/DiagIce-5day.0000122400.meta\n",
        "/glade/scratch/rpa/SOSE/run_matt/gamma_n_surface/gamma_n_surface.0000122400.meta\n"
       ]
      },
      {
       "output_type": "stream",
       "stream": "stderr",
       "text": [
        "/glade/scratch/rpa/SOSE/run_matt/DiagIce-5day.0000122880.meta\n",
        "/glade/scratch/rpa/SOSE/run_matt/gamma_n_surface/gamma_n_surface.0000122880.meta\n"
       ]
      },
      {
       "output_type": "stream",
       "stream": "stderr",
       "text": [
        "/glade/scratch/rpa/SOSE/run_matt/DiagIce-5day.0000123360.meta\n",
        "/glade/scratch/rpa/SOSE/run_matt/gamma_n_surface/gamma_n_surface.0000123360.meta\n"
       ]
      },
      {
       "output_type": "stream",
       "stream": "stderr",
       "text": [
        "/glade/scratch/rpa/SOSE/run_matt/DiagIce-5day.0000123840.meta\n",
        "/glade/scratch/rpa/SOSE/run_matt/gamma_n_surface/gamma_n_surface.0000123840.meta\n"
       ]
      },
      {
       "output_type": "stream",
       "stream": "stderr",
       "text": [
        "/glade/scratch/rpa/SOSE/run_matt/DiagIce-5day.0000124320.meta\n",
        "/glade/scratch/rpa/SOSE/run_matt/gamma_n_surface/gamma_n_surface.0000124320.meta\n"
       ]
      },
      {
       "output_type": "stream",
       "stream": "stderr",
       "text": [
        "/glade/scratch/rpa/SOSE/run_matt/DiagIce-5day.0000124800.meta\n",
        "/glade/scratch/rpa/SOSE/run_matt/gamma_n_surface/gamma_n_surface.0000124800.meta\n"
       ]
      },
      {
       "output_type": "stream",
       "stream": "stderr",
       "text": [
        "/glade/scratch/rpa/SOSE/run_matt/DiagIce-5day.0000125280.meta\n",
        "/glade/scratch/rpa/SOSE/run_matt/gamma_n_surface/gamma_n_surface.0000125280.meta\n"
       ]
      },
      {
       "output_type": "stream",
       "stream": "stderr",
       "text": [
        "/glade/scratch/rpa/SOSE/run_matt/DiagIce-5day.0000125760.meta\n",
        "/glade/scratch/rpa/SOSE/run_matt/gamma_n_surface/gamma_n_surface.0000125760.meta\n"
       ]
      },
      {
       "output_type": "stream",
       "stream": "stderr",
       "text": [
        "/glade/scratch/rpa/SOSE/run_matt/DiagIce-5day.0000126240.meta\n",
        "/glade/scratch/rpa/SOSE/run_matt/gamma_n_surface/gamma_n_surface.0000126240.meta\n"
       ]
      },
      {
       "output_type": "stream",
       "stream": "stderr",
       "text": [
        "/glade/scratch/rpa/SOSE/run_matt/DiagIce-5day.0000126720.meta\n",
        "/glade/scratch/rpa/SOSE/run_matt/gamma_n_surface/gamma_n_surface.0000126720.meta\n"
       ]
      },
      {
       "output_type": "stream",
       "stream": "stderr",
       "text": [
        "/glade/scratch/rpa/SOSE/run_matt/DiagIce-5day.0000127200.meta\n",
        "/glade/scratch/rpa/SOSE/run_matt/gamma_n_surface/gamma_n_surface.0000127200.meta\n"
       ]
      },
      {
       "output_type": "stream",
       "stream": "stderr",
       "text": [
        "/glade/scratch/rpa/SOSE/run_matt/DiagIce-5day.0000127680.meta\n",
        "/glade/scratch/rpa/SOSE/run_matt/gamma_n_surface/gamma_n_surface.0000127680.meta\n"
       ]
      },
      {
       "output_type": "stream",
       "stream": "stderr",
       "text": [
        "/glade/scratch/rpa/SOSE/run_matt/DiagIce-5day.0000128160.meta\n",
        "/glade/scratch/rpa/SOSE/run_matt/gamma_n_surface/gamma_n_surface.0000128160.meta\n"
       ]
      },
      {
       "output_type": "stream",
       "stream": "stderr",
       "text": [
        "/glade/scratch/rpa/SOSE/run_matt/DiagIce-5day.0000128640.meta\n",
        "/glade/scratch/rpa/SOSE/run_matt/gamma_n_surface/gamma_n_surface.0000128640.meta\n"
       ]
      },
      {
       "output_type": "stream",
       "stream": "stderr",
       "text": [
        "/glade/scratch/rpa/SOSE/run_matt/DiagIce-5day.0000129120.meta\n",
        "/glade/scratch/rpa/SOSE/run_matt/gamma_n_surface/gamma_n_surface.0000129120.meta\n"
       ]
      },
      {
       "output_type": "stream",
       "stream": "stderr",
       "text": [
        "/glade/scratch/rpa/SOSE/run_matt/DiagIce-5day.0000129600.meta\n",
        "/glade/scratch/rpa/SOSE/run_matt/gamma_n_surface/gamma_n_surface.0000129600.meta\n"
       ]
      },
      {
       "output_type": "stream",
       "stream": "stderr",
       "text": [
        "/glade/scratch/rpa/SOSE/run_matt/DiagIce-5day.0000130080.meta\n",
        "/glade/scratch/rpa/SOSE/run_matt/gamma_n_surface/gamma_n_surface.0000130080.meta\n"
       ]
      },
      {
       "output_type": "stream",
       "stream": "stderr",
       "text": [
        "/glade/scratch/rpa/SOSE/run_matt/DiagIce-5day.0000130560.meta\n",
        "/glade/scratch/rpa/SOSE/run_matt/gamma_n_surface/gamma_n_surface.0000130560.meta\n"
       ]
      },
      {
       "output_type": "stream",
       "stream": "stderr",
       "text": [
        "/glade/scratch/rpa/SOSE/run_matt/DiagIce-5day.0000131040.meta\n",
        "/glade/scratch/rpa/SOSE/run_matt/gamma_n_surface/gamma_n_surface.0000131040.meta\n"
       ]
      },
      {
       "output_type": "stream",
       "stream": "stderr",
       "text": [
        "/glade/scratch/rpa/SOSE/run_matt/DiagIce-5day.0000131520.meta\n",
        "/glade/scratch/rpa/SOSE/run_matt/gamma_n_surface/gamma_n_surface.0000131520.meta\n"
       ]
      },
      {
       "output_type": "stream",
       "stream": "stderr",
       "text": [
        "/glade/scratch/rpa/SOSE/run_matt/DiagIce-5day.0000132000.meta\n",
        "/glade/scratch/rpa/SOSE/run_matt/gamma_n_surface/gamma_n_surface.0000132000.meta\n"
       ]
      },
      {
       "output_type": "stream",
       "stream": "stderr",
       "text": [
        "/glade/scratch/rpa/SOSE/run_matt/DiagIce-5day.0000132480.meta\n",
        "/glade/scratch/rpa/SOSE/run_matt/gamma_n_surface/gamma_n_surface.0000132480.meta\n"
       ]
      },
      {
       "output_type": "stream",
       "stream": "stderr",
       "text": [
        "/glade/scratch/rpa/SOSE/run_matt/DiagIce-5day.0000132960.meta\n",
        "/glade/scratch/rpa/SOSE/run_matt/gamma_n_surface/gamma_n_surface.0000132960.meta\n"
       ]
      },
      {
       "output_type": "stream",
       "stream": "stderr",
       "text": [
        "/glade/scratch/rpa/SOSE/run_matt/DiagIce-5day.0000133440.meta\n",
        "/glade/scratch/rpa/SOSE/run_matt/gamma_n_surface/gamma_n_surface.0000133440.meta\n"
       ]
      },
      {
       "output_type": "stream",
       "stream": "stderr",
       "text": [
        "/glade/scratch/rpa/SOSE/run_matt/DiagIce-5day.0000133920.meta\n",
        "/glade/scratch/rpa/SOSE/run_matt/gamma_n_surface/gamma_n_surface.0000133920.meta\n"
       ]
      },
      {
       "output_type": "stream",
       "stream": "stderr",
       "text": [
        "/glade/scratch/rpa/SOSE/run_matt/DiagIce-5day.0000134400.meta\n",
        "/glade/scratch/rpa/SOSE/run_matt/gamma_n_surface/gamma_n_surface.0000134400.meta\n"
       ]
      },
      {
       "output_type": "stream",
       "stream": "stderr",
       "text": [
        "/glade/scratch/rpa/SOSE/run_matt/DiagIce-5day.0000134880.meta\n",
        "/glade/scratch/rpa/SOSE/run_matt/gamma_n_surface/gamma_n_surface.0000134880.meta\n"
       ]
      },
      {
       "output_type": "stream",
       "stream": "stderr",
       "text": [
        "/glade/scratch/rpa/SOSE/run_matt/DiagIce-5day.0000135360.meta\n",
        "/glade/scratch/rpa/SOSE/run_matt/gamma_n_surface/gamma_n_surface.0000135360.meta\n"
       ]
      },
      {
       "output_type": "stream",
       "stream": "stderr",
       "text": [
        "/glade/scratch/rpa/SOSE/run_matt/DiagIce-5day.0000135840.meta\n",
        "/glade/scratch/rpa/SOSE/run_matt/gamma_n_surface/gamma_n_surface.0000135840.meta\n"
       ]
      },
      {
       "output_type": "stream",
       "stream": "stderr",
       "text": [
        "/glade/scratch/rpa/SOSE/run_matt/DiagIce-5day.0000136320.meta\n",
        "/glade/scratch/rpa/SOSE/run_matt/gamma_n_surface/gamma_n_surface.0000136320.meta\n"
       ]
      },
      {
       "output_type": "stream",
       "stream": "stderr",
       "text": [
        "/glade/scratch/rpa/SOSE/run_matt/DiagIce-5day.0000136800.meta\n",
        "/glade/scratch/rpa/SOSE/run_matt/gamma_n_surface/gamma_n_surface.0000136800.meta\n"
       ]
      },
      {
       "output_type": "stream",
       "stream": "stderr",
       "text": [
        "/glade/scratch/rpa/SOSE/run_matt/DiagIce-5day.0000137280.meta\n",
        "/glade/scratch/rpa/SOSE/run_matt/gamma_n_surface/gamma_n_surface.0000137280.meta\n"
       ]
      },
      {
       "output_type": "stream",
       "stream": "stderr",
       "text": [
        "/glade/scratch/rpa/SOSE/run_matt/DiagIce-5day.0000137760.meta\n",
        "/glade/scratch/rpa/SOSE/run_matt/gamma_n_surface/gamma_n_surface.0000137760.meta\n"
       ]
      },
      {
       "output_type": "stream",
       "stream": "stderr",
       "text": [
        "/glade/scratch/rpa/SOSE/run_matt/DiagIce-5day.0000138240.meta\n",
        "/glade/scratch/rpa/SOSE/run_matt/gamma_n_surface/gamma_n_surface.0000138240.meta\n"
       ]
      },
      {
       "output_type": "stream",
       "stream": "stderr",
       "text": [
        "/glade/scratch/rpa/SOSE/run_matt/DiagIce-5day.0000138720.meta\n",
        "/glade/scratch/rpa/SOSE/run_matt/gamma_n_surface/gamma_n_surface.0000138720.meta\n"
       ]
      },
      {
       "output_type": "stream",
       "stream": "stderr",
       "text": [
        "/glade/scratch/rpa/SOSE/run_matt/DiagIce-5day.0000139200.meta\n",
        "/glade/scratch/rpa/SOSE/run_matt/gamma_n_surface/gamma_n_surface.0000139200.meta\n"
       ]
      },
      {
       "output_type": "stream",
       "stream": "stderr",
       "text": [
        "/glade/scratch/rpa/SOSE/run_matt/DiagIce-5day.0000139680.meta\n",
        "/glade/scratch/rpa/SOSE/run_matt/gamma_n_surface/gamma_n_surface.0000139680.meta\n"
       ]
      },
      {
       "output_type": "stream",
       "stream": "stderr",
       "text": [
        "/glade/scratch/rpa/SOSE/run_matt/DiagIce-5day.0000140160.meta\n",
        "/glade/scratch/rpa/SOSE/run_matt/gamma_n_surface/gamma_n_surface.0000140160.meta\n"
       ]
      },
      {
       "output_type": "stream",
       "stream": "stderr",
       "text": [
        "/glade/scratch/rpa/SOSE/run_matt/DiagIce-5day.0000140640.meta\n",
        "/glade/scratch/rpa/SOSE/run_matt/gamma_n_surface/gamma_n_surface.0000140640.meta\n"
       ]
      },
      {
       "output_type": "stream",
       "stream": "stderr",
       "text": [
        "/glade/scratch/rpa/SOSE/run_matt/DiagIce-5day.0000141120.meta\n",
        "/glade/scratch/rpa/SOSE/run_matt/gamma_n_surface/gamma_n_surface.0000141120.meta\n"
       ]
      },
      {
       "output_type": "stream",
       "stream": "stderr",
       "text": [
        "/glade/scratch/rpa/SOSE/run_matt/DiagIce-5day.0000141600.meta\n",
        "/glade/scratch/rpa/SOSE/run_matt/gamma_n_surface/gamma_n_surface.0000141600.meta\n"
       ]
      },
      {
       "output_type": "stream",
       "stream": "stderr",
       "text": [
        "/glade/scratch/rpa/SOSE/run_matt/DiagIce-5day.0000142080.meta\n",
        "/glade/scratch/rpa/SOSE/run_matt/gamma_n_surface/gamma_n_surface.0000142080.meta\n"
       ]
      },
      {
       "output_type": "stream",
       "stream": "stderr",
       "text": [
        "/glade/scratch/rpa/SOSE/run_matt/DiagIce-5day.0000142560.meta\n",
        "/glade/scratch/rpa/SOSE/run_matt/gamma_n_surface/gamma_n_surface.0000142560.meta\n"
       ]
      },
      {
       "output_type": "stream",
       "stream": "stderr",
       "text": [
        "/glade/scratch/rpa/SOSE/run_matt/DiagIce-5day.0000143040.meta\n",
        "/glade/scratch/rpa/SOSE/run_matt/gamma_n_surface/gamma_n_surface.0000143040.meta\n"
       ]
      },
      {
       "output_type": "stream",
       "stream": "stderr",
       "text": [
        "/glade/scratch/rpa/SOSE/run_matt/DiagIce-5day.0000143520.meta\n",
        "/glade/scratch/rpa/SOSE/run_matt/gamma_n_surface/gamma_n_surface.0000143520.meta\n"
       ]
      },
      {
       "output_type": "stream",
       "stream": "stderr",
       "text": [
        "/glade/scratch/rpa/SOSE/run_matt/DiagIce-5day.0000144000.meta\n",
        "/glade/scratch/rpa/SOSE/run_matt/gamma_n_surface/gamma_n_surface.0000144000.meta\n"
       ]
      },
      {
       "output_type": "stream",
       "stream": "stderr",
       "text": [
        "/glade/scratch/rpa/SOSE/run_matt/DiagIce-5day.0000144480.meta\n",
        "/glade/scratch/rpa/SOSE/run_matt/gamma_n_surface/gamma_n_surface.0000144480.meta\n"
       ]
      },
      {
       "output_type": "stream",
       "stream": "stderr",
       "text": [
        "/glade/scratch/rpa/SOSE/run_matt/DiagIce-5day.0000144960.meta\n",
        "/glade/scratch/rpa/SOSE/run_matt/gamma_n_surface/gamma_n_surface.0000144960.meta\n"
       ]
      },
      {
       "output_type": "stream",
       "stream": "stderr",
       "text": [
        "/glade/scratch/rpa/SOSE/run_matt/DiagIce-5day.0000145440.meta\n",
        "/glade/scratch/rpa/SOSE/run_matt/gamma_n_surface/gamma_n_surface.0000145440.meta\n"
       ]
      },
      {
       "output_type": "stream",
       "stream": "stderr",
       "text": [
        "/glade/scratch/rpa/SOSE/run_matt/DiagIce-5day.0000145920.meta\n",
        "/glade/scratch/rpa/SOSE/run_matt/gamma_n_surface/gamma_n_surface.0000145920.meta\n"
       ]
      },
      {
       "output_type": "stream",
       "stream": "stderr",
       "text": [
        "/glade/scratch/rpa/SOSE/run_matt/DiagIce-5day.0000146400.meta\n",
        "/glade/scratch/rpa/SOSE/run_matt/gamma_n_surface/gamma_n_surface.0000146400.meta\n"
       ]
      },
      {
       "output_type": "stream",
       "stream": "stderr",
       "text": [
        "/glade/scratch/rpa/SOSE/run_matt/DiagIce-5day.0000146880.meta\n",
        "/glade/scratch/rpa/SOSE/run_matt/gamma_n_surface/gamma_n_surface.0000146880.meta\n"
       ]
      },
      {
       "output_type": "stream",
       "stream": "stderr",
       "text": [
        "/glade/scratch/rpa/SOSE/run_matt/DiagIce-5day.0000147360.meta\n",
        "/glade/scratch/rpa/SOSE/run_matt/gamma_n_surface/gamma_n_surface.0000147360.meta\n"
       ]
      },
      {
       "output_type": "stream",
       "stream": "stderr",
       "text": [
        "/glade/scratch/rpa/SOSE/run_matt/DiagIce-5day.0000147840.meta\n",
        "/glade/scratch/rpa/SOSE/run_matt/gamma_n_surface/gamma_n_surface.0000147840.meta\n"
       ]
      },
      {
       "output_type": "stream",
       "stream": "stderr",
       "text": [
        "/glade/scratch/rpa/SOSE/run_matt/DiagIce-5day.0000148320.meta\n",
        "/glade/scratch/rpa/SOSE/run_matt/gamma_n_surface/gamma_n_surface.0000148320.meta\n"
       ]
      },
      {
       "output_type": "stream",
       "stream": "stderr",
       "text": [
        "/glade/scratch/rpa/SOSE/run_matt/DiagIce-5day.0000148800.meta\n",
        "/glade/scratch/rpa/SOSE/run_matt/gamma_n_surface/gamma_n_surface.0000148800.meta\n"
       ]
      },
      {
       "output_type": "stream",
       "stream": "stderr",
       "text": [
        "/glade/scratch/rpa/SOSE/run_matt/DiagIce-5day.0000149280.meta\n",
        "/glade/scratch/rpa/SOSE/run_matt/gamma_n_surface/gamma_n_surface.0000149280.meta\n"
       ]
      },
      {
       "output_type": "stream",
       "stream": "stderr",
       "text": [
        "/glade/scratch/rpa/SOSE/run_matt/DiagIce-5day.0000149760.meta\n",
        "/glade/scratch/rpa/SOSE/run_matt/gamma_n_surface/gamma_n_surface.0000149760.meta\n"
       ]
      },
      {
       "output_type": "stream",
       "stream": "stderr",
       "text": [
        "/glade/scratch/rpa/SOSE/run_matt/DiagIce-5day.0000150240.meta\n",
        "/glade/scratch/rpa/SOSE/run_matt/gamma_n_surface/gamma_n_surface.0000150240.meta\n"
       ]
      },
      {
       "output_type": "stream",
       "stream": "stderr",
       "text": [
        "/glade/scratch/rpa/SOSE/run_matt/DiagIce-5day.0000150720.meta\n",
        "/glade/scratch/rpa/SOSE/run_matt/gamma_n_surface/gamma_n_surface.0000150720.meta\n"
       ]
      },
      {
       "output_type": "stream",
       "stream": "stderr",
       "text": [
        "/glade/scratch/rpa/SOSE/run_matt/DiagIce-5day.0000151200.meta\n",
        "/glade/scratch/rpa/SOSE/run_matt/gamma_n_surface/gamma_n_surface.0000151200.meta\n"
       ]
      },
      {
       "output_type": "stream",
       "stream": "stderr",
       "text": [
        "/glade/scratch/rpa/SOSE/run_matt/DiagIce-5day.0000151680.meta\n",
        "/glade/scratch/rpa/SOSE/run_matt/gamma_n_surface/gamma_n_surface.0000151680.meta\n"
       ]
      },
      {
       "output_type": "stream",
       "stream": "stderr",
       "text": [
        "/glade/scratch/rpa/SOSE/run_matt/DiagIce-5day.0000152160.meta\n",
        "/glade/scratch/rpa/SOSE/run_matt/gamma_n_surface/gamma_n_surface.0000152160.meta\n"
       ]
      },
      {
       "output_type": "stream",
       "stream": "stderr",
       "text": [
        "/glade/scratch/rpa/SOSE/run_matt/DiagIce-5day.0000152640.meta\n",
        "/glade/scratch/rpa/SOSE/run_matt/gamma_n_surface/gamma_n_surface.0000152640.meta\n"
       ]
      },
      {
       "output_type": "stream",
       "stream": "stderr",
       "text": [
        "/glade/scratch/rpa/SOSE/run_matt/DiagIce-5day.0000153120.meta\n",
        "/glade/scratch/rpa/SOSE/run_matt/gamma_n_surface/gamma_n_surface.0000153120.meta\n"
       ]
      },
      {
       "output_type": "stream",
       "stream": "stderr",
       "text": [
        "/glade/scratch/rpa/SOSE/run_matt/DiagIce-5day.0000153600.meta\n",
        "/glade/scratch/rpa/SOSE/run_matt/gamma_n_surface/gamma_n_surface.0000153600.meta\n"
       ]
      },
      {
       "output_type": "stream",
       "stream": "stderr",
       "text": [
        "/glade/scratch/rpa/SOSE/run_matt/DiagIce-5day.0000154080.meta\n",
        "/glade/scratch/rpa/SOSE/run_matt/gamma_n_surface/gamma_n_surface.0000154080.meta\n"
       ]
      },
      {
       "output_type": "stream",
       "stream": "stderr",
       "text": [
        "/glade/scratch/rpa/SOSE/run_matt/DiagIce-5day.0000154560.meta\n",
        "/glade/scratch/rpa/SOSE/run_matt/gamma_n_surface/gamma_n_surface.0000154560.meta\n"
       ]
      },
      {
       "output_type": "stream",
       "stream": "stderr",
       "text": [
        "/glade/scratch/rpa/SOSE/run_matt/DiagIce-5day.0000155040.meta\n",
        "/glade/scratch/rpa/SOSE/run_matt/gamma_n_surface/gamma_n_surface.0000155040.meta\n"
       ]
      },
      {
       "output_type": "stream",
       "stream": "stderr",
       "text": [
        "/glade/scratch/rpa/SOSE/run_matt/DiagIce-5day.0000155520.meta\n",
        "/glade/scratch/rpa/SOSE/run_matt/gamma_n_surface/gamma_n_surface.0000155520.meta\n"
       ]
      },
      {
       "output_type": "stream",
       "stream": "stderr",
       "text": [
        "/glade/scratch/rpa/SOSE/run_matt/DiagIce-5day.0000156000.meta\n",
        "/glade/scratch/rpa/SOSE/run_matt/gamma_n_surface/gamma_n_surface.0000156000.meta\n"
       ]
      },
      {
       "output_type": "stream",
       "stream": "stderr",
       "text": [
        "/glade/scratch/rpa/SOSE/run_matt/DiagIce-5day.0000156480.meta\n",
        "/glade/scratch/rpa/SOSE/run_matt/gamma_n_surface/gamma_n_surface.0000156480.meta\n"
       ]
      },
      {
       "output_type": "stream",
       "stream": "stderr",
       "text": [
        "/glade/scratch/rpa/SOSE/run_matt/DiagIce-5day.0000156960.meta\n",
        "/glade/scratch/rpa/SOSE/run_matt/gamma_n_surface/gamma_n_surface.0000156960.meta\n"
       ]
      },
      {
       "output_type": "stream",
       "stream": "stderr",
       "text": [
        "/glade/scratch/rpa/SOSE/run_matt/DiagIce-5day.0000157440.meta\n",
        "/glade/scratch/rpa/SOSE/run_matt/gamma_n_surface/gamma_n_surface.0000157440.meta\n"
       ]
      },
      {
       "output_type": "stream",
       "stream": "stderr",
       "text": [
        "/glade/scratch/rpa/SOSE/run_matt/DiagIce-5day.0000157920.meta\n",
        "/glade/scratch/rpa/SOSE/run_matt/gamma_n_surface/gamma_n_surface.0000157920.meta\n"
       ]
      },
      {
       "output_type": "stream",
       "stream": "stderr",
       "text": [
        "/glade/scratch/rpa/SOSE/run_matt/DiagIce-5day.0000158400.meta\n",
        "/glade/scratch/rpa/SOSE/run_matt/gamma_n_surface/gamma_n_surface.0000158400.meta\n"
       ]
      },
      {
       "output_type": "stream",
       "stream": "stderr",
       "text": [
        "/glade/scratch/rpa/SOSE/run_matt/DiagIce-5day.0000158880.meta\n",
        "/glade/scratch/rpa/SOSE/run_matt/gamma_n_surface/gamma_n_surface.0000158880.meta\n"
       ]
      },
      {
       "output_type": "stream",
       "stream": "stderr",
       "text": [
        "/glade/scratch/rpa/SOSE/run_matt/DiagIce-5day.0000159360.meta\n",
        "/glade/scratch/rpa/SOSE/run_matt/gamma_n_surface/gamma_n_surface.0000159360.meta\n"
       ]
      },
      {
       "output_type": "stream",
       "stream": "stderr",
       "text": [
        "/glade/scratch/rpa/SOSE/run_matt/DiagIce-5day.0000159840.meta\n",
        "/glade/scratch/rpa/SOSE/run_matt/gamma_n_surface/gamma_n_surface.0000159840.meta\n"
       ]
      },
      {
       "output_type": "stream",
       "stream": "stderr",
       "text": [
        "/glade/scratch/rpa/SOSE/run_matt/DiagIce-5day.0000160320.meta\n",
        "/glade/scratch/rpa/SOSE/run_matt/gamma_n_surface/gamma_n_surface.0000160320.meta\n"
       ]
      },
      {
       "output_type": "stream",
       "stream": "stderr",
       "text": [
        "/glade/scratch/rpa/SOSE/run_matt/DiagIce-5day.0000160800.meta\n",
        "/glade/scratch/rpa/SOSE/run_matt/gamma_n_surface/gamma_n_surface.0000160800.meta\n"
       ]
      },
      {
       "output_type": "stream",
       "stream": "stderr",
       "text": [
        "/glade/scratch/rpa/SOSE/run_matt/DiagIce-5day.0000161280.meta\n",
        "/glade/scratch/rpa/SOSE/run_matt/gamma_n_surface/gamma_n_surface.0000161280.meta\n"
       ]
      },
      {
       "output_type": "stream",
       "stream": "stderr",
       "text": [
        "/glade/scratch/rpa/SOSE/run_matt/DiagIce-5day.0000161760.meta\n",
        "/glade/scratch/rpa/SOSE/run_matt/gamma_n_surface/gamma_n_surface.0000161760.meta\n"
       ]
      },
      {
       "output_type": "stream",
       "stream": "stderr",
       "text": [
        "/glade/scratch/rpa/SOSE/run_matt/DiagIce-5day.0000162240.meta\n",
        "/glade/scratch/rpa/SOSE/run_matt/gamma_n_surface/gamma_n_surface.0000162240.meta\n"
       ]
      },
      {
       "output_type": "stream",
       "stream": "stderr",
       "text": [
        "/glade/scratch/rpa/SOSE/run_matt/DiagIce-5day.0000162720.meta\n",
        "/glade/scratch/rpa/SOSE/run_matt/gamma_n_surface/gamma_n_surface.0000162720.meta\n"
       ]
      },
      {
       "output_type": "stream",
       "stream": "stderr",
       "text": [
        "/glade/scratch/rpa/SOSE/run_matt/DiagIce-5day.0000163200.meta\n",
        "/glade/scratch/rpa/SOSE/run_matt/gamma_n_surface/gamma_n_surface.0000163200.meta\n"
       ]
      },
      {
       "output_type": "stream",
       "stream": "stderr",
       "text": [
        "/glade/scratch/rpa/SOSE/run_matt/DiagIce-5day.0000163680.meta\n",
        "/glade/scratch/rpa/SOSE/run_matt/gamma_n_surface/gamma_n_surface.0000163680.meta\n"
       ]
      },
      {
       "output_type": "stream",
       "stream": "stderr",
       "text": [
        "/glade/scratch/rpa/SOSE/run_matt/DiagIce-5day.0000164160.meta\n",
        "/glade/scratch/rpa/SOSE/run_matt/gamma_n_surface/gamma_n_surface.0000164160.meta\n"
       ]
      },
      {
       "output_type": "stream",
       "stream": "stderr",
       "text": [
        "/glade/scratch/rpa/SOSE/run_matt/DiagIce-5day.0000164640.meta\n",
        "/glade/scratch/rpa/SOSE/run_matt/gamma_n_surface/gamma_n_surface.0000164640.meta\n"
       ]
      },
      {
       "output_type": "stream",
       "stream": "stderr",
       "text": [
        "/glade/scratch/rpa/SOSE/run_matt/DiagIce-5day.0000165120.meta\n",
        "/glade/scratch/rpa/SOSE/run_matt/gamma_n_surface/gamma_n_surface.0000165120.meta\n"
       ]
      },
      {
       "output_type": "stream",
       "stream": "stderr",
       "text": [
        "/glade/scratch/rpa/SOSE/run_matt/DiagIce-5day.0000165600.meta\n",
        "/glade/scratch/rpa/SOSE/run_matt/gamma_n_surface/gamma_n_surface.0000165600.meta\n"
       ]
      },
      {
       "output_type": "stream",
       "stream": "stderr",
       "text": [
        "/glade/scratch/rpa/SOSE/run_matt/DiagIce-5day.0000166080.meta\n",
        "/glade/scratch/rpa/SOSE/run_matt/gamma_n_surface/gamma_n_surface.0000166080.meta\n"
       ]
      },
      {
       "output_type": "stream",
       "stream": "stderr",
       "text": [
        "/glade/scratch/rpa/SOSE/run_matt/DiagIce-5day.0000166560.meta\n",
        "/glade/scratch/rpa/SOSE/run_matt/gamma_n_surface/gamma_n_surface.0000166560.meta\n"
       ]
      },
      {
       "output_type": "stream",
       "stream": "stderr",
       "text": [
        "/glade/scratch/rpa/SOSE/run_matt/DiagIce-5day.0000167040.meta\n",
        "/glade/scratch/rpa/SOSE/run_matt/gamma_n_surface/gamma_n_surface.0000167040.meta\n"
       ]
      },
      {
       "output_type": "stream",
       "stream": "stderr",
       "text": [
        "/glade/scratch/rpa/SOSE/run_matt/DiagIce-5day.0000167520.meta\n",
        "/glade/scratch/rpa/SOSE/run_matt/gamma_n_surface/gamma_n_surface.0000167520.meta\n"
       ]
      },
      {
       "output_type": "stream",
       "stream": "stderr",
       "text": [
        "/glade/scratch/rpa/SOSE/run_matt/DiagIce-5day.0000168000.meta\n",
        "/glade/scratch/rpa/SOSE/run_matt/gamma_n_surface/gamma_n_surface.0000168000.meta\n"
       ]
      },
      {
       "output_type": "stream",
       "stream": "stderr",
       "text": [
        "/glade/scratch/rpa/SOSE/run_matt/DiagIce-5day.0000168480.meta\n",
        "/glade/scratch/rpa/SOSE/run_matt/gamma_n_surface/gamma_n_surface.0000168480.meta\n"
       ]
      },
      {
       "output_type": "stream",
       "stream": "stderr",
       "text": [
        "/glade/scratch/rpa/SOSE/run_matt/DiagIce-5day.0000168960.meta\n",
        "/glade/scratch/rpa/SOSE/run_matt/gamma_n_surface/gamma_n_surface.0000168960.meta\n"
       ]
      },
      {
       "output_type": "stream",
       "stream": "stderr",
       "text": [
        "/glade/scratch/rpa/SOSE/run_matt/DiagIce-5day.0000169440.meta\n",
        "/glade/scratch/rpa/SOSE/run_matt/gamma_n_surface/gamma_n_surface.0000169440.meta\n"
       ]
      },
      {
       "output_type": "stream",
       "stream": "stderr",
       "text": [
        "/glade/scratch/rpa/SOSE/run_matt/DiagIce-5day.0000169920.meta\n",
        "/glade/scratch/rpa/SOSE/run_matt/gamma_n_surface/gamma_n_surface.0000169920.meta\n"
       ]
      },
      {
       "output_type": "stream",
       "stream": "stderr",
       "text": [
        "/glade/scratch/rpa/SOSE/run_matt/DiagIce-5day.0000170400.meta\n",
        "/glade/scratch/rpa/SOSE/run_matt/gamma_n_surface/gamma_n_surface.0000170400.meta\n"
       ]
      },
      {
       "output_type": "stream",
       "stream": "stderr",
       "text": [
        "/glade/scratch/rpa/SOSE/run_matt/DiagIce-5day.0000170880.meta\n",
        "/glade/scratch/rpa/SOSE/run_matt/gamma_n_surface/gamma_n_surface.0000170880.meta\n"
       ]
      },
      {
       "output_type": "stream",
       "stream": "stderr",
       "text": [
        "/glade/scratch/rpa/SOSE/run_matt/DiagIce-5day.0000171360.meta\n",
        "/glade/scratch/rpa/SOSE/run_matt/gamma_n_surface/gamma_n_surface.0000171360.meta\n"
       ]
      },
      {
       "output_type": "stream",
       "stream": "stderr",
       "text": [
        "/glade/scratch/rpa/SOSE/run_matt/DiagIce-5day.0000171840.meta\n",
        "/glade/scratch/rpa/SOSE/run_matt/gamma_n_surface/gamma_n_surface.0000171840.meta\n"
       ]
      },
      {
       "output_type": "stream",
       "stream": "stderr",
       "text": [
        "/glade/scratch/rpa/SOSE/run_matt/DiagIce-5day.0000172320.meta\n",
        "/glade/scratch/rpa/SOSE/run_matt/gamma_n_surface/gamma_n_surface.0000172320.meta\n"
       ]
      },
      {
       "output_type": "stream",
       "stream": "stderr",
       "text": [
        "/glade/scratch/rpa/SOSE/run_matt/DiagIce-5day.0000172800.meta\n",
        "/glade/scratch/rpa/SOSE/run_matt/gamma_n_surface/gamma_n_surface.0000172800.meta\n"
       ]
      },
      {
       "output_type": "stream",
       "stream": "stderr",
       "text": [
        "/glade/scratch/rpa/SOSE/run_matt/DiagIce-5day.0000173280.meta\n",
        "/glade/scratch/rpa/SOSE/run_matt/gamma_n_surface/gamma_n_surface.0000173280.meta\n"
       ]
      },
      {
       "output_type": "stream",
       "stream": "stderr",
       "text": [
        "/glade/scratch/rpa/SOSE/run_matt/DiagIce-5day.0000173760.meta\n",
        "/glade/scratch/rpa/SOSE/run_matt/gamma_n_surface/gamma_n_surface.0000173760.meta\n"
       ]
      },
      {
       "output_type": "stream",
       "stream": "stderr",
       "text": [
        "/glade/scratch/rpa/SOSE/run_matt/DiagIce-5day.0000174240.meta\n",
        "/glade/scratch/rpa/SOSE/run_matt/gamma_n_surface/gamma_n_surface.0000174240.meta\n"
       ]
      },
      {
       "output_type": "stream",
       "stream": "stderr",
       "text": [
        "/glade/scratch/rpa/SOSE/run_matt/DiagIce-5day.0000174720.meta\n",
        "/glade/scratch/rpa/SOSE/run_matt/gamma_n_surface/gamma_n_surface.0000174720.meta\n"
       ]
      },
      {
       "output_type": "stream",
       "stream": "stderr",
       "text": [
        "/glade/scratch/rpa/SOSE/run_matt/DiagIce-5day.0000175200.meta\n",
        "/glade/scratch/rpa/SOSE/run_matt/gamma_n_surface/gamma_n_surface.0000175200.meta\n"
       ]
      },
      {
       "output_type": "stream",
       "stream": "stderr",
       "text": [
        "/glade/scratch/rpa/SOSE/run_matt/DiagIce-5day.0000175680.meta\n",
        "/glade/scratch/rpa/SOSE/run_matt/gamma_n_surface/gamma_n_surface.0000175680.meta\n"
       ]
      },
      {
       "output_type": "stream",
       "stream": "stderr",
       "text": [
        "/glade/scratch/rpa/SOSE/run_matt/DiagIce-5day.0000176160.meta\n",
        "/glade/scratch/rpa/SOSE/run_matt/gamma_n_surface/gamma_n_surface.0000176160.meta\n"
       ]
      },
      {
       "output_type": "stream",
       "stream": "stderr",
       "text": [
        "/glade/scratch/rpa/SOSE/run_matt/DiagIce-5day.0000176640.meta\n",
        "/glade/scratch/rpa/SOSE/run_matt/gamma_n_surface/gamma_n_surface.0000176640.meta\n"
       ]
      },
      {
       "output_type": "stream",
       "stream": "stderr",
       "text": [
        "/glade/scratch/rpa/SOSE/run_matt/DiagIce-5day.0000177120.meta\n",
        "/glade/scratch/rpa/SOSE/run_matt/gamma_n_surface/gamma_n_surface.0000177120.meta\n"
       ]
      },
      {
       "output_type": "stream",
       "stream": "stderr",
       "text": [
        "/glade/scratch/rpa/SOSE/run_matt/DiagIce-5day.0000177600.meta\n",
        "/glade/scratch/rpa/SOSE/run_matt/gamma_n_surface/gamma_n_surface.0000177600.meta\n"
       ]
      },
      {
       "output_type": "stream",
       "stream": "stderr",
       "text": [
        "/glade/scratch/rpa/SOSE/run_matt/DiagIce-5day.0000178080.meta\n",
        "/glade/scratch/rpa/SOSE/run_matt/gamma_n_surface/gamma_n_surface.0000178080.meta\n"
       ]
      },
      {
       "output_type": "stream",
       "stream": "stderr",
       "text": [
        "/glade/scratch/rpa/SOSE/run_matt/DiagIce-5day.0000178560.meta\n",
        "/glade/scratch/rpa/SOSE/run_matt/gamma_n_surface/gamma_n_surface.0000178560.meta\n"
       ]
      },
      {
       "output_type": "stream",
       "stream": "stderr",
       "text": [
        "/glade/scratch/rpa/SOSE/run_matt/DiagIce-5day.0000179040.meta\n",
        "/glade/scratch/rpa/SOSE/run_matt/gamma_n_surface/gamma_n_surface.0000179040.meta\n"
       ]
      },
      {
       "output_type": "stream",
       "stream": "stderr",
       "text": [
        "/glade/scratch/rpa/SOSE/run_matt/DiagIce-5day.0000179520.meta\n",
        "/glade/scratch/rpa/SOSE/run_matt/gamma_n_surface/gamma_n_surface.0000179520.meta\n"
       ]
      },
      {
       "output_type": "stream",
       "stream": "stderr",
       "text": [
        "/glade/scratch/rpa/SOSE/run_matt/DiagIce-5day.0000180000.meta\n",
        "/glade/scratch/rpa/SOSE/run_matt/gamma_n_surface/gamma_n_surface.0000180000.meta\n"
       ]
      },
      {
       "output_type": "stream",
       "stream": "stderr",
       "text": [
        "/glade/scratch/rpa/SOSE/run_matt/DiagIce-5day.0000180480.meta\n",
        "/glade/scratch/rpa/SOSE/run_matt/gamma_n_surface/gamma_n_surface.0000180480.meta\n"
       ]
      },
      {
       "output_type": "stream",
       "stream": "stderr",
       "text": [
        "/glade/scratch/rpa/SOSE/run_matt/DiagIce-5day.0000180960.meta\n",
        "/glade/scratch/rpa/SOSE/run_matt/gamma_n_surface/gamma_n_surface.0000180960.meta\n"
       ]
      },
      {
       "output_type": "stream",
       "stream": "stderr",
       "text": [
        "/glade/scratch/rpa/SOSE/run_matt/DiagIce-5day.0000181440.meta\n",
        "/glade/scratch/rpa/SOSE/run_matt/gamma_n_surface/gamma_n_surface.0000181440.meta\n"
       ]
      },
      {
       "output_type": "stream",
       "stream": "stderr",
       "text": [
        "/glade/scratch/rpa/SOSE/run_matt/DiagIce-5day.0000181920.meta\n",
        "/glade/scratch/rpa/SOSE/run_matt/gamma_n_surface/gamma_n_surface.0000181920.meta\n"
       ]
      },
      {
       "output_type": "stream",
       "stream": "stderr",
       "text": [
        "/glade/scratch/rpa/SOSE/run_matt/DiagIce-5day.0000182400.meta\n",
        "/glade/scratch/rpa/SOSE/run_matt/gamma_n_surface/gamma_n_surface.0000182400.meta\n"
       ]
      },
      {
       "output_type": "stream",
       "stream": "stderr",
       "text": [
        "/glade/scratch/rpa/SOSE/run_matt/DiagIce-5day.0000182880.meta\n",
        "/glade/scratch/rpa/SOSE/run_matt/gamma_n_surface/gamma_n_surface.0000182880.meta\n"
       ]
      },
      {
       "output_type": "stream",
       "stream": "stderr",
       "text": [
        "/glade/scratch/rpa/SOSE/run_matt/DiagIce-5day.0000183360.meta\n",
        "/glade/scratch/rpa/SOSE/run_matt/gamma_n_surface/gamma_n_surface.0000183360.meta\n"
       ]
      },
      {
       "output_type": "stream",
       "stream": "stderr",
       "text": [
        "/glade/scratch/rpa/SOSE/run_matt/DiagIce-5day.0000183840.meta\n",
        "/glade/scratch/rpa/SOSE/run_matt/gamma_n_surface/gamma_n_surface.0000183840.meta\n"
       ]
      },
      {
       "output_type": "stream",
       "stream": "stderr",
       "text": [
        "/glade/scratch/rpa/SOSE/run_matt/DiagIce-5day.0000184320.meta\n",
        "/glade/scratch/rpa/SOSE/run_matt/gamma_n_surface/gamma_n_surface.0000184320.meta\n"
       ]
      },
      {
       "output_type": "stream",
       "stream": "stderr",
       "text": [
        "/glade/scratch/rpa/SOSE/run_matt/DiagIce-5day.0000184800.meta\n",
        "/glade/scratch/rpa/SOSE/run_matt/gamma_n_surface/gamma_n_surface.0000184800.meta\n"
       ]
      },
      {
       "output_type": "stream",
       "stream": "stderr",
       "text": [
        "/glade/scratch/rpa/SOSE/run_matt/DiagIce-5day.0000185280.meta\n",
        "/glade/scratch/rpa/SOSE/run_matt/gamma_n_surface/gamma_n_surface.0000185280.meta\n"
       ]
      },
      {
       "output_type": "stream",
       "stream": "stderr",
       "text": [
        "/glade/scratch/rpa/SOSE/run_matt/DiagIce-5day.0000185760.meta\n",
        "/glade/scratch/rpa/SOSE/run_matt/gamma_n_surface/gamma_n_surface.0000185760.meta\n"
       ]
      },
      {
       "output_type": "stream",
       "stream": "stderr",
       "text": [
        "/glade/scratch/rpa/SOSE/run_matt/DiagIce-5day.0000186240.meta\n",
        "/glade/scratch/rpa/SOSE/run_matt/gamma_n_surface/gamma_n_surface.0000186240.meta\n"
       ]
      },
      {
       "output_type": "stream",
       "stream": "stderr",
       "text": [
        "/glade/scratch/rpa/SOSE/run_matt/DiagIce-5day.0000186720.meta\n",
        "/glade/scratch/rpa/SOSE/run_matt/gamma_n_surface/gamma_n_surface.0000186720.meta\n"
       ]
      },
      {
       "output_type": "stream",
       "stream": "stderr",
       "text": [
        "/glade/scratch/rpa/SOSE/run_matt/DiagIce-5day.0000187200.meta\n",
        "/glade/scratch/rpa/SOSE/run_matt/gamma_n_surface/gamma_n_surface.0000187200.meta\n"
       ]
      },
      {
       "output_type": "stream",
       "stream": "stderr",
       "text": [
        "/glade/scratch/rpa/SOSE/run_matt/DiagIce-5day.0000187680.meta\n",
        "/glade/scratch/rpa/SOSE/run_matt/gamma_n_surface/gamma_n_surface.0000187680.meta\n"
       ]
      },
      {
       "output_type": "stream",
       "stream": "stderr",
       "text": [
        "/glade/scratch/rpa/SOSE/run_matt/DiagIce-5day.0000188160.meta\n",
        "/glade/scratch/rpa/SOSE/run_matt/gamma_n_surface/gamma_n_surface.0000188160.meta\n"
       ]
      },
      {
       "output_type": "stream",
       "stream": "stderr",
       "text": [
        "/glade/scratch/rpa/SOSE/run_matt/DiagIce-5day.0000188640.meta\n",
        "/glade/scratch/rpa/SOSE/run_matt/gamma_n_surface/gamma_n_surface.0000188640.meta\n"
       ]
      },
      {
       "output_type": "stream",
       "stream": "stderr",
       "text": [
        "/glade/scratch/rpa/SOSE/run_matt/DiagIce-5day.0000189120.meta\n",
        "/glade/scratch/rpa/SOSE/run_matt/gamma_n_surface/gamma_n_surface.0000189120.meta\n"
       ]
      },
      {
       "output_type": "stream",
       "stream": "stderr",
       "text": [
        "/glade/scratch/rpa/SOSE/run_matt/DiagIce-5day.0000189600.meta\n",
        "/glade/scratch/rpa/SOSE/run_matt/gamma_n_surface/gamma_n_surface.0000189600.meta\n"
       ]
      },
      {
       "output_type": "stream",
       "stream": "stderr",
       "text": [
        "/glade/scratch/rpa/SOSE/run_matt/DiagIce-5day.0000190080.meta\n",
        "/glade/scratch/rpa/SOSE/run_matt/gamma_n_surface/gamma_n_surface.0000190080.meta\n"
       ]
      },
      {
       "output_type": "stream",
       "stream": "stderr",
       "text": [
        "/glade/scratch/rpa/SOSE/run_matt/DiagIce-5day.0000190560.meta\n",
        "/glade/scratch/rpa/SOSE/run_matt/gamma_n_surface/gamma_n_surface.0000190560.meta\n"
       ]
      },
      {
       "output_type": "stream",
       "stream": "stderr",
       "text": [
        "/glade/scratch/rpa/SOSE/run_matt/DiagIce-5day.0000191040.meta\n",
        "/glade/scratch/rpa/SOSE/run_matt/gamma_n_surface/gamma_n_surface.0000191040.meta\n"
       ]
      },
      {
       "output_type": "stream",
       "stream": "stderr",
       "text": [
        "/glade/scratch/rpa/SOSE/run_matt/DiagIce-5day.0000191520.meta\n",
        "/glade/scratch/rpa/SOSE/run_matt/gamma_n_surface/gamma_n_surface.0000191520.meta\n"
       ]
      },
      {
       "output_type": "stream",
       "stream": "stderr",
       "text": [
        "/glade/scratch/rpa/SOSE/run_matt/DiagIce-5day.0000192000.meta\n",
        "/glade/scratch/rpa/SOSE/run_matt/gamma_n_surface/gamma_n_surface.0000192000.meta\n"
       ]
      },
      {
       "output_type": "stream",
       "stream": "stderr",
       "text": [
        "/glade/scratch/rpa/SOSE/run_matt/DiagIce-5day.0000192480.meta\n",
        "/glade/scratch/rpa/SOSE/run_matt/gamma_n_surface/gamma_n_surface.0000192480.meta\n"
       ]
      },
      {
       "output_type": "stream",
       "stream": "stderr",
       "text": [
        "/glade/scratch/rpa/SOSE/run_matt/DiagIce-5day.0000192960.meta\n",
        "/glade/scratch/rpa/SOSE/run_matt/gamma_n_surface/gamma_n_surface.0000192960.meta\n"
       ]
      },
      {
       "output_type": "stream",
       "stream": "stderr",
       "text": [
        "/glade/scratch/rpa/SOSE/run_matt/DiagIce-5day.0000193440.meta\n",
        "/glade/scratch/rpa/SOSE/run_matt/gamma_n_surface/gamma_n_surface.0000193440.meta\n"
       ]
      },
      {
       "output_type": "stream",
       "stream": "stderr",
       "text": [
        "/glade/scratch/rpa/SOSE/run_matt/DiagIce-5day.0000193920.meta\n",
        "/glade/scratch/rpa/SOSE/run_matt/gamma_n_surface/gamma_n_surface.0000193920.meta\n"
       ]
      },
      {
       "output_type": "stream",
       "stream": "stderr",
       "text": [
        "/glade/scratch/rpa/SOSE/run_matt/DiagIce-5day.0000194400.meta\n",
        "/glade/scratch/rpa/SOSE/run_matt/gamma_n_surface/gamma_n_surface.0000194400.meta\n"
       ]
      },
      {
       "output_type": "stream",
       "stream": "stderr",
       "text": [
        "/glade/scratch/rpa/SOSE/run_matt/DiagIce-5day.0000194880.meta\n",
        "/glade/scratch/rpa/SOSE/run_matt/gamma_n_surface/gamma_n_surface.0000194880.meta\n"
       ]
      },
      {
       "output_type": "stream",
       "stream": "stderr",
       "text": [
        "/glade/scratch/rpa/SOSE/run_matt/DiagIce-5day.0000195360.meta\n",
        "/glade/scratch/rpa/SOSE/run_matt/gamma_n_surface/gamma_n_surface.0000195360.meta\n"
       ]
      },
      {
       "output_type": "stream",
       "stream": "stderr",
       "text": [
        "/glade/scratch/rpa/SOSE/run_matt/DiagIce-5day.0000195840.meta\n",
        "/glade/scratch/rpa/SOSE/run_matt/gamma_n_surface/gamma_n_surface.0000195840.meta\n"
       ]
      },
      {
       "output_type": "stream",
       "stream": "stderr",
       "text": [
        "/glade/scratch/rpa/SOSE/run_matt/DiagIce-5day.0000196320.meta\n",
        "/glade/scratch/rpa/SOSE/run_matt/gamma_n_surface/gamma_n_surface.0000196320.meta\n"
       ]
      },
      {
       "output_type": "stream",
       "stream": "stderr",
       "text": [
        "/glade/scratch/rpa/SOSE/run_matt/DiagIce-5day.0000196800.meta\n",
        "/glade/scratch/rpa/SOSE/run_matt/gamma_n_surface/gamma_n_surface.0000196800.meta\n"
       ]
      },
      {
       "output_type": "stream",
       "stream": "stderr",
       "text": [
        "/glade/scratch/rpa/SOSE/run_matt/DiagIce-5day.0000197280.meta\n",
        "/glade/scratch/rpa/SOSE/run_matt/gamma_n_surface/gamma_n_surface.0000197280.meta\n"
       ]
      },
      {
       "output_type": "stream",
       "stream": "stderr",
       "text": [
        "/glade/scratch/rpa/SOSE/run_matt/DiagIce-5day.0000197760.meta\n",
        "/glade/scratch/rpa/SOSE/run_matt/gamma_n_surface/gamma_n_surface.0000197760.meta\n"
       ]
      },
      {
       "output_type": "stream",
       "stream": "stderr",
       "text": [
        "/glade/scratch/rpa/SOSE/run_matt/DiagIce-5day.0000198240.meta\n",
        "/glade/scratch/rpa/SOSE/run_matt/gamma_n_surface/gamma_n_surface.0000198240.meta\n"
       ]
      },
      {
       "output_type": "stream",
       "stream": "stderr",
       "text": [
        "/glade/scratch/rpa/SOSE/run_matt/DiagIce-5day.0000198720.meta\n",
        "/glade/scratch/rpa/SOSE/run_matt/gamma_n_surface/gamma_n_surface.0000198720.meta\n"
       ]
      },
      {
       "output_type": "stream",
       "stream": "stderr",
       "text": [
        "/glade/scratch/rpa/SOSE/run_matt/DiagIce-5day.0000199200.meta\n",
        "/glade/scratch/rpa/SOSE/run_matt/gamma_n_surface/gamma_n_surface.0000199200.meta\n"
       ]
      },
      {
       "output_type": "stream",
       "stream": "stderr",
       "text": [
        "/glade/scratch/rpa/SOSE/run_matt/DiagIce-5day.0000199680.meta\n",
        "/glade/scratch/rpa/SOSE/run_matt/gamma_n_surface/gamma_n_surface.0000199680.meta\n"
       ]
      },
      {
       "output_type": "stream",
       "stream": "stderr",
       "text": [
        "/glade/scratch/rpa/SOSE/run_matt/DiagIce-5day.0000200160.meta\n",
        "/glade/scratch/rpa/SOSE/run_matt/gamma_n_surface/gamma_n_surface.0000200160.meta\n"
       ]
      },
      {
       "output_type": "stream",
       "stream": "stderr",
       "text": [
        "/glade/scratch/rpa/SOSE/run_matt/DiagIce-5day.0000200640.meta\n",
        "/glade/scratch/rpa/SOSE/run_matt/gamma_n_surface/gamma_n_surface.0000200640.meta\n"
       ]
      },
      {
       "output_type": "stream",
       "stream": "stderr",
       "text": [
        "/glade/scratch/rpa/SOSE/run_matt/DiagIce-5day.0000201120.meta\n",
        "/glade/scratch/rpa/SOSE/run_matt/gamma_n_surface/gamma_n_surface.0000201120.meta\n"
       ]
      },
      {
       "output_type": "stream",
       "stream": "stderr",
       "text": [
        "/glade/scratch/rpa/SOSE/run_matt/DiagIce-5day.0000201600.meta\n",
        "/glade/scratch/rpa/SOSE/run_matt/gamma_n_surface/gamma_n_surface.0000201600.meta\n"
       ]
      },
      {
       "output_type": "stream",
       "stream": "stderr",
       "text": [
        "/glade/scratch/rpa/SOSE/run_matt/DiagIce-5day.0000202080.meta\n",
        "/glade/scratch/rpa/SOSE/run_matt/gamma_n_surface/gamma_n_surface.0000202080.meta\n"
       ]
      },
      {
       "output_type": "stream",
       "stream": "stderr",
       "text": [
        "/glade/scratch/rpa/SOSE/run_matt/DiagIce-5day.0000202560.meta\n",
        "/glade/scratch/rpa/SOSE/run_matt/gamma_n_surface/gamma_n_surface.0000202560.meta\n"
       ]
      },
      {
       "output_type": "stream",
       "stream": "stderr",
       "text": [
        "/glade/scratch/rpa/SOSE/run_matt/DiagIce-5day.0000203040.meta\n",
        "/glade/scratch/rpa/SOSE/run_matt/gamma_n_surface/gamma_n_surface.0000203040.meta\n"
       ]
      },
      {
       "output_type": "stream",
       "stream": "stderr",
       "text": [
        "/glade/scratch/rpa/SOSE/run_matt/DiagIce-5day.0000203520.meta\n",
        "/glade/scratch/rpa/SOSE/run_matt/gamma_n_surface/gamma_n_surface.0000203520.meta\n"
       ]
      },
      {
       "output_type": "stream",
       "stream": "stderr",
       "text": [
        "/glade/scratch/rpa/SOSE/run_matt/DiagIce-5day.0000204000.meta\n",
        "/glade/scratch/rpa/SOSE/run_matt/gamma_n_surface/gamma_n_surface.0000204000.meta\n"
       ]
      },
      {
       "output_type": "stream",
       "stream": "stderr",
       "text": [
        "/glade/scratch/rpa/SOSE/run_matt/DiagIce-5day.0000204480.meta\n",
        "/glade/scratch/rpa/SOSE/run_matt/gamma_n_surface/gamma_n_surface.0000204480.meta\n"
       ]
      },
      {
       "output_type": "stream",
       "stream": "stderr",
       "text": [
        "/glade/scratch/rpa/SOSE/run_matt/DiagIce-5day.0000204960.meta\n",
        "/glade/scratch/rpa/SOSE/run_matt/gamma_n_surface/gamma_n_surface.0000204960.meta\n"
       ]
      },
      {
       "output_type": "stream",
       "stream": "stderr",
       "text": [
        "/glade/scratch/rpa/SOSE/run_matt/DiagIce-5day.0000205440.meta\n",
        "/glade/scratch/rpa/SOSE/run_matt/gamma_n_surface/gamma_n_surface.0000205440.meta\n"
       ]
      },
      {
       "output_type": "stream",
       "stream": "stderr",
       "text": [
        "/glade/scratch/rpa/SOSE/run_matt/DiagIce-5day.0000205920.meta\n",
        "/glade/scratch/rpa/SOSE/run_matt/gamma_n_surface/gamma_n_surface.0000205920.meta\n"
       ]
      },
      {
       "output_type": "stream",
       "stream": "stderr",
       "text": [
        "/glade/scratch/rpa/SOSE/run_matt/DiagIce-5day.0000206400.meta\n",
        "/glade/scratch/rpa/SOSE/run_matt/gamma_n_surface/gamma_n_surface.0000206400.meta\n"
       ]
      },
      {
       "output_type": "stream",
       "stream": "stderr",
       "text": [
        "/glade/scratch/rpa/SOSE/run_matt/DiagIce-5day.0000206880.meta\n",
        "/glade/scratch/rpa/SOSE/run_matt/gamma_n_surface/gamma_n_surface.0000206880.meta\n"
       ]
      },
      {
       "output_type": "stream",
       "stream": "stderr",
       "text": [
        "/glade/scratch/rpa/SOSE/run_matt/DiagIce-5day.0000207360.meta\n",
        "/glade/scratch/rpa/SOSE/run_matt/gamma_n_surface/gamma_n_surface.0000207360.meta\n"
       ]
      },
      {
       "output_type": "stream",
       "stream": "stderr",
       "text": [
        "/glade/scratch/rpa/SOSE/run_matt/DiagIce-5day.0000207840.meta\n",
        "/glade/scratch/rpa/SOSE/run_matt/gamma_n_surface/gamma_n_surface.0000207840.meta\n"
       ]
      },
      {
       "output_type": "stream",
       "stream": "stderr",
       "text": [
        "/glade/scratch/rpa/SOSE/run_matt/DiagIce-5day.0000208320.meta\n",
        "/glade/scratch/rpa/SOSE/run_matt/gamma_n_surface/gamma_n_surface.0000208320.meta\n"
       ]
      },
      {
       "output_type": "stream",
       "stream": "stderr",
       "text": [
        "/glade/scratch/rpa/SOSE/run_matt/DiagIce-5day.0000208800.meta\n",
        "/glade/scratch/rpa/SOSE/run_matt/gamma_n_surface/gamma_n_surface.0000208800.meta\n"
       ]
      },
      {
       "output_type": "stream",
       "stream": "stderr",
       "text": [
        "/glade/scratch/rpa/SOSE/run_matt/DiagIce-5day.0000209280.meta\n",
        "/glade/scratch/rpa/SOSE/run_matt/gamma_n_surface/gamma_n_surface.0000209280.meta\n"
       ]
      },
      {
       "output_type": "stream",
       "stream": "stderr",
       "text": [
        "/glade/scratch/rpa/SOSE/run_matt/DiagIce-5day.0000209760.meta\n",
        "/glade/scratch/rpa/SOSE/run_matt/gamma_n_surface/gamma_n_surface.0000209760.meta\n"
       ]
      },
      {
       "output_type": "stream",
       "stream": "stderr",
       "text": [
        "/glade/scratch/rpa/SOSE/run_matt/DiagIce-5day.0000210240.meta\n",
        "/glade/scratch/rpa/SOSE/run_matt/gamma_n_surface/gamma_n_surface.0000210240.meta\n"
       ]
      }
     ],
     "prompt_number": 24
    },
    {
     "cell_type": "markdown",
     "metadata": {},
     "source": [
      "# Transformation Rates #"
     ]
    },
    {
     "cell_type": "code",
     "collapsed": false,
     "input": [
      "trans_ice = transformation_monthy[:,1] - transformation_monthy[:,2]\n",
      "trans_mean = transformation_monthy.mean(axis=0)\n",
      "\n",
      "\n",
      "plt.rcParams['font.size'] = 8\n",
      "\n",
      "plt.figure(figsize=(6.5,3.5))\n",
      "\n",
      "plt.plot(rholevs[1:], trans_mean[:2].T/1e6, linewidth=2)\n",
      "plt.plot(rholevs[1:], trans_mean[:2].sum(axis=0)/1e6, 'k', linewidth=3)\n",
      "plt.plot(rholevs[1:], trans_mean[2]/1e6, '--', linewidth=2)\n",
      "plt.plot(rholevs[1:], trans_ice.mean(axis=0)/1e6, '--', linewidth=2)\n",
      "plt.legend(['heat', 'fw (total)', 'net', 'fw (from atm)', 'fw (ice)'], loc='lower right')\n",
      "plt.grid()\n",
      "plt.title('Surface Water Mass Transformation')\n",
      "plt.xlabel(r'$\\gamma_n$')\n",
      "plt.ylabel(r'10$^6$ m$^3$ s$^{-1}$')\n",
      "plt.xticks(np.arange(26,28.8,0.2));\n",
      "plt.xlim([26.4,28.5])\n",
      "plt.tight_layout()\n",
      "\n",
      "plt.savefig('../figures_ice_moc/transformation_gamma_b1_5day.pdf')"
     ],
     "language": "python",
     "metadata": {},
     "outputs": [
      {
       "metadata": {},
       "output_type": "display_data",
       "png": "[encoded data removed]",
       "text": [
        "<matplotlib.figure.Figure at 0x2bab083e2510>"
       ]
      }
     ],
     "prompt_number": 29
    },
    {
     "cell_type": "markdown",
     "metadata": {},
     "source": [
      "The two dashed lines sum to give the blue line."
     ]
    },
    {
     "cell_type": "markdown",
     "metadata": {},
     "source": [
      "# Temporal Variability #"
     ]
    },
    {
     "cell_type": "code",
     "collapsed": false,
     "input": [
      "rl = rholevs[1:]\n",
      "time = np.arange(Nt)*5/365.\n",
      "\n",
      "for n, tit in enumerate(['heat', 'fw (net)', 'fw (atm only)']):\n",
      "    plt.figure()\n",
      "    plt.pcolormesh(time, rl, transformation_monthy[:,n].T / 1e6, cmap='RdBu_r')\n",
      "    plt.clim([-80,80])\n",
      "    plt.ylim([26,28.5])\n",
      "    plt.ylabel(r'$\\sigma_\\theta$')\n",
      "    plt.xlabel('time (years)')\n",
      "    plt.title(tit + ' - transformation (Sv)')\n",
      "    plt.colorbar()"
     ],
     "language": "python",
     "metadata": {},
     "outputs": [
      {
       "metadata": {},
       "output_type": "display_data",
       "png": "[encoded data removed]",
       "text": [
        "<matplotlib.figure.Figure at 0x2baaaa8630d0>"
       ]
      },
      {
       "metadata": {},
       "output_type": "display_data",
       "png": "[encoded data removed]",
       "text": [
        "<matplotlib.figure.Figure at 0x2bab081ea150>"
       ]
      },
      {
       "metadata": {},
       "output_type": "display_data",
       "png": "[encoded data removed]",
       "text": [
        "<matplotlib.figure.Figure at 0x2bab0819a4d0>"
       ]
      }
     ],
     "prompt_number": 28
    },
    {
     "cell_type": "markdown",
     "metadata": {},
     "source": [
      "## from external_forcing_surf.F ##\n",
      "\n",
      "SOSE uses the following options:\n",
      "\n",
      "* convertFW2Salt = -1.,\n",
      "* useRealFreshWaterFlux=.FALSE.\n",
      "\n",
      "\n",
      "\n",
      "           surfaceForcingS(i,j,bi,bj) = surfaceForcingS(i,j,bi,bj)\n",
      "     &       + EmPmR(i,j,bi,bj)\n",
      "     &           *( salt(i,j,ks,bi,bj) - salt_EvPrRn )\n",
      "     &           *mass2rUnit"
     ]
    },
    {
     "cell_type": "code",
     "collapsed": false,
     "input": [],
     "language": "python",
     "metadata": {},
     "outputs": []
    }
   ],
   "metadata": {}
  }
 ]
}