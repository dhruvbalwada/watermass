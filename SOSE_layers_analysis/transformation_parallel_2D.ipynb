{
 "cells": [
  {
   "cell_type": "code",
   "execution_count": 12,
   "metadata": {
    "collapsed": false
   },
   "outputs": [],
   "source": [
    "from IPython.parallel import Client\n",
    "#c = Client()\n",
    "c = Client(profile='parallel_python2.7')\n",
    "dview = c.direct_view()\n",
    "lview = c.load_balanced_view()"
   ]
  },
  {
   "cell_type": "code",
   "execution_count": 13,
   "metadata": {
    "collapsed": false
   },
   "outputs": [
    {
     "name": "stdout",
     "output_type": "stream",
     "text": [
      "importing numpy on engine(s)\n",
      "importing MITgcmmodel,layers,budgets from mitgcmdata on engine(s)\n",
      "importing eos from jmd95 on engine(s)\n"
     ]
    }
   ],
   "source": [
    "with dview.sync_imports():\n",
    "    import numpy\n",
    "    from mitgcmdata import MITgcmmodel, layers, budgets\n",
    "    from jmd95 import eos\n",
    "from matplotlib import pyplot as plt\n",
    "%matplotlib inline"
   ]
  },
  {
   "cell_type": "code",
   "execution_count": 14,
   "metadata": {
    "collapsed": false,
    "scrolled": true
   },
   "outputs": [
    {
     "name": "stdout",
     "output_type": "stream",
     "text": [
      "2160 320  42\n",
      "[stdout:0] 2160 320  42\n",
      "[stdout:1] 2160 320  42\n",
      "[stdout:2] 2160 320  42\n",
      "[stdout:3] 2160 320  42\n",
      "[stdout:4] 2160 320  42\n",
      "[stdout:5] 2160 320  42\n",
      "[stdout:6] 2160 320  42\n",
      "[stdout:7] 2160 320  42\n"
     ]
    },
    {
     "name": "stderr",
     "output_type": "stream",
     "text": [
      "[stderr:0] \n",
      "/home/rpa/mitgcmdata/mitgcmdata/MITgcmmodel.py:75: RuntimeWarning: divide by zero encountered in reciprocal\n",
      "  (self.rac * self.drf * self.hFacC)**-1, 0.)\n",
      "[stderr:1] \n",
      "/home/rpa/mitgcmdata/mitgcmdata/MITgcmmodel.py:75: RuntimeWarning: divide by zero encountered in reciprocal\n",
      "  (self.rac * self.drf * self.hFacC)**-1, 0.)\n",
      "[stderr:2] \n",
      "/home/rpa/mitgcmdata/mitgcmdata/MITgcmmodel.py:75: RuntimeWarning: divide by zero encountered in reciprocal\n",
      "  (self.rac * self.drf * self.hFacC)**-1, 0.)\n",
      "[stderr:3] \n",
      "/home/rpa/mitgcmdata/mitgcmdata/MITgcmmodel.py:75: RuntimeWarning: divide by zero encountered in reciprocal\n",
      "  (self.rac * self.drf * self.hFacC)**-1, 0.)\n",
      "[stderr:4] \n",
      "/home/rpa/mitgcmdata/mitgcmdata/MITgcmmodel.py:75: RuntimeWarning: divide by zero encountered in reciprocal\n",
      "  (self.rac * self.drf * self.hFacC)**-1, 0.)\n",
      "[stderr:5] \n",
      "/home/rpa/mitgcmdata/mitgcmdata/MITgcmmodel.py:75: RuntimeWarning: divide by zero encountered in reciprocal\n",
      "  (self.rac * self.drf * self.hFacC)**-1, 0.)\n",
      "[stderr:6] \n",
      "/home/rpa/mitgcmdata/mitgcmdata/MITgcmmodel.py:75: RuntimeWarning: divide by zero encountered in reciprocal\n",
      "  (self.rac * self.drf * self.hFacC)**-1, 0.)\n",
      "[stderr:7] \n",
      "/home/rpa/mitgcmdata/mitgcmdata/MITgcmmodel.py:75: RuntimeWarning: divide by zero encountered in reciprocal\n",
      "  (self.rac * self.drf * self.hFacC)**-1, 0.)\n"
     ]
    }
   ],
   "source": [
    "%%px --local\n",
    "#ddir = '/data/scratch/rpa/SOSE/run_np240_layers'\n",
    "ddir = '/data/scratch/rpa/SOSE/run_matt'\n",
    "#ddir = '/glade/scratch/rpa/SOSE/run_matt_layers'\n",
    "\n",
    "layers_name = '1RHO'\n",
    "\n",
    "m = MITgcmmodel.ModelInstance(output_dir=ddir, default_iter=480)\n",
    "\n",
    "extra_mask = numpy.zeros(m.shape)\n",
    "extra_mask[:,-1] = 1\n",
    "\n",
    "Slevs = numpy.linspace(32,38,200)\n",
    "\n",
    "drho1 = 0.002\n",
    "drho2 = 0.025\n",
    "rho0 = 1027.9\n",
    "drho = numpy.hstack([\n",
    "        drho1 * numpy.ones(100),\n",
    "        numpy.linspace(drho1, drho2, 200),\n",
    "        drho2 * numpy.ones(100),\n",
    "])\n",
    "rholevs = (rho0 - numpy.cumsum(drho))[::-1]\n",
    "Nrho = len(rholevs)-1\n"
   ]
  },
  {
   "cell_type": "code",
   "execution_count": 15,
   "metadata": {
    "collapsed": false
   },
   "outputs": [],
   "source": [
    "N = 438\n",
    "\n",
    "iter0 = 480\n",
    "diters= 480\n",
    "deltaTclock = 900\n",
    "all_iters = range(iter0, iter0+diters*N, diters)\n"
   ]
  },
  {
   "cell_type": "code",
   "execution_count": 16,
   "metadata": {
    "collapsed": true
   },
   "outputs": [],
   "source": [
    "%%px --local \n",
    "\n",
    "salt_EvPrRn=0.\n",
    "rUnit2mass=1.035E+03\n",
    "HeatCapacity_Cp=3.994E+03\n",
    "\n",
    "fluxfac_T = 1.0/(HeatCapacity_Cp*rUnit2mass)\n",
    "fluxfac_S = 1.0/rUnit2mass\n",
    "\n",
    "# gives m/year\n",
    "scalefac = 24*60*60*365/1e3\n",
    "\n",
    "#Nrho = 300\n",
    "#rholevs = np.linspace(1022.,1028.0,Nrho+1)\n",
    "\n",
    "Nrho = len(rholevs)-1\n",
    "\n",
    "kg_fw_to_m = 1e-3\n",
    "m_to_kg_fw = 1e3\n",
    "\n",
    "fw_flux_types = ['IO_plus_AO', 'AI_plus_AO', 'AI', 'AO', 'IO', 'IO_brine', 'IO_melt']\n",
    "\n",
    "fld_idx = dict()\n",
    "for n, k in enumerate(fw_flux_types):\n",
    "    fld_idx[k] = n\n"
   ]
  },
  {
   "cell_type": "code",
   "execution_count": 17,
   "metadata": {
    "collapsed": false
   },
   "outputs": [],
   "source": [
    "%%px --local\n",
    "deltaT = 900\n",
    "#diag_freq = 2629200. # monthly\n",
    "#diag_prefix = 'DiagIce-monthly'\n",
    "\n",
    "diag_freq = 432000 # 5-day\n",
    "diag_prefix= 'DiagIce-5day'\n",
    "\n",
    "diag_delta_iter = diag_freq/deltaT\n",
    "\n",
    "ntimesteps = 210336\n",
    "diag_iters = numpy.round(numpy.arange(diag_delta_iter, ntimesteps+1, diag_delta_iter)).astype('i4')\n",
    "Nt = len(diag_iters)\n",
    "\n",
    "diag_names = ['SIarea', 'SIheff', 'SIhsnow', 'SItflux', 'SIatmQnt', 'SIempmr',\n",
    "             'SIatmFW', 'SIuheff', 'SIvheff', 'TFLUX', 'SFLUX', 'THETA', 'SALT',\n",
    "             'WTHMASS','WSLTMASS','SIuice','SIvice','SIsnPrcp',\n",
    "             'SIdHbOCN','SIdSbOCN','SIdHbATO']"
   ]
  },
  {
   "cell_type": "code",
   "execution_count": 18,
   "metadata": {
    "collapsed": false
   },
   "outputs": [],
   "source": [
    "%%px --local\n",
    "\n",
    "def vertical_mixing_term(niter):\n",
    "    salt_budget = budgets.TracerBudget(m,\n",
    "                'SO_Sbdg5', 'SO_Surf5d', trname='SLT',\n",
    "                iters=niter)\n",
    "    vmixing = ( salt_budget.vdiff_flux_convergence() + \n",
    "            salt_budget.kpp_flux_convergence() ) * m.drf * m.hFacC\n",
    "    return vmixing\n",
    "\n",
    "def get_dens_flux(niter):\n",
    "    draw = m.rdmds(diag_prefix, niter)\n",
    "    d = {}\n",
    "    for n, dn in enumerate(diag_names):\n",
    "        d[dn] = draw[n]\n",
    "        \n",
    "    salt = d['SALT']\n",
    "    theta = d['THETA']\n",
    "    rho, drhodt, drhods = eos.state_surface(theta, salt)\n",
    "\n",
    "    # freshwater fluxes, evaporation positive\n",
    "    fw_fluxes = {\n",
    "      'IO_plus_AO': numpy.ma.masked_array(d['SIempmr'], m.mask[0]),\n",
    "      'AI_plus_AO': -numpy.ma.masked_array(d['SIatmFW'], m.mask[0]),\n",
    "      'SIsnPrcp':  -numpy.ma.masked_array(d['SIsnPrcp'], m.mask[0])\n",
    "    }\n",
    "    \n",
    "    fw_fluxes['AI'] = fw_fluxes['SIsnPrcp']\n",
    "    fw_fluxes['AO'] = fw_fluxes['AI_plus_AO'] - fw_fluxes['AI']\n",
    "    fw_fluxes['IO'] = fw_fluxes['IO_plus_AO'] - fw_fluxes['AO']\n",
    "    # brine rejection\n",
    "    fw_fluxes['IO_brine'] = numpy.ma.masked_less(fw_fluxes['IO'].copy(), 0.)\n",
    "    # melt\n",
    "    fw_fluxes['IO_melt'] = numpy.ma.masked_greater(fw_fluxes['IO'].copy(), 0.)\n",
    "    \n",
    "    \n",
    "    dens_flux_S = [ drhods * fluxfac_S * fw_fluxes[k].filled(0.) * (salt - salt_EvPrRn)\n",
    "                    for k in fw_flux_types ]\n",
    "\n",
    "    #dens_flux_S.append( drhods * d['WSLTMASS'] )\n",
    "    \n",
    "    return rho, dens_flux_S\n",
    "\n",
    "def calc_transformation_map(rho, rholevs, dfs):\n",
    "\n",
    "    return budgets.regrid_vertical(dfs, rho, rholevs)\n",
    "    \n",
    "   "
   ]
  },
  {
   "cell_type": "code",
   "execution_count": 19,
   "metadata": {
    "collapsed": false
   },
   "outputs": [
    {
     "name": "stdout",
     "output_type": "stream",
     "text": [
      "[stdout:0] 55 480 26400\n",
      "[stdout:1] 55 26880 52800\n",
      "[stdout:2] 55 53280 79200\n",
      "[stdout:3] 55 79680 105600\n",
      "[stdout:4] 55 106080 132000\n",
      "[stdout:5] 55 132480 158400\n",
      "[stdout:6] 54 158880 184320\n",
      "[stdout:7] 54 184800 210240\n"
     ]
    }
   ],
   "source": [
    "# send iters to engines\n",
    "dview.scatter('iters', all_iters)\n",
    "dview.scatter('myid', c.ids)\n",
    "%px print len(iters), iters[0], iters[-1]"
   ]
  },
  {
   "cell_type": "code",
   "execution_count": 9,
   "metadata": {
    "collapsed": false
   },
   "outputs": [
    {
     "ename": "NameError",
     "evalue": "global name 'fw_flux_types' is not defined",
     "output_type": "error",
     "traceback": [
      "\u001b[1;31m---------------------------------------------------------------------------\u001b[0m",
      "\u001b[1;31mNameError\u001b[0m                                 Traceback (most recent call last)",
      "\u001b[1;32m<ipython-input-9-13406eb9ee71>\u001b[0m in \u001b[0;36m<module>\u001b[1;34m()\u001b[0m\n\u001b[1;32m----> 1\u001b[1;33m \u001b[0mget_ipython\u001b[0m\u001b[1;33m(\u001b[0m\u001b[1;33m)\u001b[0m\u001b[1;33m.\u001b[0m\u001b[0mrun_cell_magic\u001b[0m\u001b[1;33m(\u001b[0m\u001b[1;34mu'timeit'\u001b[0m\u001b[1;33m,\u001b[0m \u001b[1;34mu''\u001b[0m\u001b[1;33m,\u001b[0m \u001b[1;34mu\"# serial\\ni = iter0\\nNflux = len(fw_flux_types)\\ntr_map = numpy.zeros((Nflux, Nrho, m.Ny, m.Nx), dtype='f8')\\nrho, dens_flux_S = get_dens_flux(i)\\nfor n in xrange(Nflux):\\n    tr_map[n] += calc_transformation_map(rho, rholevs, dens_flux_S[n])\"\u001b[0m\u001b[1;33m)\u001b[0m\u001b[1;33m\u001b[0m\u001b[0m\n\u001b[0m",
      "\u001b[1;32m/usr/local/anaconda/lib/python2.7/site-packages/IPython/core/interactiveshell.pyc\u001b[0m in \u001b[0;36mrun_cell_magic\u001b[1;34m(self, magic_name, line, cell)\u001b[0m\n\u001b[0;32m   2262\u001b[0m             \u001b[0mmagic_arg_s\u001b[0m \u001b[1;33m=\u001b[0m \u001b[0mself\u001b[0m\u001b[1;33m.\u001b[0m\u001b[0mvar_expand\u001b[0m\u001b[1;33m(\u001b[0m\u001b[0mline\u001b[0m\u001b[1;33m,\u001b[0m \u001b[0mstack_depth\u001b[0m\u001b[1;33m)\u001b[0m\u001b[1;33m\u001b[0m\u001b[0m\n\u001b[0;32m   2263\u001b[0m             \u001b[1;32mwith\u001b[0m \u001b[0mself\u001b[0m\u001b[1;33m.\u001b[0m\u001b[0mbuiltin_trap\u001b[0m\u001b[1;33m:\u001b[0m\u001b[1;33m\u001b[0m\u001b[0m\n\u001b[1;32m-> 2264\u001b[1;33m                 \u001b[0mresult\u001b[0m \u001b[1;33m=\u001b[0m \u001b[0mfn\u001b[0m\u001b[1;33m(\u001b[0m\u001b[0mmagic_arg_s\u001b[0m\u001b[1;33m,\u001b[0m \u001b[0mcell\u001b[0m\u001b[1;33m)\u001b[0m\u001b[1;33m\u001b[0m\u001b[0m\n\u001b[0m\u001b[0;32m   2265\u001b[0m             \u001b[1;32mreturn\u001b[0m \u001b[0mresult\u001b[0m\u001b[1;33m\u001b[0m\u001b[0m\n\u001b[0;32m   2266\u001b[0m \u001b[1;33m\u001b[0m\u001b[0m\n",
      "\u001b[1;32m/usr/local/anaconda/lib/python2.7/site-packages/IPython/core/magics/execution.pyc\u001b[0m in \u001b[0;36mtimeit\u001b[1;34m(self, line, cell)\u001b[0m\n",
      "\u001b[1;32m/usr/local/anaconda/lib/python2.7/site-packages/IPython/core/magic.pyc\u001b[0m in \u001b[0;36m<lambda>\u001b[1;34m(f, *a, **k)\u001b[0m\n\u001b[0;32m    191\u001b[0m     \u001b[1;31m# but it's overkill for just that one bit of state.\u001b[0m\u001b[1;33m\u001b[0m\u001b[1;33m\u001b[0m\u001b[0m\n\u001b[0;32m    192\u001b[0m     \u001b[1;32mdef\u001b[0m \u001b[0mmagic_deco\u001b[0m\u001b[1;33m(\u001b[0m\u001b[0marg\u001b[0m\u001b[1;33m)\u001b[0m\u001b[1;33m:\u001b[0m\u001b[1;33m\u001b[0m\u001b[0m\n\u001b[1;32m--> 193\u001b[1;33m         \u001b[0mcall\u001b[0m \u001b[1;33m=\u001b[0m \u001b[1;32mlambda\u001b[0m \u001b[0mf\u001b[0m\u001b[1;33m,\u001b[0m \u001b[1;33m*\u001b[0m\u001b[0ma\u001b[0m\u001b[1;33m,\u001b[0m \u001b[1;33m**\u001b[0m\u001b[0mk\u001b[0m\u001b[1;33m:\u001b[0m \u001b[0mf\u001b[0m\u001b[1;33m(\u001b[0m\u001b[1;33m*\u001b[0m\u001b[0ma\u001b[0m\u001b[1;33m,\u001b[0m \u001b[1;33m**\u001b[0m\u001b[0mk\u001b[0m\u001b[1;33m)\u001b[0m\u001b[1;33m\u001b[0m\u001b[0m\n\u001b[0m\u001b[0;32m    194\u001b[0m \u001b[1;33m\u001b[0m\u001b[0m\n\u001b[0;32m    195\u001b[0m         \u001b[1;32mif\u001b[0m \u001b[0mcallable\u001b[0m\u001b[1;33m(\u001b[0m\u001b[0marg\u001b[0m\u001b[1;33m)\u001b[0m\u001b[1;33m:\u001b[0m\u001b[1;33m\u001b[0m\u001b[0m\n",
      "\u001b[1;32m/usr/local/anaconda/lib/python2.7/site-packages/IPython/core/magics/execution.pyc\u001b[0m in \u001b[0;36mtimeit\u001b[1;34m(self, line, cell)\u001b[0m\n\u001b[0;32m   1034\u001b[0m             \u001b[0mnumber\u001b[0m \u001b[1;33m=\u001b[0m \u001b[1;36m1\u001b[0m\u001b[1;33m\u001b[0m\u001b[0m\n\u001b[0;32m   1035\u001b[0m             \u001b[1;32mfor\u001b[0m \u001b[0m_\u001b[0m \u001b[1;32min\u001b[0m \u001b[0mrange\u001b[0m\u001b[1;33m(\u001b[0m\u001b[1;36m1\u001b[0m\u001b[1;33m,\u001b[0m \u001b[1;36m10\u001b[0m\u001b[1;33m)\u001b[0m\u001b[1;33m:\u001b[0m\u001b[1;33m\u001b[0m\u001b[0m\n\u001b[1;32m-> 1036\u001b[1;33m                 \u001b[0mtime_number\u001b[0m \u001b[1;33m=\u001b[0m \u001b[0mtimer\u001b[0m\u001b[1;33m.\u001b[0m\u001b[0mtimeit\u001b[0m\u001b[1;33m(\u001b[0m\u001b[0mnumber\u001b[0m\u001b[1;33m)\u001b[0m\u001b[1;33m\u001b[0m\u001b[0m\n\u001b[0m\u001b[0;32m   1037\u001b[0m                 \u001b[0mworst_tuning\u001b[0m \u001b[1;33m=\u001b[0m \u001b[0mmax\u001b[0m\u001b[1;33m(\u001b[0m\u001b[0mworst_tuning\u001b[0m\u001b[1;33m,\u001b[0m \u001b[0mtime_number\u001b[0m \u001b[1;33m/\u001b[0m \u001b[0mnumber\u001b[0m\u001b[1;33m)\u001b[0m\u001b[1;33m\u001b[0m\u001b[0m\n\u001b[0;32m   1038\u001b[0m                 \u001b[1;32mif\u001b[0m \u001b[0mtime_number\u001b[0m \u001b[1;33m>=\u001b[0m \u001b[1;36m0.2\u001b[0m\u001b[1;33m:\u001b[0m\u001b[1;33m\u001b[0m\u001b[0m\n",
      "\u001b[1;32m/usr/local/anaconda/lib/python2.7/site-packages/IPython/core/magics/execution.pyc\u001b[0m in \u001b[0;36mtimeit\u001b[1;34m(self, number)\u001b[0m\n\u001b[0;32m    130\u001b[0m         \u001b[0mgc\u001b[0m\u001b[1;33m.\u001b[0m\u001b[0mdisable\u001b[0m\u001b[1;33m(\u001b[0m\u001b[1;33m)\u001b[0m\u001b[1;33m\u001b[0m\u001b[0m\n\u001b[0;32m    131\u001b[0m         \u001b[1;32mtry\u001b[0m\u001b[1;33m:\u001b[0m\u001b[1;33m\u001b[0m\u001b[0m\n\u001b[1;32m--> 132\u001b[1;33m             \u001b[0mtiming\u001b[0m \u001b[1;33m=\u001b[0m \u001b[0mself\u001b[0m\u001b[1;33m.\u001b[0m\u001b[0minner\u001b[0m\u001b[1;33m(\u001b[0m\u001b[0mit\u001b[0m\u001b[1;33m,\u001b[0m \u001b[0mself\u001b[0m\u001b[1;33m.\u001b[0m\u001b[0mtimer\u001b[0m\u001b[1;33m)\u001b[0m\u001b[1;33m\u001b[0m\u001b[0m\n\u001b[0m\u001b[0;32m    133\u001b[0m         \u001b[1;32mfinally\u001b[0m\u001b[1;33m:\u001b[0m\u001b[1;33m\u001b[0m\u001b[0m\n\u001b[0;32m    134\u001b[0m             \u001b[1;32mif\u001b[0m \u001b[0mgcold\u001b[0m\u001b[1;33m:\u001b[0m\u001b[1;33m\u001b[0m\u001b[0m\n",
      "\u001b[1;32m<magic-timeit>\u001b[0m in \u001b[0;36minner\u001b[1;34m(_it, _timer)\u001b[0m\n",
      "\u001b[1;31mNameError\u001b[0m: global name 'fw_flux_types' is not defined"
     ]
    }
   ],
   "source": [
    "%%timeit\n",
    "# serial\n",
    "i = iter0\n",
    "Nflux = len(fw_flux_types)\n",
    "tr_map = numpy.zeros((Nflux, Nrho, m.Ny, m.Nx), dtype='f8')\n",
    "rho, dens_flux_S = get_dens_flux(i)\n",
    "for n in xrange(Nflux):\n",
    "    tr_map[n] += calc_transformation_map(rho[numpy.newaxis], rholevs,\n",
    "                                         dens_flux_S[n][numpy.newaxis])"
   ]
  },
  {
   "cell_type": "code",
   "execution_count": 16,
   "metadata": {
    "collapsed": false
   },
   "outputs": [],
   "source": [
    "%%px\n",
    "\n",
    "# parallel surface flux calculation\n",
    "\n",
    "# set up variables\n",
    "Nflux = len(fw_flux_types)\n",
    "tr_map = numpy.zeros((Nflux, Nrho, m.Ny, m.Nx), dtype='f8')\n",
    "#print tr_map.nbytes\n",
    "\n",
    "# do calculation\n",
    "for i in iters:\n",
    "    #print i\n",
    "    #tic = time.time()\n",
    "    rho, dens_flux_S = get_dens_flux(i)\n",
    "    for n in xrange(Nflux):\n",
    "        tr_map[n] += calc_transformation_map(rho[numpy.newaxis], rholevs,\n",
    "                                             dens_flux_S[n][numpy.newaxis])\n",
    "    #toc = time.time()\n",
    "    #print toc-tic"
   ]
  },
  {
   "cell_type": "code",
   "execution_count": 11,
   "metadata": {
    "collapsed": false
   },
   "outputs": [
    {
     "name": "stdout",
     "output_type": "stream",
     "text": [
      "1 loops, best of 3: 15.7 s per loop\n"
     ]
    }
   ],
   "source": [
    "%%timeit\n",
    "\n",
    "trmix_map = numpy.zeros((Nrho, m.Ny, m.Nx), dtype='f8')\n",
    "\n",
    "i = iter0\n",
    "theta = m.rdmds('SOstt_5d', i, rec=0)\n",
    "salt = m.rdmds('SOstt_5d', i, rec=1)\n",
    "rho, drhodt, drhods = eos.state_surface(theta.ravel(), salt.ravel())\n",
    "rho.shape = salt.shape\n",
    "drhods.shape = salt.shape\n",
    "vmix = drhods * vertical_mixing_term(i)\n",
    "trmix_map += calc_transformation_map(rho, rholevs, vmix)"
   ]
  },
  {
   "cell_type": "code",
   "execution_count": null,
   "metadata": {
    "collapsed": true
   },
   "outputs": [],
   "source": [
    "%%px\n",
    "\n",
    "# parallel mixing calculation\n",
    "\n",
    "# set up variables\n",
    "trmix_map = numpy.zeros((Nrho, m.Ny, m.Nx), dtype='f8')\n",
    "\n",
    "# do calculation\n",
    "for i in iters:\n",
    "    theta = m.rdmds('SOstt_5d', i, rec=0)\n",
    "    salt = m.rdmds('SOstt_5d', i, rec=1)\n",
    "    rho, drhodt, drhods = eos.state_surface(theta.ravel(), salt.ravel())\n",
    "    rho.shape = salt.shape\n",
    "    drhods.shape = salt.shape\n",
    "    vmix = drhods * vertical_mixing_term(i)\n",
    "    trmix_map += calc_transformation_map(rho, rholevs, vmix)\n",
    "    "
   ]
  },
  {
   "cell_type": "code",
   "execution_count": null,
   "metadata": {
    "collapsed": true
   },
   "outputs": [],
   "source": [
    "numpy.save('/home/rpa/sose_water_mass_transformation/SOSE_layers_analysis/tmp_data/' + \n",
    "           'trmix_map_%02d' % myid[0], trmix_map)"
   ]
  },
  {
   "cell_type": "code",
   "execution_count": 22,
   "metadata": {
    "collapsed": true
   },
   "outputs": [],
   "source": [
    "%%px\n",
    "numpy.save('/home/rpa/sose_water_mass_transformation/SOSE_layers_analysis/tmp_data/' + \n",
    "           'trmix_map_%02d' % myid[0], trmix_map)"
   ]
  },
  {
   "cell_type": "code",
   "execution_count": 24,
   "metadata": {
    "collapsed": false
   },
   "outputs": [],
   "source": [
    "# read and load\n",
    "trmix_map = 0\n",
    "for n in xrange(len(c)):\n",
    "    dtmp = numpy.load('tmp_data/trmix_map_%02d.npy' % n)\n",
    "    trmix_map += dtmp\n",
    "    del dtmp    \n",
    "trmix_map /= N\n",
    "numpy.save('tmp_data/trmix_map', trmix_map)"
   ]
  },
  {
   "cell_type": "code",
   "execution_count": 21,
   "metadata": {
    "collapsed": false
   },
   "outputs": [],
   "source": [
    "# slow b/c a huge array has to get serialized\n",
    "res = dview.gather('tr_map')\n",
    "#tr_map = reduce(numpy.sum, res)"
   ]
  },
  {
   "cell_type": "code",
   "execution_count": 24,
   "metadata": {
    "collapsed": false
   },
   "outputs": [
    {
     "name": "stdout",
     "output_type": "stream",
     "text": [
      "[stdout:0] [0]\n",
      "[stdout:1] [1]\n",
      "[stdout:2] [2]\n",
      "[stdout:3] [3]\n",
      "[stdout:4] [4]\n"
     ]
    }
   ],
   "source": [
    "%%px\n",
    "print myid\n",
    "numpy.save('/home/rpa/sose_water_mass_transformation/SOSE_layers_analysis/tmp_data/tr_map_%02d' % myid[0], tr_map)\n"
   ]
  },
  {
   "cell_type": "code",
   "execution_count": null,
   "metadata": {
    "collapsed": true
   },
   "outputs": [],
   "source": [
    "# read and load\n",
    "tr_map = 0\n",
    "for n in xrange(len(c)):\n",
    "    dtmp = numpy.load('tmp_data/tr_map_%02d.npy' % n)\n",
    "    tr_map += dtmp\n",
    "    del dtmp    \n",
    "tr_map /= N"
   ]
  },
  {
   "cell_type": "code",
   "execution_count": null,
   "metadata": {
    "collapsed": true
   },
   "outputs": [],
   "source": [
    "numpy.save('tmp_data/tr_map', tr_map)\n",
    "numpy.save('tmp_data/rholevs', rholevs)"
   ]
  },
  {
   "cell_type": "code",
   "execution_count": 9,
   "metadata": {
    "collapsed": false
   },
   "outputs": [
    {
     "ename": "KeyboardInterrupt",
     "evalue": "",
     "output_type": "error",
     "traceback": [
      "\u001b[1;31m---------------------------------------------------------------------------\u001b[0m",
      "\u001b[1;31mKeyboardInterrupt\u001b[0m                         Traceback (most recent call last)",
      "\u001b[1;32m<ipython-input-9-d2e030d2cf89>\u001b[0m in \u001b[0;36m<module>\u001b[1;34m()\u001b[0m\n\u001b[0;32m      1\u001b[0m \u001b[0mall_res\u001b[0m \u001b[1;33m=\u001b[0m \u001b[0mlview\u001b[0m\u001b[1;33m.\u001b[0m\u001b[0mmap_async\u001b[0m\u001b[1;33m(\u001b[0m\u001b[0mcalc_transformation_map\u001b[0m\u001b[1;33m,\u001b[0m \u001b[0mdiag_iters\u001b[0m\u001b[1;33m[\u001b[0m\u001b[1;33m:\u001b[0m\u001b[1;36m4\u001b[0m\u001b[1;33m]\u001b[0m\u001b[1;33m)\u001b[0m\u001b[1;33m\u001b[0m\u001b[0m\n\u001b[1;32m----> 2\u001b[1;33m \u001b[0mres\u001b[0m \u001b[1;33m=\u001b[0m \u001b[0mreduce\u001b[0m\u001b[1;33m(\u001b[0m\u001b[0mnumpy\u001b[0m\u001b[1;33m.\u001b[0m\u001b[0msum\u001b[0m\u001b[1;33m,\u001b[0m \u001b[0mall_res\u001b[0m\u001b[1;33m)\u001b[0m\u001b[1;33m\u001b[0m\u001b[0m\n\u001b[0m",
      "\u001b[1;32m/usr/local/anaconda/lib/python2.7/site-packages/IPython/parallel/client/asyncresult.pyc\u001b[0m in \u001b[0;36m__iter__\u001b[1;34m(self)\u001b[0m\n\u001b[0;32m    584\u001b[0m     \u001b[1;32mdef\u001b[0m \u001b[0m__iter__\u001b[0m\u001b[1;33m(\u001b[0m\u001b[0mself\u001b[0m\u001b[1;33m)\u001b[0m\u001b[1;33m:\u001b[0m\u001b[1;33m\u001b[0m\u001b[0m\n\u001b[0;32m    585\u001b[0m         \u001b[0mit\u001b[0m \u001b[1;33m=\u001b[0m \u001b[0mself\u001b[0m\u001b[1;33m.\u001b[0m\u001b[0m_ordered_iter\u001b[0m \u001b[1;32mif\u001b[0m \u001b[0mself\u001b[0m\u001b[1;33m.\u001b[0m\u001b[0mordered\u001b[0m \u001b[1;32melse\u001b[0m \u001b[0mself\u001b[0m\u001b[1;33m.\u001b[0m\u001b[0m_unordered_iter\u001b[0m\u001b[1;33m\u001b[0m\u001b[0m\n\u001b[1;32m--> 586\u001b[1;33m         \u001b[1;32mfor\u001b[0m \u001b[0mr\u001b[0m \u001b[1;32min\u001b[0m \u001b[0mit\u001b[0m\u001b[1;33m(\u001b[0m\u001b[1;33m)\u001b[0m\u001b[1;33m:\u001b[0m\u001b[1;33m\u001b[0m\u001b[0m\n\u001b[0m\u001b[0;32m    587\u001b[0m             \u001b[1;32myield\u001b[0m \u001b[0mr\u001b[0m\u001b[1;33m\u001b[0m\u001b[0m\n\u001b[0;32m    588\u001b[0m \u001b[1;33m\u001b[0m\u001b[0m\n",
      "\u001b[1;32m/usr/local/anaconda/lib/python2.7/site-packages/IPython/parallel/client/asyncresult.pyc\u001b[0m in \u001b[0;36m_ordered_iter\u001b[1;34m(self)\u001b[0m\n\u001b[0;32m    596\u001b[0m             \u001b[1;32mfor\u001b[0m \u001b[0mmsg_id\u001b[0m \u001b[1;32min\u001b[0m \u001b[0mself\u001b[0m\u001b[1;33m.\u001b[0m\u001b[0mmsg_ids\u001b[0m\u001b[1;33m:\u001b[0m\u001b[1;33m\u001b[0m\u001b[0m\n\u001b[0;32m    597\u001b[0m                 \u001b[0mar\u001b[0m \u001b[1;33m=\u001b[0m \u001b[0mAsyncResult\u001b[0m\u001b[1;33m(\u001b[0m\u001b[0mself\u001b[0m\u001b[1;33m.\u001b[0m\u001b[0m_client\u001b[0m\u001b[1;33m,\u001b[0m \u001b[0mmsg_id\u001b[0m\u001b[1;33m,\u001b[0m \u001b[0mself\u001b[0m\u001b[1;33m.\u001b[0m\u001b[0m_fname\u001b[0m\u001b[1;33m)\u001b[0m\u001b[1;33m\u001b[0m\u001b[0m\n\u001b[1;32m--> 598\u001b[1;33m                 \u001b[0mrlist\u001b[0m \u001b[1;33m=\u001b[0m \u001b[0mar\u001b[0m\u001b[1;33m.\u001b[0m\u001b[0mget\u001b[0m\u001b[1;33m(\u001b[0m\u001b[1;33m)\u001b[0m\u001b[1;33m\u001b[0m\u001b[0m\n\u001b[0m\u001b[0;32m    599\u001b[0m                 \u001b[1;32mtry\u001b[0m\u001b[1;33m:\u001b[0m\u001b[1;33m\u001b[0m\u001b[0m\n\u001b[0;32m    600\u001b[0m                     \u001b[1;32mfor\u001b[0m \u001b[0mr\u001b[0m \u001b[1;32min\u001b[0m \u001b[0mrlist\u001b[0m\u001b[1;33m:\u001b[0m\u001b[1;33m\u001b[0m\u001b[0m\n",
      "\u001b[1;32m/usr/local/anaconda/lib/python2.7/site-packages/IPython/parallel/client/asyncresult.pyc\u001b[0m in \u001b[0;36mget\u001b[1;34m(self, timeout)\u001b[0m\n\u001b[0;32m     96\u001b[0m         \"\"\"\n\u001b[0;32m     97\u001b[0m         \u001b[1;32mif\u001b[0m \u001b[1;32mnot\u001b[0m \u001b[0mself\u001b[0m\u001b[1;33m.\u001b[0m\u001b[0mready\u001b[0m\u001b[1;33m(\u001b[0m\u001b[1;33m)\u001b[0m\u001b[1;33m:\u001b[0m\u001b[1;33m\u001b[0m\u001b[0m\n\u001b[1;32m---> 98\u001b[1;33m             \u001b[0mself\u001b[0m\u001b[1;33m.\u001b[0m\u001b[0mwait\u001b[0m\u001b[1;33m(\u001b[0m\u001b[0mtimeout\u001b[0m\u001b[1;33m)\u001b[0m\u001b[1;33m\u001b[0m\u001b[0m\n\u001b[0m\u001b[0;32m     99\u001b[0m \u001b[1;33m\u001b[0m\u001b[0m\n\u001b[0;32m    100\u001b[0m         \u001b[1;32mif\u001b[0m \u001b[0mself\u001b[0m\u001b[1;33m.\u001b[0m\u001b[0m_ready\u001b[0m\u001b[1;33m:\u001b[0m\u001b[1;33m\u001b[0m\u001b[0m\n",
      "\u001b[1;32m/usr/local/anaconda/lib/python2.7/site-packages/IPython/parallel/client/asyncresult.pyc\u001b[0m in \u001b[0;36mwait\u001b[1;34m(self, timeout)\u001b[0m\n\u001b[0;32m    127\u001b[0m             \u001b[0mself\u001b[0m\u001b[1;33m.\u001b[0m\u001b[0m_wait_for_outputs\u001b[0m\u001b[1;33m(\u001b[0m\u001b[0mtimeout\u001b[0m\u001b[1;33m)\u001b[0m\u001b[1;33m\u001b[0m\u001b[0m\n\u001b[0;32m    128\u001b[0m             \u001b[1;32mreturn\u001b[0m\u001b[1;33m\u001b[0m\u001b[0m\n\u001b[1;32m--> 129\u001b[1;33m         \u001b[0mself\u001b[0m\u001b[1;33m.\u001b[0m\u001b[0m_ready\u001b[0m \u001b[1;33m=\u001b[0m \u001b[0mself\u001b[0m\u001b[1;33m.\u001b[0m\u001b[0m_client\u001b[0m\u001b[1;33m.\u001b[0m\u001b[0mwait\u001b[0m\u001b[1;33m(\u001b[0m\u001b[0mself\u001b[0m\u001b[1;33m.\u001b[0m\u001b[0mmsg_ids\u001b[0m\u001b[1;33m,\u001b[0m \u001b[0mtimeout\u001b[0m\u001b[1;33m)\u001b[0m\u001b[1;33m\u001b[0m\u001b[0m\n\u001b[0m\u001b[0;32m    130\u001b[0m         \u001b[1;32mif\u001b[0m \u001b[0mself\u001b[0m\u001b[1;33m.\u001b[0m\u001b[0m_ready\u001b[0m\u001b[1;33m:\u001b[0m\u001b[1;33m\u001b[0m\u001b[0m\n\u001b[0;32m    131\u001b[0m             \u001b[1;32mtry\u001b[0m\u001b[1;33m:\u001b[0m\u001b[1;33m\u001b[0m\u001b[0m\n",
      "\u001b[1;32m/usr/local/anaconda/lib/python2.7/site-packages/IPython/parallel/client/client.pyc\u001b[0m in \u001b[0;36mwait\u001b[1;34m(self, jobs, timeout)\u001b[0m\n\u001b[0;32m   1102\u001b[0m             \u001b[1;32mif\u001b[0m \u001b[0mtimeout\u001b[0m \u001b[1;33m>=\u001b[0m \u001b[1;36m0\u001b[0m \u001b[1;32mand\u001b[0m \u001b[1;33m(\u001b[0m \u001b[0mtime\u001b[0m\u001b[1;33m.\u001b[0m\u001b[0mtime\u001b[0m\u001b[1;33m(\u001b[0m\u001b[1;33m)\u001b[0m\u001b[1;33m-\u001b[0m\u001b[0mtic\u001b[0m \u001b[1;33m)\u001b[0m \u001b[1;33m>\u001b[0m \u001b[0mtimeout\u001b[0m\u001b[1;33m:\u001b[0m\u001b[1;33m\u001b[0m\u001b[0m\n\u001b[0;32m   1103\u001b[0m                 \u001b[1;32mbreak\u001b[0m\u001b[1;33m\u001b[0m\u001b[0m\n\u001b[1;32m-> 1104\u001b[1;33m             \u001b[0mtime\u001b[0m\u001b[1;33m.\u001b[0m\u001b[0msleep\u001b[0m\u001b[1;33m(\u001b[0m\u001b[1;36m1e-3\u001b[0m\u001b[1;33m)\u001b[0m\u001b[1;33m\u001b[0m\u001b[0m\n\u001b[0m\u001b[0;32m   1105\u001b[0m             \u001b[0mself\u001b[0m\u001b[1;33m.\u001b[0m\u001b[0mspin\u001b[0m\u001b[1;33m(\u001b[0m\u001b[1;33m)\u001b[0m\u001b[1;33m\u001b[0m\u001b[0m\n\u001b[0;32m   1106\u001b[0m         \u001b[1;32mreturn\u001b[0m \u001b[0mlen\u001b[0m\u001b[1;33m(\u001b[0m\u001b[0mtheids\u001b[0m\u001b[1;33m.\u001b[0m\u001b[0mintersection\u001b[0m\u001b[1;33m(\u001b[0m\u001b[0mself\u001b[0m\u001b[1;33m.\u001b[0m\u001b[0moutstanding\u001b[0m\u001b[1;33m)\u001b[0m\u001b[1;33m)\u001b[0m \u001b[1;33m==\u001b[0m \u001b[1;36m0\u001b[0m\u001b[1;33m\u001b[0m\u001b[0m\n",
      "\u001b[1;31mKeyboardInterrupt\u001b[0m: "
     ]
    }
   ],
   "source": [
    "# this was slow for some reason\n",
    "#all_res = lview.map_async(calc_transformation_map, diag_iters[:4])\n",
    "#res = reduce(numpy.sum, all_res)"
   ]
  },
  {
   "cell_type": "code",
   "execution_count": 58,
   "metadata": {
    "collapsed": false
   },
   "outputs": [],
   "source": [
    "tm = calc_transformation_map(diag_iters[20])"
   ]
  },
  {
   "cell_type": "code",
   "execution_count": 61,
   "metadata": {
    "collapsed": false
   },
   "outputs": [
    {
     "data": {
      "text/plain": [
       "15.4441728"
      ]
     },
     "execution_count": 61,
     "metadata": {},
     "output_type": "execute_result"
    }
   ],
   "source": [
    "tm.nbytes / 1e9"
   ]
  },
  {
   "cell_type": "code",
   "execution_count": null,
   "metadata": {
    "collapsed": false
   },
   "outputs": [],
   "source": [
    "len(fw_flux_types)"
   ]
  },
  {
   "cell_type": "code",
   "execution_count": null,
   "metadata": {
    "collapsed": true
   },
   "outputs": [],
   "source": []
  },
  {
   "cell_type": "code",
   "execution_count": 16,
   "metadata": {
    "collapsed": false
   },
   "outputs": [
    {
     "data": {
      "text/plain": [
       "[<matplotlib.lines.Line2D at 0x7fd0d6102a50>]"
      ]
     },
     "execution_count": 16,
     "metadata": {},
     "output_type": "execute_result"
    },
    {
     "data": {
      "image/png": "[encoded data removed]",
      "text/plain": [
       "<matplotlib.figure.Figure at 0x7fd112871bd0>"
      ]
     },
     "metadata": {},
     "output_type": "display_data"
    }
   ],
   "source": [
    "reload(budgets)\n",
    "\n",
    "niter = iter0\n",
    "theta = m.rdmds(diag_prefix, niter, rec=11)\n",
    "salt = m.rdmds(diag_prefix, niter, rec=12)\n",
    "rho, drhodt, drhods = eos.state_surface(theta, salt)\n",
    "\n",
    "ones = numpy.ones_like(rho) * m.drf * m.hFacC * m.rac\n",
    "qtr = budgets.regrid_vertical(ones[0][numpy.newaxis], rho[numpy.newaxis], rholevs)\n",
    "plt.plot(rholevs[1:]-1000., qtr.sum(axis=-1).sum(axis=-1))"
   ]
  },
  {
   "cell_type": "code",
   "execution_count": 17,
   "metadata": {
    "collapsed": false
   },
   "outputs": [
    {
     "name": "stdout",
     "output_type": "stream",
     "text": [
      "CPU times: user 1.41 s, sys: 393 ms, total: 1.8 s\n",
      "Wall time: 1.8 s\n"
     ]
    }
   ],
   "source": [
    "# with indexing trick\n",
    "%time qtr = budgets.regrid_vertical(ones[0][numpy.newaxis], rho[numpy.newaxis], rholevs)\n"
   ]
  },
  {
   "cell_type": "code",
   "execution_count": 19,
   "metadata": {
    "collapsed": false
   },
   "outputs": [
    {
     "name": "stdout",
     "output_type": "stream",
     "text": [
      "CPU times: user 4.58 s, sys: 583 ms, total: 5.16 s\n",
      "Wall time: 5.16 s\n"
     ]
    }
   ],
   "source": [
    "reload(budgets)\n",
    "# without trick\n",
    "%time qtr = budgets.regrid_vertical(ones[0][numpy.newaxis], rho[numpy.newaxis], rholevs)\n"
   ]
  },
  {
   "cell_type": "code",
   "execution_count": 20,
   "metadata": {
    "collapsed": false
   },
   "outputs": [
    {
     "data": {
      "text/plain": [
       "[<matplotlib.lines.Line2D at 0x7fd0d602c410>]"
      ]
     },
     "execution_count": 20,
     "metadata": {},
     "output_type": "execute_result"
    },
    {
     "data": {
      "image/png": "[encoded data removed]",
      "text/plain": [
       "<matplotlib.figure.Figure at 0x7fd112864e10>"
      ]
     },
     "metadata": {},
     "output_type": "display_data"
    }
   ],
   "source": [
    "plt.plot(rholevs[1:]-1000., qtr.sum(axis=-1).sum(axis=-1))"
   ]
  },
  {
   "cell_type": "code",
   "execution_count": 8,
   "metadata": {
    "collapsed": false
   },
   "outputs": [],
   "source": [
    "salt_budget = budgets.TracerBudget(m,\n",
    "            'SO_Sbdg5', 'SO_Surf5d', trname='SLT',\n",
    "            iters=iter0)"
   ]
  },
  {
   "cell_type": "code",
   "execution_count": 11,
   "metadata": {
    "collapsed": false
   },
   "outputs": [],
   "source": [
    "vmixing = ( salt_budget.vdiff_flux_convergence() + \n",
    "            salt_budget.kpp_flux_convergence() ) * m.drf * m.hFacC"
   ]
  },
  {
   "cell_type": "code",
   "execution_count": 16,
   "metadata": {
    "collapsed": false
   },
   "outputs": [
    {
     "data": {
      "text/plain": [
       "<matplotlib.collections.QuadMesh at 0x7f72d5690f90>"
      ]
     },
     "execution_count": 16,
     "metadata": {},
     "output_type": "execute_result"
    },
    {
     "data": {
      "image/png": "[encoded data removed]",
      "text/plain": [
       "<matplotlib.figure.Figure at 0x7f72d57225d0>"
      ]
     },
     "metadata": {},
     "output_type": "display_data"
    }
   ],
   "source": [
    "plt.pcolormesh(vmixing[20])"
   ]
  },
  {
   "cell_type": "code",
   "execution_count": null,
   "metadata": {
    "collapsed": true
   },
   "outputs": [],
   "source": []
  }
 ],
 "metadata": {
  "kernelspec": {
   "display_name": "Python 2.7",
   "language": "python",
   "name": "python2"
  },
  "language_info": {
   "codemirror_mode": {
    "name": "ipython",
    "version": 2
   },
   "file_extension": ".py",
   "mimetype": "text/x-python",
   "name": "python",
   "nbconvert_exporter": "python",
   "pygments_lexer": "ipython2",
   "version": "2.7.10"
  }
 },
 "nbformat": 4,
 "nbformat_minor": 0
}
